{
 "cells": [
  {
   "cell_type": "code",
   "execution_count": 1,
   "metadata": {},
   "outputs": [],
   "source": [
    "import numpy as np\n",
    "import matplotlib.pyplot as plt\n",
    "from scipy import interpolate as interp\n",
    "import pickle\n",
    "import os"
   ]
  },
  {
   "cell_type": "code",
   "execution_count": 2,
   "metadata": {},
   "outputs": [],
   "source": [
    "import pandas as pd"
   ]
  },
  {
   "cell_type": "code",
   "execution_count": 3,
   "metadata": {},
   "outputs": [],
   "source": [
    "PROJECT_PATH = \"../\" \n",
    "PARAMS_PATH  = os.path.join(PROJECT_PATH,'params')"
   ]
  },
  {
   "cell_type": "code",
   "execution_count": 5,
   "metadata": {},
   "outputs": [],
   "source": [
    "params = pickle.load(open(os.path.join(PARAMS_PATH,'parameter_search_2.pkl'),'rb'))"
   ]
  },
  {
   "cell_type": "code",
   "execution_count": 6,
   "metadata": {},
   "outputs": [],
   "source": [
    "df_sample = pd.DataFrame.from_dict(params)"
   ]
  },
  {
   "cell_type": "code",
   "execution_count": 7,
   "metadata": {},
   "outputs": [
    {
     "data": {
      "text/html": [
       "<div>\n",
       "<style scoped>\n",
       "    .dataframe tbody tr th:only-of-type {\n",
       "        vertical-align: middle;\n",
       "    }\n",
       "\n",
       "    .dataframe tbody tr th {\n",
       "        vertical-align: top;\n",
       "    }\n",
       "\n",
       "    .dataframe thead th {\n",
       "        text-align: right;\n",
       "    }\n",
       "</style>\n",
       "<table border=\"1\" class=\"dataframe\">\n",
       "  <thead>\n",
       "    <tr style=\"text-align: right;\">\n",
       "      <th></th>\n",
       "      <th>nvp_depth</th>\n",
       "      <th>num_nsf</th>\n",
       "      <th>num_nvp</th>\n",
       "      <th>scale</th>\n",
       "      <th>learningrate_1</th>\n",
       "      <th>learningrate_2</th>\n",
       "      <th>batchsize_1</th>\n",
       "      <th>batchsize_2</th>\n",
       "      <th>noise</th>\n",
       "      <th>nvp_vloss</th>\n",
       "      <th>nvp_tloss</th>\n",
       "      <th>nbins</th>\n",
       "      <th>num_layers_bins</th>\n",
       "      <th>num_layers_slope</th>\n",
       "    </tr>\n",
       "  </thead>\n",
       "  <tbody>\n",
       "    <tr>\n",
       "      <th>0</th>\n",
       "      <td>10</td>\n",
       "      <td>1</td>\n",
       "      <td>3</td>\n",
       "      <td>3.937708</td>\n",
       "      <td>0.001</td>\n",
       "      <td>0.001</td>\n",
       "      <td>32</td>\n",
       "      <td>32</td>\n",
       "      <td>0.0</td>\n",
       "      <td>[42.241295, 10.779238, 7.660332, 6.4092875, 5....</td>\n",
       "      <td>[42.327152, 11.020506, 8.10231, 6.3772206, 5.0...</td>\n",
       "      <td>37</td>\n",
       "      <td>1</td>\n",
       "      <td>1</td>\n",
       "    </tr>\n",
       "    <tr>\n",
       "      <th>1</th>\n",
       "      <td>15</td>\n",
       "      <td>3</td>\n",
       "      <td>8</td>\n",
       "      <td>4.352034</td>\n",
       "      <td>0.001</td>\n",
       "      <td>0.001</td>\n",
       "      <td>32</td>\n",
       "      <td>32</td>\n",
       "      <td>0.0</td>\n",
       "      <td>[42.967407, 10.931497, 7.4963436, 6.080964, 4....</td>\n",
       "      <td>[43.258892, 11.542784, 7.7584004, 6.708452, 4....</td>\n",
       "      <td>32</td>\n",
       "      <td>0</td>\n",
       "      <td>1</td>\n",
       "    </tr>\n",
       "    <tr>\n",
       "      <th>2</th>\n",
       "      <td>18</td>\n",
       "      <td>2</td>\n",
       "      <td>7</td>\n",
       "      <td>4.427980</td>\n",
       "      <td>0.001</td>\n",
       "      <td>0.001</td>\n",
       "      <td>32</td>\n",
       "      <td>32</td>\n",
       "      <td>0.0</td>\n",
       "      <td>[46.59179, 13.15006, 8.353138, 6.543511, 5.384...</td>\n",
       "      <td>[46.67566, 14.098062, 9.396842, 6.7740874, 4.9...</td>\n",
       "      <td>26</td>\n",
       "      <td>0</td>\n",
       "      <td>1</td>\n",
       "    </tr>\n",
       "    <tr>\n",
       "      <th>3</th>\n",
       "      <td>10</td>\n",
       "      <td>2</td>\n",
       "      <td>1</td>\n",
       "      <td>4.296191</td>\n",
       "      <td>0.001</td>\n",
       "      <td>0.001</td>\n",
       "      <td>32</td>\n",
       "      <td>32</td>\n",
       "      <td>0.0</td>\n",
       "      <td>[41.774174, 13.463439, 10.708561, 9.428553, 8....</td>\n",
       "      <td>[41.81338, 13.408532, 11.112705, 9.9601965, 8....</td>\n",
       "      <td>42</td>\n",
       "      <td>1</td>\n",
       "      <td>1</td>\n",
       "    </tr>\n",
       "    <tr>\n",
       "      <th>4</th>\n",
       "      <td>9</td>\n",
       "      <td>3</td>\n",
       "      <td>9</td>\n",
       "      <td>4.178153</td>\n",
       "      <td>0.001</td>\n",
       "      <td>0.001</td>\n",
       "      <td>32</td>\n",
       "      <td>32</td>\n",
       "      <td>0.0</td>\n",
       "      <td>[41.739635, 9.65772, 7.52045, 5.933984, 4.7745...</td>\n",
       "      <td>[41.89113, 9.341336, 7.2300954, 6.6849236, 5.7...</td>\n",
       "      <td>19</td>\n",
       "      <td>1</td>\n",
       "      <td>1</td>\n",
       "    </tr>\n",
       "    <tr>\n",
       "      <th>5</th>\n",
       "      <td>17</td>\n",
       "      <td>0</td>\n",
       "      <td>0</td>\n",
       "      <td>3.133083</td>\n",
       "      <td>0.001</td>\n",
       "      <td>0.001</td>\n",
       "      <td>32</td>\n",
       "      <td>32</td>\n",
       "      <td>0.0</td>\n",
       "      <td>[43.748695, 14.192963, 11.366892, 9.6807, 8.58...</td>\n",
       "      <td>[44.122334, 15.132144, 10.557066, 10.006165, 8...</td>\n",
       "      <td>18</td>\n",
       "      <td>0</td>\n",
       "      <td>0</td>\n",
       "    </tr>\n",
       "    <tr>\n",
       "      <th>6</th>\n",
       "      <td>21</td>\n",
       "      <td>4</td>\n",
       "      <td>6</td>\n",
       "      <td>4.318468</td>\n",
       "      <td>0.001</td>\n",
       "      <td>0.001</td>\n",
       "      <td>32</td>\n",
       "      <td>32</td>\n",
       "      <td>0.0</td>\n",
       "      <td>[44.842606, 13.916009, 8.956221, 6.6188517, 5....</td>\n",
       "      <td>[44.777718, 14.197361, 9.592931, 6.9811068, 6....</td>\n",
       "      <td>33</td>\n",
       "      <td>0</td>\n",
       "      <td>1</td>\n",
       "    </tr>\n",
       "    <tr>\n",
       "      <th>7</th>\n",
       "      <td>22</td>\n",
       "      <td>2</td>\n",
       "      <td>1</td>\n",
       "      <td>2.950180</td>\n",
       "      <td>0.001</td>\n",
       "      <td>0.001</td>\n",
       "      <td>32</td>\n",
       "      <td>32</td>\n",
       "      <td>0.0</td>\n",
       "      <td>[50.97984, 14.996581, 12.268175, 10.911734, 9....</td>\n",
       "      <td>[50.95905, 14.78907, 13.897933, 11.861539, 9.9...</td>\n",
       "      <td>47</td>\n",
       "      <td>1</td>\n",
       "      <td>1</td>\n",
       "    </tr>\n",
       "    <tr>\n",
       "      <th>8</th>\n",
       "      <td>14</td>\n",
       "      <td>4</td>\n",
       "      <td>6</td>\n",
       "      <td>3.290763</td>\n",
       "      <td>0.001</td>\n",
       "      <td>0.001</td>\n",
       "      <td>32</td>\n",
       "      <td>32</td>\n",
       "      <td>0.0</td>\n",
       "      <td>[42.38045, 10.262335, 7.6728907, 6.003979, 5.0...</td>\n",
       "      <td>[42.582504, 10.206031, 7.2406373, 6.853075, 4....</td>\n",
       "      <td>37</td>\n",
       "      <td>1</td>\n",
       "      <td>0</td>\n",
       "    </tr>\n",
       "    <tr>\n",
       "      <th>9</th>\n",
       "      <td>14</td>\n",
       "      <td>1</td>\n",
       "      <td>3</td>\n",
       "      <td>3.534189</td>\n",
       "      <td>0.001</td>\n",
       "      <td>0.001</td>\n",
       "      <td>32</td>\n",
       "      <td>32</td>\n",
       "      <td>0.0</td>\n",
       "      <td>[44.617733, 11.903991, 8.065592, 5.6492767, 5....</td>\n",
       "      <td>[45.175743, 12.981603, 8.427348, 5.2835464, 5....</td>\n",
       "      <td>25</td>\n",
       "      <td>1</td>\n",
       "      <td>1</td>\n",
       "    </tr>\n",
       "    <tr>\n",
       "      <th>10</th>\n",
       "      <td>11</td>\n",
       "      <td>2</td>\n",
       "      <td>3</td>\n",
       "      <td>3.918964</td>\n",
       "      <td>0.001</td>\n",
       "      <td>0.001</td>\n",
       "      <td>32</td>\n",
       "      <td>32</td>\n",
       "      <td>0.0</td>\n",
       "      <td>[41.803314, 11.465463, 8.739099, 6.8781, 5.602...</td>\n",
       "      <td>[41.94253, 11.628746, 8.948559, 6.440266, 5.77...</td>\n",
       "      <td>43</td>\n",
       "      <td>1</td>\n",
       "      <td>1</td>\n",
       "    </tr>\n",
       "    <tr>\n",
       "      <th>11</th>\n",
       "      <td>11</td>\n",
       "      <td>4</td>\n",
       "      <td>7</td>\n",
       "      <td>4.177345</td>\n",
       "      <td>0.001</td>\n",
       "      <td>0.001</td>\n",
       "      <td>32</td>\n",
       "      <td>32</td>\n",
       "      <td>0.0</td>\n",
       "      <td>[41.374794, 9.60494, 6.8763404, 5.798854, 4.46...</td>\n",
       "      <td>[41.57592, 9.677773, 7.020783, 6.3807116, 4.18...</td>\n",
       "      <td>19</td>\n",
       "      <td>0</td>\n",
       "      <td>1</td>\n",
       "    </tr>\n",
       "    <tr>\n",
       "      <th>12</th>\n",
       "      <td>12</td>\n",
       "      <td>3</td>\n",
       "      <td>1</td>\n",
       "      <td>3.190789</td>\n",
       "      <td>0.001</td>\n",
       "      <td>0.001</td>\n",
       "      <td>32</td>\n",
       "      <td>32</td>\n",
       "      <td>0.0</td>\n",
       "      <td>[43.655155, 13.490672, 10.638158, 9.107268, 8....</td>\n",
       "      <td>[44.031418, 13.342923, 11.834745, 9.863329, 8....</td>\n",
       "      <td>23</td>\n",
       "      <td>0</td>\n",
       "      <td>0</td>\n",
       "    </tr>\n",
       "    <tr>\n",
       "      <th>13</th>\n",
       "      <td>21</td>\n",
       "      <td>4</td>\n",
       "      <td>6</td>\n",
       "      <td>3.569468</td>\n",
       "      <td>0.001</td>\n",
       "      <td>0.001</td>\n",
       "      <td>32</td>\n",
       "      <td>32</td>\n",
       "      <td>0.0</td>\n",
       "      <td>[46.97388, 12.79293, 8.53529, 6.6537704, 5.577...</td>\n",
       "      <td>[47.401752, 13.4766245, 9.198713, 6.837682, 5....</td>\n",
       "      <td>18</td>\n",
       "      <td>0</td>\n",
       "      <td>1</td>\n",
       "    </tr>\n",
       "    <tr>\n",
       "      <th>14</th>\n",
       "      <td>5</td>\n",
       "      <td>4</td>\n",
       "      <td>1</td>\n",
       "      <td>4.094553</td>\n",
       "      <td>0.001</td>\n",
       "      <td>0.001</td>\n",
       "      <td>32</td>\n",
       "      <td>32</td>\n",
       "      <td>0.0</td>\n",
       "      <td>[40.410847, 15.505514, 11.037695, 9.742214, 8....</td>\n",
       "      <td>[40.57999, 16.060364, 10.874102, 10.185481, 8....</td>\n",
       "      <td>45</td>\n",
       "      <td>1</td>\n",
       "      <td>0</td>\n",
       "    </tr>\n",
       "    <tr>\n",
       "      <th>15</th>\n",
       "      <td>7</td>\n",
       "      <td>2</td>\n",
       "      <td>3</td>\n",
       "      <td>4.584359</td>\n",
       "      <td>0.001</td>\n",
       "      <td>0.001</td>\n",
       "      <td>32</td>\n",
       "      <td>32</td>\n",
       "      <td>0.0</td>\n",
       "      <td>[40.94143, 10.507678, 8.270522, 6.918906, 5.78...</td>\n",
       "      <td>[40.915085, 10.728332, 8.684209, 7.701917, 6.7...</td>\n",
       "      <td>35</td>\n",
       "      <td>1</td>\n",
       "      <td>0</td>\n",
       "    </tr>\n",
       "    <tr>\n",
       "      <th>16</th>\n",
       "      <td>7</td>\n",
       "      <td>1</td>\n",
       "      <td>9</td>\n",
       "      <td>3.230019</td>\n",
       "      <td>0.001</td>\n",
       "      <td>0.001</td>\n",
       "      <td>32</td>\n",
       "      <td>32</td>\n",
       "      <td>0.0</td>\n",
       "      <td>[40.76732, 11.308843, 8.161929, 7.0339923, 5.8...</td>\n",
       "      <td>[40.91021, 11.8279295, 9.201046, 7.6283402, 6....</td>\n",
       "      <td>44</td>\n",
       "      <td>1</td>\n",
       "      <td>1</td>\n",
       "    </tr>\n",
       "    <tr>\n",
       "      <th>17</th>\n",
       "      <td>9</td>\n",
       "      <td>2</td>\n",
       "      <td>2</td>\n",
       "      <td>4.639971</td>\n",
       "      <td>0.001</td>\n",
       "      <td>0.001</td>\n",
       "      <td>32</td>\n",
       "      <td>32</td>\n",
       "      <td>0.0</td>\n",
       "      <td>[41.021065, 11.679447, 8.836493, 7.397013, 6.3...</td>\n",
       "      <td>[41.28596, 12.42619, 9.722481, 8.236465, 6.579...</td>\n",
       "      <td>43</td>\n",
       "      <td>0</td>\n",
       "      <td>0</td>\n",
       "    </tr>\n",
       "    <tr>\n",
       "      <th>18</th>\n",
       "      <td>13</td>\n",
       "      <td>4</td>\n",
       "      <td>7</td>\n",
       "      <td>3.345050</td>\n",
       "      <td>0.001</td>\n",
       "      <td>0.001</td>\n",
       "      <td>32</td>\n",
       "      <td>32</td>\n",
       "      <td>0.0</td>\n",
       "      <td>[43.0547, 10.241937, 6.968775, 6.0557313, 4.58...</td>\n",
       "      <td>[43.444424, 11.85276, 7.1925817, 5.872888, 4.7...</td>\n",
       "      <td>38</td>\n",
       "      <td>0</td>\n",
       "      <td>0</td>\n",
       "    </tr>\n",
       "    <tr>\n",
       "      <th>19</th>\n",
       "      <td>13</td>\n",
       "      <td>3</td>\n",
       "      <td>9</td>\n",
       "      <td>4.249486</td>\n",
       "      <td>0.001</td>\n",
       "      <td>0.001</td>\n",
       "      <td>32</td>\n",
       "      <td>32</td>\n",
       "      <td>0.0</td>\n",
       "      <td>[42.208256, 9.804164, 7.3546233, 5.2731943, 4....</td>\n",
       "      <td>[42.14994, 10.048951, 7.33152, 5.93239, 4.8199...</td>\n",
       "      <td>36</td>\n",
       "      <td>0</td>\n",
       "      <td>1</td>\n",
       "    </tr>\n",
       "    <tr>\n",
       "      <th>20</th>\n",
       "      <td>9</td>\n",
       "      <td>4</td>\n",
       "      <td>4</td>\n",
       "      <td>4.691857</td>\n",
       "      <td>0.001</td>\n",
       "      <td>0.001</td>\n",
       "      <td>32</td>\n",
       "      <td>32</td>\n",
       "      <td>0.0</td>\n",
       "      <td>[40.945755, 10.015678, 7.1695843, 6.078886, 5....</td>\n",
       "      <td>[41.23112, 10.743207, 6.938398, 7.483485, 5.04...</td>\n",
       "      <td>36</td>\n",
       "      <td>1</td>\n",
       "      <td>0</td>\n",
       "    </tr>\n",
       "    <tr>\n",
       "      <th>21</th>\n",
       "      <td>23</td>\n",
       "      <td>1</td>\n",
       "      <td>4</td>\n",
       "      <td>3.679742</td>\n",
       "      <td>0.001</td>\n",
       "      <td>0.001</td>\n",
       "      <td>32</td>\n",
       "      <td>32</td>\n",
       "      <td>0.0</td>\n",
       "      <td>[50.75471, 16.179873, 11.133082, 8.193339, 6.5...</td>\n",
       "      <td>[51.031387, 17.923492, 11.770029, 8.384889, 6....</td>\n",
       "      <td>47</td>\n",
       "      <td>1</td>\n",
       "      <td>1</td>\n",
       "    </tr>\n",
       "    <tr>\n",
       "      <th>22</th>\n",
       "      <td>6</td>\n",
       "      <td>4</td>\n",
       "      <td>9</td>\n",
       "      <td>3.619932</td>\n",
       "      <td>0.001</td>\n",
       "      <td>0.001</td>\n",
       "      <td>32</td>\n",
       "      <td>32</td>\n",
       "      <td>0.0</td>\n",
       "      <td>[40.849625, 12.681133, 9.499217, 7.9341, 6.940...</td>\n",
       "      <td>[40.914436, 13.03155, 9.933926, 7.7244825, 6.9...</td>\n",
       "      <td>18</td>\n",
       "      <td>1</td>\n",
       "      <td>1</td>\n",
       "    </tr>\n",
       "    <tr>\n",
       "      <th>23</th>\n",
       "      <td>9</td>\n",
       "      <td>2</td>\n",
       "      <td>0</td>\n",
       "      <td>3.475669</td>\n",
       "      <td>0.001</td>\n",
       "      <td>0.001</td>\n",
       "      <td>32</td>\n",
       "      <td>32</td>\n",
       "      <td>0.0</td>\n",
       "      <td>[41.63846, 13.503427, 10.4701, 9.316065, 8.350...</td>\n",
       "      <td>[41.79805, 13.942942, 10.727027, 9.294781, 9.3...</td>\n",
       "      <td>40</td>\n",
       "      <td>1</td>\n",
       "      <td>0</td>\n",
       "    </tr>\n",
       "    <tr>\n",
       "      <th>24</th>\n",
       "      <td>7</td>\n",
       "      <td>3</td>\n",
       "      <td>3</td>\n",
       "      <td>3.087560</td>\n",
       "      <td>0.001</td>\n",
       "      <td>0.001</td>\n",
       "      <td>32</td>\n",
       "      <td>32</td>\n",
       "      <td>0.0</td>\n",
       "      <td>[40.76762, 10.196517, 7.358318, 6.149912, 5.46...</td>\n",
       "      <td>[40.77338, 9.99982, 8.15975, 6.329377, 6.51267...</td>\n",
       "      <td>37</td>\n",
       "      <td>0</td>\n",
       "      <td>1</td>\n",
       "    </tr>\n",
       "    <tr>\n",
       "      <th>25</th>\n",
       "      <td>5</td>\n",
       "      <td>3</td>\n",
       "      <td>8</td>\n",
       "      <td>3.712869</td>\n",
       "      <td>0.001</td>\n",
       "      <td>0.001</td>\n",
       "      <td>32</td>\n",
       "      <td>32</td>\n",
       "      <td>0.0</td>\n",
       "      <td>[40.628944, 12.634885, 9.285875, 7.8405805, 6....</td>\n",
       "      <td>[40.939095, 13.120219, 9.762434, 8.351834, 7.4...</td>\n",
       "      <td>43</td>\n",
       "      <td>1</td>\n",
       "      <td>1</td>\n",
       "    </tr>\n",
       "    <tr>\n",
       "      <th>26</th>\n",
       "      <td>12</td>\n",
       "      <td>1</td>\n",
       "      <td>8</td>\n",
       "      <td>2.990698</td>\n",
       "      <td>0.001</td>\n",
       "      <td>0.001</td>\n",
       "      <td>32</td>\n",
       "      <td>32</td>\n",
       "      <td>0.0</td>\n",
       "      <td>[42.079742, 10.847084, 7.458697, 5.9869046, 4....</td>\n",
       "      <td>[42.06662, 10.619387, 7.7153406, 6.033453, 5.3...</td>\n",
       "      <td>29</td>\n",
       "      <td>0</td>\n",
       "      <td>0</td>\n",
       "    </tr>\n",
       "  </tbody>\n",
       "</table>\n",
       "</div>"
      ],
      "text/plain": [
       "    nvp_depth  num_nsf  num_nvp     scale  learningrate_1  learningrate_2  \\\n",
       "0          10        1        3  3.937708           0.001           0.001   \n",
       "1          15        3        8  4.352034           0.001           0.001   \n",
       "2          18        2        7  4.427980           0.001           0.001   \n",
       "3          10        2        1  4.296191           0.001           0.001   \n",
       "4           9        3        9  4.178153           0.001           0.001   \n",
       "5          17        0        0  3.133083           0.001           0.001   \n",
       "6          21        4        6  4.318468           0.001           0.001   \n",
       "7          22        2        1  2.950180           0.001           0.001   \n",
       "8          14        4        6  3.290763           0.001           0.001   \n",
       "9          14        1        3  3.534189           0.001           0.001   \n",
       "10         11        2        3  3.918964           0.001           0.001   \n",
       "11         11        4        7  4.177345           0.001           0.001   \n",
       "12         12        3        1  3.190789           0.001           0.001   \n",
       "13         21        4        6  3.569468           0.001           0.001   \n",
       "14          5        4        1  4.094553           0.001           0.001   \n",
       "15          7        2        3  4.584359           0.001           0.001   \n",
       "16          7        1        9  3.230019           0.001           0.001   \n",
       "17          9        2        2  4.639971           0.001           0.001   \n",
       "18         13        4        7  3.345050           0.001           0.001   \n",
       "19         13        3        9  4.249486           0.001           0.001   \n",
       "20          9        4        4  4.691857           0.001           0.001   \n",
       "21         23        1        4  3.679742           0.001           0.001   \n",
       "22          6        4        9  3.619932           0.001           0.001   \n",
       "23          9        2        0  3.475669           0.001           0.001   \n",
       "24          7        3        3  3.087560           0.001           0.001   \n",
       "25          5        3        8  3.712869           0.001           0.001   \n",
       "26         12        1        8  2.990698           0.001           0.001   \n",
       "\n",
       "    batchsize_1  batchsize_2  noise  \\\n",
       "0            32           32    0.0   \n",
       "1            32           32    0.0   \n",
       "2            32           32    0.0   \n",
       "3            32           32    0.0   \n",
       "4            32           32    0.0   \n",
       "5            32           32    0.0   \n",
       "6            32           32    0.0   \n",
       "7            32           32    0.0   \n",
       "8            32           32    0.0   \n",
       "9            32           32    0.0   \n",
       "10           32           32    0.0   \n",
       "11           32           32    0.0   \n",
       "12           32           32    0.0   \n",
       "13           32           32    0.0   \n",
       "14           32           32    0.0   \n",
       "15           32           32    0.0   \n",
       "16           32           32    0.0   \n",
       "17           32           32    0.0   \n",
       "18           32           32    0.0   \n",
       "19           32           32    0.0   \n",
       "20           32           32    0.0   \n",
       "21           32           32    0.0   \n",
       "22           32           32    0.0   \n",
       "23           32           32    0.0   \n",
       "24           32           32    0.0   \n",
       "25           32           32    0.0   \n",
       "26           32           32    0.0   \n",
       "\n",
       "                                            nvp_vloss  \\\n",
       "0   [42.241295, 10.779238, 7.660332, 6.4092875, 5....   \n",
       "1   [42.967407, 10.931497, 7.4963436, 6.080964, 4....   \n",
       "2   [46.59179, 13.15006, 8.353138, 6.543511, 5.384...   \n",
       "3   [41.774174, 13.463439, 10.708561, 9.428553, 8....   \n",
       "4   [41.739635, 9.65772, 7.52045, 5.933984, 4.7745...   \n",
       "5   [43.748695, 14.192963, 11.366892, 9.6807, 8.58...   \n",
       "6   [44.842606, 13.916009, 8.956221, 6.6188517, 5....   \n",
       "7   [50.97984, 14.996581, 12.268175, 10.911734, 9....   \n",
       "8   [42.38045, 10.262335, 7.6728907, 6.003979, 5.0...   \n",
       "9   [44.617733, 11.903991, 8.065592, 5.6492767, 5....   \n",
       "10  [41.803314, 11.465463, 8.739099, 6.8781, 5.602...   \n",
       "11  [41.374794, 9.60494, 6.8763404, 5.798854, 4.46...   \n",
       "12  [43.655155, 13.490672, 10.638158, 9.107268, 8....   \n",
       "13  [46.97388, 12.79293, 8.53529, 6.6537704, 5.577...   \n",
       "14  [40.410847, 15.505514, 11.037695, 9.742214, 8....   \n",
       "15  [40.94143, 10.507678, 8.270522, 6.918906, 5.78...   \n",
       "16  [40.76732, 11.308843, 8.161929, 7.0339923, 5.8...   \n",
       "17  [41.021065, 11.679447, 8.836493, 7.397013, 6.3...   \n",
       "18  [43.0547, 10.241937, 6.968775, 6.0557313, 4.58...   \n",
       "19  [42.208256, 9.804164, 7.3546233, 5.2731943, 4....   \n",
       "20  [40.945755, 10.015678, 7.1695843, 6.078886, 5....   \n",
       "21  [50.75471, 16.179873, 11.133082, 8.193339, 6.5...   \n",
       "22  [40.849625, 12.681133, 9.499217, 7.9341, 6.940...   \n",
       "23  [41.63846, 13.503427, 10.4701, 9.316065, 8.350...   \n",
       "24  [40.76762, 10.196517, 7.358318, 6.149912, 5.46...   \n",
       "25  [40.628944, 12.634885, 9.285875, 7.8405805, 6....   \n",
       "26  [42.079742, 10.847084, 7.458697, 5.9869046, 4....   \n",
       "\n",
       "                                            nvp_tloss  nbins  num_layers_bins  \\\n",
       "0   [42.327152, 11.020506, 8.10231, 6.3772206, 5.0...     37                1   \n",
       "1   [43.258892, 11.542784, 7.7584004, 6.708452, 4....     32                0   \n",
       "2   [46.67566, 14.098062, 9.396842, 6.7740874, 4.9...     26                0   \n",
       "3   [41.81338, 13.408532, 11.112705, 9.9601965, 8....     42                1   \n",
       "4   [41.89113, 9.341336, 7.2300954, 6.6849236, 5.7...     19                1   \n",
       "5   [44.122334, 15.132144, 10.557066, 10.006165, 8...     18                0   \n",
       "6   [44.777718, 14.197361, 9.592931, 6.9811068, 6....     33                0   \n",
       "7   [50.95905, 14.78907, 13.897933, 11.861539, 9.9...     47                1   \n",
       "8   [42.582504, 10.206031, 7.2406373, 6.853075, 4....     37                1   \n",
       "9   [45.175743, 12.981603, 8.427348, 5.2835464, 5....     25                1   \n",
       "10  [41.94253, 11.628746, 8.948559, 6.440266, 5.77...     43                1   \n",
       "11  [41.57592, 9.677773, 7.020783, 6.3807116, 4.18...     19                0   \n",
       "12  [44.031418, 13.342923, 11.834745, 9.863329, 8....     23                0   \n",
       "13  [47.401752, 13.4766245, 9.198713, 6.837682, 5....     18                0   \n",
       "14  [40.57999, 16.060364, 10.874102, 10.185481, 8....     45                1   \n",
       "15  [40.915085, 10.728332, 8.684209, 7.701917, 6.7...     35                1   \n",
       "16  [40.91021, 11.8279295, 9.201046, 7.6283402, 6....     44                1   \n",
       "17  [41.28596, 12.42619, 9.722481, 8.236465, 6.579...     43                0   \n",
       "18  [43.444424, 11.85276, 7.1925817, 5.872888, 4.7...     38                0   \n",
       "19  [42.14994, 10.048951, 7.33152, 5.93239, 4.8199...     36                0   \n",
       "20  [41.23112, 10.743207, 6.938398, 7.483485, 5.04...     36                1   \n",
       "21  [51.031387, 17.923492, 11.770029, 8.384889, 6....     47                1   \n",
       "22  [40.914436, 13.03155, 9.933926, 7.7244825, 6.9...     18                1   \n",
       "23  [41.79805, 13.942942, 10.727027, 9.294781, 9.3...     40                1   \n",
       "24  [40.77338, 9.99982, 8.15975, 6.329377, 6.51267...     37                0   \n",
       "25  [40.939095, 13.120219, 9.762434, 8.351834, 7.4...     43                1   \n",
       "26  [42.06662, 10.619387, 7.7153406, 6.033453, 5.3...     29                0   \n",
       "\n",
       "    num_layers_slope  \n",
       "0                  1  \n",
       "1                  1  \n",
       "2                  1  \n",
       "3                  1  \n",
       "4                  1  \n",
       "5                  0  \n",
       "6                  1  \n",
       "7                  1  \n",
       "8                  0  \n",
       "9                  1  \n",
       "10                 1  \n",
       "11                 1  \n",
       "12                 0  \n",
       "13                 1  \n",
       "14                 0  \n",
       "15                 0  \n",
       "16                 1  \n",
       "17                 0  \n",
       "18                 0  \n",
       "19                 1  \n",
       "20                 0  \n",
       "21                 1  \n",
       "22                 1  \n",
       "23                 0  \n",
       "24                 1  \n",
       "25                 1  \n",
       "26                 0  "
      ]
     },
     "execution_count": 7,
     "metadata": {},
     "output_type": "execute_result"
    }
   ],
   "source": [
    "\n",
    "df_sample"
   ]
  },
  {
   "cell_type": "code",
   "execution_count": 9,
   "metadata": {},
   "outputs": [],
   "source": [
    "df_sample['final_err'] = np.zeros(27)\n",
    "df_sample['min_err'] = np.zeros(27)\n",
    "df_sample['final_deriv'] = np.zeros(27)\n",
    "df_sample['avg_deriv'] = np.zeros(27)"
   ]
  },
  {
   "cell_type": "code",
   "execution_count": 10,
   "metadata": {},
   "outputs": [],
   "source": [
    "df = df_sample"
   ]
  },
  {
   "cell_type": "code",
   "execution_count": 11,
   "metadata": {},
   "outputs": [
    {
     "data": {
      "text/plain": [
       "(150,)"
      ]
     },
     "execution_count": 11,
     "metadata": {},
     "output_type": "execute_result"
    }
   ],
   "source": [
    "df['nvp_vloss'][19].shape"
   ]
  },
  {
   "cell_type": "code",
   "execution_count": 13,
   "metadata": {},
   "outputs": [
    {
     "data": {
      "text/plain": [
       "(-5, 0)"
      ]
     },
     "execution_count": 13,
     "metadata": {},
     "output_type": "execute_result"
    },
    {
     "data": {
      "image/png": "[encoded data removed]",
      "text/plain": [
       "<Figure size 432x288 with 1 Axes>"
      ]
     },
     "metadata": {
      "needs_background": "light"
     },
     "output_type": "display_data"
    }
   ],
   "source": [
    "# use minimum between minimum and curent value+mean(deriv)*delta_step (delta_step=50000)?\n",
    "for ii in range(27):\n",
    "    num    = len(df['nvp_vloss'][ii])\n",
    "    #print(num)\n",
    "    splrep = interp.splrep(np.arange(num), df['nvp_vloss'][ii])\n",
    "    plt.plot(np.arange(num),interp.splev(np.arange(num),splrep))\n",
    "    #plt.plot(np.arange(num),df['nvp_vloss'][ii],ls='--', marker='',label='%d'%ii)\n",
    "    deriv   = interp.splev(np.arange(num),splrep,der=1)\n",
    "    minimum = min(interp.splev(np.arange(num),splrep))\n",
    "    df_sample.at[ii,'final_err']   = interp.splev(np.arange(num),splrep)[num-1]\n",
    "    df_sample.at[ii,'min_err']     = minimum\n",
    "    df_sample.at[ii,'final_deriv'] = deriv[num-1]\n",
    "    df_sample.at[ii,'avg_deriv']   = np.mean(deriv[num-20:num-1])\n",
    "    #plt.axvline(num-10000)\n",
    "#plt.legend(loc='upper right')\n",
    "plt.ylim(-5,0)"
   ]
  },
  {
   "cell_type": "code",
   "execution_count": 18,
   "metadata": {},
   "outputs": [],
   "source": [
    "regressor = df_sample[0:14]"
   ]
  },
  {
   "cell_type": "code",
   "execution_count": 14,
   "metadata": {},
   "outputs": [],
   "source": [
    "regressor = df_sample"
   ]
  },
  {
   "cell_type": "code",
   "execution_count": 15,
   "metadata": {},
   "outputs": [
    {
     "data": {
      "text/plain": [
       "Index(['nvp_depth', 'num_nsf', 'num_nvp', 'scale', 'learningrate_1',\n",
       "       'learningrate_2', 'batchsize_1', 'batchsize_2', 'noise', 'nvp_vloss',\n",
       "       'nvp_tloss', 'nbins', 'num_layers_bins', 'num_layers_slope',\n",
       "       'final_err', 'min_err', 'final_deriv', 'avg_deriv'],\n",
       "      dtype='object')"
      ]
     },
     "execution_count": 15,
     "metadata": {},
     "output_type": "execute_result"
    }
   ],
   "source": [
    "df.columns"
   ]
  },
  {
   "cell_type": "code",
   "execution_count": 63,
   "metadata": {},
   "outputs": [],
   "source": [
    "x = regressor[['nvp_depth', 'num_nsf', 'num_nvp', 'scale','nbins']]#, 'final_err','min_err', 'final_deriv', 'avg_deriv']]"
   ]
  },
  {
   "cell_type": "code",
   "execution_count": 64,
   "metadata": {},
   "outputs": [],
   "source": [
    "x = x.to_numpy()"
   ]
  },
  {
   "cell_type": "code",
   "execution_count": 65,
   "metadata": {},
   "outputs": [
    {
     "data": {
      "image/png": "[encoded data removed]",
      "text/plain": [
       "<Figure size 432x288 with 1 Axes>"
      ]
     },
     "metadata": {
      "needs_background": "light"
     },
     "output_type": "display_data"
    },
    {
     "data": {
      "image/png": "[encoded data removed]",
      "text/plain": [
       "<Figure size 432x288 with 1 Axes>"
      ]
     },
     "metadata": {
      "needs_background": "light"
     },
     "output_type": "display_data"
    },
    {
     "data": {
      "image/png": "[encoded data removed]",
      "text/plain": [
       "<Figure size 432x288 with 1 Axes>"
      ]
     },
     "metadata": {
      "needs_background": "light"
     },
     "output_type": "display_data"
    },
    {
     "data": {
      "image/png": "[encoded data removed]",
      "text/plain": [
       "<Figure size 432x288 with 1 Axes>"
      ]
     },
     "metadata": {
      "needs_background": "light"
     },
     "output_type": "display_data"
    },
    {
     "data": {
      "image/png": "[encoded data removed]",
      "text/plain": [
       "<Figure size 432x288 with 1 Axes>"
      ]
     },
     "metadata": {
      "needs_background": "light"
     },
     "output_type": "display_data"
    }
   ],
   "source": [
    "for ii in range(5):\n",
    "    _ = plt.hist(x[:,ii], bins=100)\n",
    "    plt.show()"
   ]
  },
  {
   "cell_type": "code",
   "execution_count": 66,
   "metadata": {},
   "outputs": [],
   "source": [
    "x[np.where(x==0)]=1e-5"
   ]
  },
  {
   "cell_type": "code",
   "execution_count": 67,
   "metadata": {},
   "outputs": [],
   "source": [
    "x = np.log(x)"
   ]
  },
  {
   "cell_type": "code",
   "execution_count": 68,
   "metadata": {},
   "outputs": [
    {
     "data": {
      "text/plain": [
       "(27, 5)"
      ]
     },
     "execution_count": 68,
     "metadata": {},
     "output_type": "execute_result"
    }
   ],
   "source": [
    "x.shape"
   ]
  },
  {
   "cell_type": "code",
   "execution_count": 69,
   "metadata": {},
   "outputs": [
    {
     "data": {
      "image/png": "[encoded data removed]",
      "text/plain": [
       "<Figure size 432x288 with 1 Axes>"
      ]
     },
     "metadata": {
      "needs_background": "light"
     },
     "output_type": "display_data"
    },
    {
     "data": {
      "image/png": "[encoded data removed]",
      "text/plain": [
       "<Figure size 432x288 with 1 Axes>"
      ]
     },
     "metadata": {
      "needs_background": "light"
     },
     "output_type": "display_data"
    },
    {
     "data": {
      "image/png": "[encoded data removed]",
      "text/plain": [
       "<Figure size 432x288 with 1 Axes>"
      ]
     },
     "metadata": {
      "needs_background": "light"
     },
     "output_type": "display_data"
    },
    {
     "data": {
      "image/png": "[encoded data removed]",
      "text/plain": [
       "<Figure size 432x288 with 1 Axes>"
      ]
     },
     "metadata": {
      "needs_background": "light"
     },
     "output_type": "display_data"
    },
    {
     "data": {
      "image/png": "[encoded data removed]",
      "text/plain": [
       "<Figure size 432x288 with 1 Axes>"
      ]
     },
     "metadata": {
      "needs_background": "light"
     },
     "output_type": "display_data"
    }
   ],
   "source": [
    "for ii in range(5):\n",
    "    _ = plt.hist(x[:,ii], bins=100)\n",
    "    plt.show()"
   ]
  },
  {
   "cell_type": "code",
   "execution_count": 70,
   "metadata": {},
   "outputs": [
    {
     "data": {
      "text/plain": [
       "<matplotlib.collections.PathCollection at 0x2aaaf8815b20>"
      ]
     },
     "execution_count": 70,
     "metadata": {},
     "output_type": "execute_result"
    },
    {
     "data": {
      "image/png": "[encoded data removed]",
      "text/plain": [
       "<Figure size 432x288 with 1 Axes>"
      ]
     },
     "metadata": {
      "needs_background": "light"
     },
     "output_type": "display_data"
    }
   ],
   "source": [
    "plt.scatter(x[:,0],x[:,1])#,c=y)"
   ]
  },
  {
   "cell_type": "code",
   "execution_count": 102,
   "metadata": {},
   "outputs": [],
   "source": [
    "#y = #, 'final_err','min_err', 'final_deriv', 'avg_deriv']]"
   ]
  },
  {
   "cell_type": "code",
   "execution_count": 71,
   "metadata": {},
   "outputs": [],
   "source": [
    "y = regressor[['final_err']].to_numpy()+100*regressor[['avg_deriv']].to_numpy()"
   ]
  },
  {
   "cell_type": "code",
   "execution_count": 72,
   "metadata": {},
   "outputs": [
    {
     "data": {
      "text/plain": [
       "array([[-5.26826601],\n",
       "       [-5.50721361],\n",
       "       [-3.22260742],\n",
       "       [-1.37588382],\n",
       "       [-2.80904793],\n",
       "       [ 1.33837263],\n",
       "       [-4.62850355],\n",
       "       [ 2.72867537],\n",
       "       [-6.19272312],\n",
       "       [-3.16873346],\n",
       "       [-5.48916607],\n",
       "       [-4.78451171],\n",
       "       [-0.08571448],\n",
       "       [-4.95173075],\n",
       "       [ 0.82401024],\n",
       "       [-3.19801929],\n",
       "       [-3.75560763],\n",
       "       [-1.64856162],\n",
       "       [-3.7452794 ],\n",
       "       [-4.84641022],\n",
       "       [-4.27767358],\n",
       "       [-3.51970384],\n",
       "       [-1.72704634],\n",
       "       [ 2.13790567],\n",
       "       [-3.90722675],\n",
       "       [-0.29545811],\n",
       "       [-4.82094101]])"
      ]
     },
     "execution_count": 72,
     "metadata": {},
     "output_type": "execute_result"
    }
   ],
   "source": [
    "#y = np.log(y)\n",
    "y"
   ]
  },
  {
   "cell_type": "code",
   "execution_count": 76,
   "metadata": {},
   "outputs": [
    {
     "name": "stdout",
     "output_type": "stream",
     "text": [
      "GaussianProcessRegressor(alpha=1e-10, copy_X_train=True,\n",
      "                         kernel=1**2 * RBF(length_scale=1),\n",
      "                         n_restarts_optimizer=100, normalize_y=False,\n",
      "                         optimizer='fmin_l_bfgs_b', random_state=None)\n"
     ]
    }
   ],
   "source": [
    "\n",
    "from sklearn.gaussian_process import GaussianProcessRegressor\n",
    "from sklearn.gaussian_process.kernels import RBF, ConstantKernel as C\n",
    "\n",
    "\n",
    "kernel = C(1.0, (1e-3, 1e3)) * RBF(1, (1e-3, 1e3))\n",
    "#Instanciate a Gaussian Process model\n",
    "gp     = GaussianProcessRegressor(kernel=kernel, n_restarts_optimizer=100)\n",
    "print(gp)"
   ]
  },
  {
   "cell_type": "code",
   "execution_count": 77,
   "metadata": {},
   "outputs": [
    {
     "data": {
      "text/plain": [
       "GaussianProcessRegressor(alpha=1e-10, copy_X_train=True,\n",
       "                         kernel=1**2 * RBF(length_scale=1),\n",
       "                         n_restarts_optimizer=100, normalize_y=False,\n",
       "                         optimizer='fmin_l_bfgs_b', random_state=None)"
      ]
     },
     "execution_count": 77,
     "metadata": {},
     "output_type": "execute_result"
    }
   ],
   "source": [
    "# fit on averages of full rescaled set\n",
    "gp.fit(x,y)"
   ]
  },
  {
   "cell_type": "code",
   "execution_count": 78,
   "metadata": {},
   "outputs": [
    {
     "data": {
      "text/plain": [
       "array([[-5.26826601]])"
      ]
     },
     "execution_count": 78,
     "metadata": {},
     "output_type": "execute_result"
    }
   ],
   "source": [
    "gp.predict([[ 2.30258509,   0.        ,   1.09861229,   1.3705988 ,  3.61091791  ]])"
   ]
  },
  {
   "cell_type": "code",
   "execution_count": 28,
   "metadata": {},
   "outputs": [
    {
     "data": {
      "text/plain": [
       "array([[40,  1,  2,  3]])"
      ]
     },
     "execution_count": 28,
     "metadata": {},
     "output_type": "execute_result"
    }
   ],
   "source": [
    "np.hstack(([[40]],[[1,2,3]]))"
   ]
  },
  {
   "cell_type": "code",
   "execution_count": 29,
   "metadata": {},
   "outputs": [],
   "source": [
    "from scipy.optimize import minimize"
   ]
  },
  {
   "cell_type": "code",
   "execution_count": 84,
   "metadata": {},
   "outputs": [],
   "source": [
    "res = minimize(fun= lambda x: gp.predict([x]), x0=res['x'], method='Nelder-Mead')"
   ]
  },
  {
   "cell_type": "code",
   "execution_count": 85,
   "metadata": {},
   "outputs": [
    {
     "data": {
      "text/plain": [
       "(array([14.46087809,  3.42106351,  4.3051357 ,  3.14458116, 32.55357034]),\n",
       " -9.507035743017699,\n",
       " True)"
      ]
     },
     "execution_count": 85,
     "metadata": {},
     "output_type": "execute_result"
    }
   ],
   "source": [
    "np.exp(res['x']), res['fun'], res['success']"
   ]
  },
  {
   "cell_type": "code",
   "execution_count": 81,
   "metadata": {},
   "outputs": [
    {
     "data": {
      "text/plain": [
       "(array([ 8.80175542,  1.73074756,  0.83404078,  4.59890844, 39.85449701]),\n",
       " -1.7248240648993745,\n",
       " True)"
      ]
     },
     "execution_count": 81,
     "metadata": {},
     "output_type": "execute_result"
    }
   ],
   "source": [
    "np.exp(res['x']), res['fun'], res['success']"
   ]
  },
  {
   "cell_type": "code",
   "execution_count": 82,
   "metadata": {},
   "outputs": [],
   "source": [
    "res = minimize(fun= lambda x: gp.predict([x]), x0=[2,0,0,1,3], method='COBYLA')"
   ]
  },
  {
   "cell_type": "code",
   "execution_count": 83,
   "metadata": {},
   "outputs": [
    {
     "data": {
      "text/plain": [
       "(array([14.4608301 ,  3.4207876 ,  4.30516538,  3.14459554, 32.55572568]),\n",
       " -9.507035742049155,\n",
       " True)"
      ]
     },
     "execution_count": 83,
     "metadata": {},
     "output_type": "execute_result"
    }
   ],
   "source": [
    "np.exp(res['x']), res['fun'], res['success']"
   ]
  },
  {
   "cell_type": "code",
   "execution_count": 90,
   "metadata": {},
   "outputs": [],
   "source": [
    "res = minimize(fun= lambda x: gp.predict([x]), x0=[3,1,3,1,3], method='COBYLA')"
   ]
  },
  {
   "cell_type": "code",
   "execution_count": 91,
   "metadata": {},
   "outputs": [
    {
     "data": {
      "text/plain": [
       "(array([14.46061257,  3.42124583,  4.30514069,  3.14478408, 32.55498715]),\n",
       " -9.507035713898391,\n",
       " True)"
      ]
     },
     "execution_count": 91,
     "metadata": {},
     "output_type": "execute_result"
    }
   ],
   "source": [
    "np.exp(res['x']), res['fun'], res['success']"
   ]
  },
  {
   "cell_type": "code",
   "execution_count": null,
   "metadata": {},
   "outputs": [],
   "source": [
    "'nvp_depth', 'num_nsf', 'num_nvp', 'scale','nbins'"
   ]
  }
 ],
 "metadata": {
  "kernelspec": {
   "display_name": "tf22",
   "language": "python",
   "name": "tf22"
  },
  "language_info": {
   "codemirror_mode": {
    "name": "ipython",
    "version": 3
   },
   "file_extension": ".py",
   "mimetype": "text/x-python",
   "name": "python",
   "nbconvert_exporter": "python",
   "pygments_lexer": "ipython3",
   "version": "3.8.3"
  }
 },
 "nbformat": 4,
 "nbformat_minor": 4
}
