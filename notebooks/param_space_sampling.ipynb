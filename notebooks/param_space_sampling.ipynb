{
 "cells": [
  {
   "cell_type": "code",
   "execution_count": 1,
   "metadata": {},
   "outputs": [
    {
     "name": "stderr",
     "output_type": "stream",
     "text": [
      "Matplotlib is building the font cache using fc-list. This may take a moment.\n"
     ]
    }
   ],
   "source": [
    "import numpy as np\n",
    "import matplotlib.pyplot as plt\n",
    "from scipy import interpolate as interp"
   ]
  },
  {
   "cell_type": "code",
   "execution_count": 2,
   "metadata": {},
   "outputs": [],
   "source": [
    "import pandas as pd"
   ]
  },
  {
   "cell_type": "code",
   "execution_count": 3,
   "metadata": {},
   "outputs": [],
   "source": [
    "params = {}"
   ]
  },
  {
   "cell_type": "code",
   "execution_count": 4,
   "metadata": {},
   "outputs": [],
   "source": [
    "np.random.seed(10)"
   ]
  },
  {
   "cell_type": "code",
   "execution_count": 5,
   "metadata": {},
   "outputs": [],
   "source": [
    "params['lsize'] = np.arange(20,50)\n",
    "np.random.shuffle(params['lsize'])"
   ]
  },
  {
   "cell_type": "code",
   "execution_count": 6,
   "metadata": {},
   "outputs": [],
   "source": [
    "params['lrate'] = np.linspace(5e-5,5e-3,30)\n",
    "np.random.shuffle(params['lrate'])"
   ]
  },
  {
   "cell_type": "code",
   "execution_count": 7,
   "metadata": {},
   "outputs": [],
   "source": [
    "params['bsize'] = np.arange(8,128,4)\n",
    "np.random.shuffle(params['bsize'])"
   ]
  },
  {
   "cell_type": "code",
   "execution_count": 8,
   "metadata": {},
   "outputs": [],
   "source": [
    "params['drate'] = np.linspace(0.1,0.6,30)\n",
    "np.random.shuffle(params['drate'])"
   ]
  },
  {
   "cell_type": "code",
   "execution_count": 9,
   "metadata": {},
   "outputs": [],
   "source": [
    "params['deg']   = np.linspace(0,29,30)\n",
    "np.random.shuffle(params['deg'])"
   ]
  },
  {
   "cell_type": "code",
   "execution_count": 10,
   "metadata": {},
   "outputs": [],
   "source": [
    "df_sample = pd.read_csv('/global/homes/v/vboehm/codes/PAE/train_param_search/params_overview.csv')"
   ]
  },
  {
   "cell_type": "code",
   "execution_count": 11,
   "metadata": {},
   "outputs": [
    {
     "data": {
      "text/html": [
       "<div>\n",
       "<style scoped>\n",
       "    .dataframe tbody tr th:only-of-type {\n",
       "        vertical-align: middle;\n",
       "    }\n",
       "\n",
       "    .dataframe tbody tr th {\n",
       "        vertical-align: top;\n",
       "    }\n",
       "\n",
       "    .dataframe thead th {\n",
       "        text-align: right;\n",
       "    }\n",
       "</style>\n",
       "<table border=\"1\" class=\"dataframe\">\n",
       "  <thead>\n",
       "    <tr style=\"text-align: right;\">\n",
       "      <th></th>\n",
       "      <th>level_0</th>\n",
       "      <th>lsize</th>\n",
       "      <th>lrate</th>\n",
       "      <th>bsize</th>\n",
       "      <th>drate</th>\n",
       "      <th>deg</th>\n",
       "    </tr>\n",
       "  </thead>\n",
       "  <tbody>\n",
       "    <tr>\n",
       "      <th>0</th>\n",
       "      <td>0</td>\n",
       "      <td>22</td>\n",
       "      <td>0.002952</td>\n",
       "      <td>72</td>\n",
       "      <td>0.324138</td>\n",
       "      <td>8</td>\n",
       "    </tr>\n",
       "    <tr>\n",
       "      <th>1</th>\n",
       "      <td>1</td>\n",
       "      <td>38</td>\n",
       "      <td>0.001245</td>\n",
       "      <td>84</td>\n",
       "      <td>0.548276</td>\n",
       "      <td>25</td>\n",
       "    </tr>\n",
       "    <tr>\n",
       "      <th>2</th>\n",
       "      <td>2</td>\n",
       "      <td>24</td>\n",
       "      <td>0.003293</td>\n",
       "      <td>104</td>\n",
       "      <td>0.531034</td>\n",
       "      <td>29</td>\n",
       "    </tr>\n",
       "    <tr>\n",
       "      <th>3</th>\n",
       "      <td>3</td>\n",
       "      <td>28</td>\n",
       "      <td>0.000733</td>\n",
       "      <td>40</td>\n",
       "      <td>0.151724</td>\n",
       "      <td>20</td>\n",
       "    </tr>\n",
       "    <tr>\n",
       "      <th>4</th>\n",
       "      <td>4</td>\n",
       "      <td>47</td>\n",
       "      <td>0.004659</td>\n",
       "      <td>100</td>\n",
       "      <td>0.289655</td>\n",
       "      <td>12</td>\n",
       "    </tr>\n",
       "    <tr>\n",
       "      <th>5</th>\n",
       "      <td>5</td>\n",
       "      <td>35</td>\n",
       "      <td>0.004317</td>\n",
       "      <td>120</td>\n",
       "      <td>0.255172</td>\n",
       "      <td>16</td>\n",
       "    </tr>\n",
       "    <tr>\n",
       "      <th>6</th>\n",
       "      <td>6</td>\n",
       "      <td>44</td>\n",
       "      <td>0.002610</td>\n",
       "      <td>52</td>\n",
       "      <td>0.358621</td>\n",
       "      <td>13</td>\n",
       "    </tr>\n",
       "    <tr>\n",
       "      <th>7</th>\n",
       "      <td>7</td>\n",
       "      <td>20</td>\n",
       "      <td>0.005000</td>\n",
       "      <td>80</td>\n",
       "      <td>0.186207</td>\n",
       "      <td>0</td>\n",
       "    </tr>\n",
       "    <tr>\n",
       "      <th>8</th>\n",
       "      <td>8</td>\n",
       "      <td>32</td>\n",
       "      <td>0.003634</td>\n",
       "      <td>116</td>\n",
       "      <td>0.272414</td>\n",
       "      <td>21</td>\n",
       "    </tr>\n",
       "    <tr>\n",
       "      <th>9</th>\n",
       "      <td>9</td>\n",
       "      <td>45</td>\n",
       "      <td>0.000221</td>\n",
       "      <td>16</td>\n",
       "      <td>0.496552</td>\n",
       "      <td>26</td>\n",
       "    </tr>\n",
       "    <tr>\n",
       "      <th>10</th>\n",
       "      <td>10</td>\n",
       "      <td>42</td>\n",
       "      <td>0.001757</td>\n",
       "      <td>32</td>\n",
       "      <td>0.462069</td>\n",
       "      <td>3</td>\n",
       "    </tr>\n",
       "    <tr>\n",
       "      <th>11</th>\n",
       "      <td>11</td>\n",
       "      <td>40</td>\n",
       "      <td>0.003464</td>\n",
       "      <td>88</td>\n",
       "      <td>0.168966</td>\n",
       "      <td>4</td>\n",
       "    </tr>\n",
       "    <tr>\n",
       "      <th>12</th>\n",
       "      <td>12</td>\n",
       "      <td>43</td>\n",
       "      <td>0.000391</td>\n",
       "      <td>8</td>\n",
       "      <td>0.479310</td>\n",
       "      <td>10</td>\n",
       "    </tr>\n",
       "    <tr>\n",
       "      <th>13</th>\n",
       "      <td>13</td>\n",
       "      <td>49</td>\n",
       "      <td>0.003122</td>\n",
       "      <td>68</td>\n",
       "      <td>0.375862</td>\n",
       "      <td>6</td>\n",
       "    </tr>\n",
       "    <tr>\n",
       "      <th>14</th>\n",
       "      <td>14</td>\n",
       "      <td>41</td>\n",
       "      <td>0.002440</td>\n",
       "      <td>76</td>\n",
       "      <td>0.600000</td>\n",
       "      <td>7</td>\n",
       "    </tr>\n",
       "    <tr>\n",
       "      <th>15</th>\n",
       "      <td>15</td>\n",
       "      <td>23</td>\n",
       "      <td>0.000903</td>\n",
       "      <td>20</td>\n",
       "      <td>0.203448</td>\n",
       "      <td>15</td>\n",
       "    </tr>\n",
       "    <tr>\n",
       "      <th>16</th>\n",
       "      <td>16</td>\n",
       "      <td>34</td>\n",
       "      <td>0.001416</td>\n",
       "      <td>112</td>\n",
       "      <td>0.565517</td>\n",
       "      <td>14</td>\n",
       "    </tr>\n",
       "    <tr>\n",
       "      <th>17</th>\n",
       "      <td>17</td>\n",
       "      <td>26</td>\n",
       "      <td>0.001074</td>\n",
       "      <td>64</td>\n",
       "      <td>0.134483</td>\n",
       "      <td>22</td>\n",
       "    </tr>\n",
       "    <tr>\n",
       "      <th>18</th>\n",
       "      <td>18</td>\n",
       "      <td>37</td>\n",
       "      <td>0.003805</td>\n",
       "      <td>56</td>\n",
       "      <td>0.100000</td>\n",
       "      <td>5</td>\n",
       "    </tr>\n",
       "    <tr>\n",
       "      <th>19</th>\n",
       "      <td>19</td>\n",
       "      <td>30</td>\n",
       "      <td>0.001928</td>\n",
       "      <td>92</td>\n",
       "      <td>0.513793</td>\n",
       "      <td>2</td>\n",
       "    </tr>\n",
       "  </tbody>\n",
       "</table>\n",
       "</div>"
      ],
      "text/plain": [
       "    level_0   lsize     lrate   bsize     drate   deg\n",
       "0          0      22  0.002952      72  0.324138    8\n",
       "1          1      38  0.001245      84  0.548276   25\n",
       "2          2      24  0.003293     104  0.531034   29\n",
       "3          3      28  0.000733      40  0.151724   20\n",
       "4          4      47  0.004659     100  0.289655   12\n",
       "5          5      35  0.004317     120  0.255172   16\n",
       "6          6      44  0.002610      52  0.358621   13\n",
       "7          7      20  0.005000      80  0.186207    0\n",
       "8          8      32  0.003634     116  0.272414   21\n",
       "9          9      45  0.000221      16  0.496552   26\n",
       "10        10      42  0.001757      32  0.462069    3\n",
       "11        11      40  0.003464      88  0.168966    4\n",
       "12        12      43  0.000391       8  0.479310   10\n",
       "13        13      49  0.003122      68  0.375862    6\n",
       "14        14      41  0.002440      76  0.600000    7\n",
       "15        15      23  0.000903      20  0.203448   15\n",
       "16        16      34  0.001416     112  0.565517   14\n",
       "17        17      26  0.001074      64  0.134483   22\n",
       "18        18      37  0.003805      56  0.100000    5\n",
       "19        19      30  0.001928      92  0.513793    2"
      ]
     },
     "execution_count": 11,
     "metadata": {},
     "output_type": "execute_result"
    }
   ],
   "source": [
    "\n",
    "df_sample"
   ]
  },
  {
   "cell_type": "code",
   "execution_count": 12,
   "metadata": {},
   "outputs": [],
   "source": [
    "df_sample['final_err'] = np.zeros(20)\n",
    "df_sample['min_err'] = np.zeros(20)\n",
    "df_sample['final_deriv'] = np.zeros(20)\n",
    "df_sample['avg_deriv'] = np.zeros(20)"
   ]
  },
  {
   "cell_type": "code",
   "execution_count": 15,
   "metadata": {},
   "outputs": [
    {
     "data": {
      "text/plain": [
       "(0.09, 0.15)"
      ]
     },
     "execution_count": 15,
     "metadata": {},
     "output_type": "execute_result"
    },
    {
     "data": {
      "image/png": "[encoded data removed]",
      "text/plain": [
       "<Figure size 432x288 with 1 Axes>"
      ]
     },
     "metadata": {
      "needs_background": "light"
     },
     "output_type": "display_data"
    }
   ],
   "source": [
    "# use minimum between minimum and curent value+mean(deriv)*delta_step (delta_step=50000)?\n",
    "for ii in range(14):\n",
    "    df_1 = pd.read_csv('/global/homes/v/vboehm/codes/PAE/train_param_search/AE_sample%d.csv'%(ii+1))\n",
    "    splrep = interp.splrep(df_1['Step'], df_1['Value'])\n",
    "    num    = min(df_1['Step'].to_numpy()[-1],100000)\n",
    "    plt.plot(np.arange(num),interp.splev(np.arange(num),splrep))\n",
    "    plt.plot(df_1['Step'], df_1['Value'],ls='', marker='o',label='%d'%ii)\n",
    "    deriv = interp.splev(np.arange(num),splrep,der=1)\n",
    "    minimum = min(interp.splev(np.arange(num),splrep))\n",
    "    df_sample.at[ii,'final_err'] = interp.splev(np.arange(num),splrep)[num-1]\n",
    "    df_sample.at[ii,'min_err']   = minimum\n",
    "    df_sample.at[ii,'final_deriv'] = deriv[num-1]\n",
    "    df_sample.at[ii,'avg_deriv'] = np.mean(deriv[-10000::])\n",
    "    plt.axvline(num-10000)\n",
    "plt.legend(loc='upper right')\n",
    "plt.ylim(0.09,0.15)"
   ]
  },
  {
   "cell_type": "code",
   "execution_count": 18,
   "metadata": {},
   "outputs": [],
   "source": [
    "regressor = df_sample[0:14]"
   ]
  },
  {
   "cell_type": "code",
   "execution_count": 19,
   "metadata": {},
   "outputs": [
    {
     "data": {
      "text/html": [
       "<div>\n",
       "<style scoped>\n",
       "    .dataframe tbody tr th:only-of-type {\n",
       "        vertical-align: middle;\n",
       "    }\n",
       "\n",
       "    .dataframe tbody tr th {\n",
       "        vertical-align: top;\n",
       "    }\n",
       "\n",
       "    .dataframe thead th {\n",
       "        text-align: right;\n",
       "    }\n",
       "</style>\n",
       "<table border=\"1\" class=\"dataframe\">\n",
       "  <thead>\n",
       "    <tr style=\"text-align: right;\">\n",
       "      <th></th>\n",
       "      <th>level_0</th>\n",
       "      <th>lsize</th>\n",
       "      <th>lrate</th>\n",
       "      <th>bsize</th>\n",
       "      <th>drate</th>\n",
       "      <th>deg</th>\n",
       "      <th>final_err</th>\n",
       "      <th>min_err</th>\n",
       "      <th>final_deriv</th>\n",
       "      <th>avg_deriv</th>\n",
       "    </tr>\n",
       "  </thead>\n",
       "  <tbody>\n",
       "    <tr>\n",
       "      <th>0</th>\n",
       "      <td>0</td>\n",
       "      <td>22</td>\n",
       "      <td>0.002952</td>\n",
       "      <td>72</td>\n",
       "      <td>0.324138</td>\n",
       "      <td>8</td>\n",
       "      <td>0.102721</td>\n",
       "      <td>0.102411</td>\n",
       "      <td>2.985656e-07</td>\n",
       "      <td>-5.310617e-08</td>\n",
       "    </tr>\n",
       "    <tr>\n",
       "      <th>1</th>\n",
       "      <td>1</td>\n",
       "      <td>38</td>\n",
       "      <td>0.001245</td>\n",
       "      <td>84</td>\n",
       "      <td>0.548276</td>\n",
       "      <td>25</td>\n",
       "      <td>0.110080</td>\n",
       "      <td>0.110045</td>\n",
       "      <td>4.417574e-08</td>\n",
       "      <td>-5.129804e-08</td>\n",
       "    </tr>\n",
       "    <tr>\n",
       "      <th>2</th>\n",
       "      <td>2</td>\n",
       "      <td>24</td>\n",
       "      <td>0.003293</td>\n",
       "      <td>104</td>\n",
       "      <td>0.531034</td>\n",
       "      <td>29</td>\n",
       "      <td>0.121517</td>\n",
       "      <td>0.118009</td>\n",
       "      <td>-1.154498e-08</td>\n",
       "      <td>6.115107e-08</td>\n",
       "    </tr>\n",
       "    <tr>\n",
       "      <th>3</th>\n",
       "      <td>3</td>\n",
       "      <td>28</td>\n",
       "      <td>0.000733</td>\n",
       "      <td>40</td>\n",
       "      <td>0.151724</td>\n",
       "      <td>20</td>\n",
       "      <td>0.097458</td>\n",
       "      <td>0.097458</td>\n",
       "      <td>-4.019075e-08</td>\n",
       "      <td>-3.736261e-08</td>\n",
       "    </tr>\n",
       "    <tr>\n",
       "      <th>4</th>\n",
       "      <td>4</td>\n",
       "      <td>47</td>\n",
       "      <td>0.004659</td>\n",
       "      <td>100</td>\n",
       "      <td>0.289655</td>\n",
       "      <td>12</td>\n",
       "      <td>0.096543</td>\n",
       "      <td>0.095653</td>\n",
       "      <td>1.056992e-07</td>\n",
       "      <td>2.247287e-08</td>\n",
       "    </tr>\n",
       "    <tr>\n",
       "      <th>5</th>\n",
       "      <td>5</td>\n",
       "      <td>35</td>\n",
       "      <td>0.004317</td>\n",
       "      <td>120</td>\n",
       "      <td>0.255172</td>\n",
       "      <td>16</td>\n",
       "      <td>0.098056</td>\n",
       "      <td>0.097986</td>\n",
       "      <td>6.683793e-08</td>\n",
       "      <td>-9.117262e-09</td>\n",
       "    </tr>\n",
       "    <tr>\n",
       "      <th>6</th>\n",
       "      <td>6</td>\n",
       "      <td>44</td>\n",
       "      <td>0.002610</td>\n",
       "      <td>52</td>\n",
       "      <td>0.358621</td>\n",
       "      <td>13</td>\n",
       "      <td>0.111544</td>\n",
       "      <td>0.111252</td>\n",
       "      <td>-1.820649e-07</td>\n",
       "      <td>1.247782e-08</td>\n",
       "    </tr>\n",
       "    <tr>\n",
       "      <th>7</th>\n",
       "      <td>7</td>\n",
       "      <td>20</td>\n",
       "      <td>0.005000</td>\n",
       "      <td>80</td>\n",
       "      <td>0.186207</td>\n",
       "      <td>0</td>\n",
       "      <td>0.103237</td>\n",
       "      <td>0.103237</td>\n",
       "      <td>-1.165275e-08</td>\n",
       "      <td>-3.351211e-08</td>\n",
       "    </tr>\n",
       "    <tr>\n",
       "      <th>8</th>\n",
       "      <td>8</td>\n",
       "      <td>32</td>\n",
       "      <td>0.003634</td>\n",
       "      <td>116</td>\n",
       "      <td>0.272414</td>\n",
       "      <td>21</td>\n",
       "      <td>0.098484</td>\n",
       "      <td>0.098458</td>\n",
       "      <td>1.935820e-08</td>\n",
       "      <td>-3.164173e-08</td>\n",
       "    </tr>\n",
       "    <tr>\n",
       "      <th>9</th>\n",
       "      <td>9</td>\n",
       "      <td>45</td>\n",
       "      <td>0.000221</td>\n",
       "      <td>16</td>\n",
       "      <td>0.496552</td>\n",
       "      <td>26</td>\n",
       "      <td>0.107465</td>\n",
       "      <td>0.107425</td>\n",
       "      <td>5.192366e-08</td>\n",
       "      <td>-2.607277e-08</td>\n",
       "    </tr>\n",
       "    <tr>\n",
       "      <th>10</th>\n",
       "      <td>10</td>\n",
       "      <td>42</td>\n",
       "      <td>0.001757</td>\n",
       "      <td>32</td>\n",
       "      <td>0.462069</td>\n",
       "      <td>3</td>\n",
       "      <td>0.107747</td>\n",
       "      <td>0.107568</td>\n",
       "      <td>2.402643e-07</td>\n",
       "      <td>-8.845591e-08</td>\n",
       "    </tr>\n",
       "    <tr>\n",
       "      <th>11</th>\n",
       "      <td>11</td>\n",
       "      <td>40</td>\n",
       "      <td>0.003464</td>\n",
       "      <td>88</td>\n",
       "      <td>0.168966</td>\n",
       "      <td>4</td>\n",
       "      <td>0.092064</td>\n",
       "      <td>0.092064</td>\n",
       "      <td>-2.269305e-07</td>\n",
       "      <td>-2.365519e-08</td>\n",
       "    </tr>\n",
       "    <tr>\n",
       "      <th>12</th>\n",
       "      <td>12</td>\n",
       "      <td>43</td>\n",
       "      <td>0.000391</td>\n",
       "      <td>8</td>\n",
       "      <td>0.479310</td>\n",
       "      <td>10</td>\n",
       "      <td>0.109899</td>\n",
       "      <td>0.109879</td>\n",
       "      <td>4.286655e-08</td>\n",
       "      <td>-3.464769e-08</td>\n",
       "    </tr>\n",
       "    <tr>\n",
       "      <th>13</th>\n",
       "      <td>13</td>\n",
       "      <td>49</td>\n",
       "      <td>0.003122</td>\n",
       "      <td>68</td>\n",
       "      <td>0.375862</td>\n",
       "      <td>6</td>\n",
       "      <td>0.094786</td>\n",
       "      <td>0.094725</td>\n",
       "      <td>6.443608e-08</td>\n",
       "      <td>-2.706708e-08</td>\n",
       "    </tr>\n",
       "  </tbody>\n",
       "</table>\n",
       "</div>"
      ],
      "text/plain": [
       "    level_0   lsize     lrate   bsize     drate   deg  final_err   min_err  \\\n",
       "0          0      22  0.002952      72  0.324138    8   0.102721  0.102411   \n",
       "1          1      38  0.001245      84  0.548276   25   0.110080  0.110045   \n",
       "2          2      24  0.003293     104  0.531034   29   0.121517  0.118009   \n",
       "3          3      28  0.000733      40  0.151724   20   0.097458  0.097458   \n",
       "4          4      47  0.004659     100  0.289655   12   0.096543  0.095653   \n",
       "5          5      35  0.004317     120  0.255172   16   0.098056  0.097986   \n",
       "6          6      44  0.002610      52  0.358621   13   0.111544  0.111252   \n",
       "7          7      20  0.005000      80  0.186207    0   0.103237  0.103237   \n",
       "8          8      32  0.003634     116  0.272414   21   0.098484  0.098458   \n",
       "9          9      45  0.000221      16  0.496552   26   0.107465  0.107425   \n",
       "10        10      42  0.001757      32  0.462069    3   0.107747  0.107568   \n",
       "11        11      40  0.003464      88  0.168966    4   0.092064  0.092064   \n",
       "12        12      43  0.000391       8  0.479310   10   0.109899  0.109879   \n",
       "13        13      49  0.003122      68  0.375862    6   0.094786  0.094725   \n",
       "\n",
       "     final_deriv     avg_deriv  \n",
       "0   2.985656e-07 -5.310617e-08  \n",
       "1   4.417574e-08 -5.129804e-08  \n",
       "2  -1.154498e-08  6.115107e-08  \n",
       "3  -4.019075e-08 -3.736261e-08  \n",
       "4   1.056992e-07  2.247287e-08  \n",
       "5   6.683793e-08 -9.117262e-09  \n",
       "6  -1.820649e-07  1.247782e-08  \n",
       "7  -1.165275e-08 -3.351211e-08  \n",
       "8   1.935820e-08 -3.164173e-08  \n",
       "9   5.192366e-08 -2.607277e-08  \n",
       "10  2.402643e-07 -8.845591e-08  \n",
       "11 -2.269305e-07 -2.365519e-08  \n",
       "12  4.286655e-08 -3.464769e-08  \n",
       "13  6.443608e-08 -2.706708e-08  "
      ]
     },
     "execution_count": 19,
     "metadata": {},
     "output_type": "execute_result"
    }
   ],
   "source": [
    "regressor"
   ]
  },
  {
   "cell_type": "code",
   "execution_count": 20,
   "metadata": {},
   "outputs": [],
   "source": [
    "x = regressor[['lsize ', 'lrate ', 'bsize ', 'drate ', 'deg']]#, 'final_err','min_err', 'final_deriv', 'avg_deriv']]"
   ]
  },
  {
   "cell_type": "code",
   "execution_count": 21,
   "metadata": {},
   "outputs": [],
   "source": [
    "x = x.to_numpy()"
   ]
  },
  {
   "cell_type": "code",
   "execution_count": 22,
   "metadata": {},
   "outputs": [
    {
     "data": {
      "text/plain": [
       "array([[2.20000e+01, 2.95200e-03, 7.20000e+01, 3.24138e-01, 8.00000e+00],\n",
       "       [3.80000e+01, 1.24500e-03, 8.40000e+01, 5.48276e-01, 2.50000e+01],\n",
       "       [2.40000e+01, 3.29300e-03, 1.04000e+02, 5.31034e-01, 2.90000e+01],\n",
       "       [2.80000e+01, 7.33000e-04, 4.00000e+01, 1.51724e-01, 2.00000e+01],\n",
       "       [4.70000e+01, 4.65900e-03, 1.00000e+02, 2.89655e-01, 1.20000e+01],\n",
       "       [3.50000e+01, 4.31700e-03, 1.20000e+02, 2.55172e-01, 1.60000e+01],\n",
       "       [4.40000e+01, 2.61000e-03, 5.20000e+01, 3.58621e-01, 1.30000e+01],\n",
       "       [2.00000e+01, 5.00000e-03, 8.00000e+01, 1.86207e-01, 0.00000e+00],\n",
       "       [3.20000e+01, 3.63400e-03, 1.16000e+02, 2.72414e-01, 2.10000e+01],\n",
       "       [4.50000e+01, 2.21000e-04, 1.60000e+01, 4.96552e-01, 2.60000e+01],\n",
       "       [4.20000e+01, 1.75700e-03, 3.20000e+01, 4.62069e-01, 3.00000e+00],\n",
       "       [4.00000e+01, 3.46400e-03, 8.80000e+01, 1.68966e-01, 4.00000e+00],\n",
       "       [4.30000e+01, 3.91000e-04, 8.00000e+00, 4.79310e-01, 1.00000e+01],\n",
       "       [4.90000e+01, 3.12200e-03, 6.80000e+01, 3.75862e-01, 6.00000e+00]])"
      ]
     },
     "execution_count": 22,
     "metadata": {},
     "output_type": "execute_result"
    }
   ],
   "source": [
    "x"
   ]
  },
  {
   "cell_type": "code",
   "execution_count": 23,
   "metadata": {},
   "outputs": [],
   "source": [
    "x[np.where(x==0)]=1e-9"
   ]
  },
  {
   "cell_type": "code",
   "execution_count": 24,
   "metadata": {},
   "outputs": [],
   "source": [
    "x = np.log(x)"
   ]
  },
  {
   "cell_type": "code",
   "execution_count": 25,
   "metadata": {},
   "outputs": [
    {
     "data": {
      "text/plain": [
       "array([[  3.09104245,  -5.82527237,   4.27666612,  -1.12658593,\n",
       "          2.07944154],\n",
       "       [  3.63758616,  -6.68861975,   4.4308168 ,  -0.60097647,\n",
       "          3.21887582],\n",
       "       [  3.17805383,  -5.71595628,   4.6443909 ,  -0.63292923,\n",
       "          3.36729583],\n",
       "       [  3.33220451,  -7.21836486,   3.68887945,  -1.8856922 ,\n",
       "          2.99573227],\n",
       "       [  3.8501476 ,  -5.36895445,   4.60517019,  -1.23906472,\n",
       "          2.48490665],\n",
       "       [  3.55534806,  -5.44519456,   4.78749174,  -1.36581745,\n",
       "          2.77258872],\n",
       "       [  3.78418963,  -5.94840506,   3.95124372,  -1.02548916,\n",
       "          2.56494936],\n",
       "       [  2.99573227,  -5.29831737,   4.38202663,  -1.68089632,\n",
       "        -20.72326584],\n",
       "       [  3.4657359 ,  -5.61742131,   4.75359019,  -1.30043231,\n",
       "          3.04452244],\n",
       "       [  3.80666249,  -8.41734786,   2.77258872,  -0.70006707,\n",
       "          3.25809654],\n",
       "       [  3.73766962,  -6.34414747,   3.4657359 ,  -0.77204105,\n",
       "          1.09861229],\n",
       "       [  3.68887945,  -5.66533129,   4.47733681,  -1.77805777,\n",
       "          1.38629436],\n",
       "       [  3.76120012,  -7.846803  ,   2.07944154,  -0.73540771,\n",
       "          2.30258509],\n",
       "       [  3.8918203 ,  -5.76928146,   4.21950771,  -0.97853322,\n",
       "          1.79175947]])"
      ]
     },
     "execution_count": 25,
     "metadata": {},
     "output_type": "execute_result"
    }
   ],
   "source": [
    "x"
   ]
  },
  {
   "cell_type": "code",
   "execution_count": 102,
   "metadata": {},
   "outputs": [],
   "source": [
    "y = #, 'final_err','min_err', 'final_deriv', 'avg_deriv']]"
   ]
  },
  {
   "cell_type": "code",
   "execution_count": 130,
   "metadata": {},
   "outputs": [],
   "source": [
    "y = regressor[['final_err']].to_numpy()+1e5*regressor[['avg_deriv']].to_numpy()"
   ]
  },
  {
   "cell_type": "code",
   "execution_count": 131,
   "metadata": {},
   "outputs": [
    {
     "data": {
      "text/plain": [
       "array([[-2.32881913],\n",
       "       [-2.25427408],\n",
       "       [-2.05860303],\n",
       "       [-2.36742359],\n",
       "       [-2.31475745],\n",
       "       [-2.33156146],\n",
       "       [-2.18221053],\n",
       "       [-2.30373009],\n",
       "       [-2.35051966],\n",
       "       [-2.25514853],\n",
       "       [-2.31362771],\n",
       "       [-2.41129874],\n",
       "       [-2.2402283 ],\n",
       "       [-2.38510053]])"
      ]
     },
     "execution_count": 131,
     "metadata": {},
     "output_type": "execute_result"
    }
   ],
   "source": [
    "y = np.log(y)\n",
    "y"
   ]
  },
  {
   "cell_type": "code",
   "execution_count": 132,
   "metadata": {},
   "outputs": [
    {
     "name": "stdout",
     "output_type": "stream",
     "text": [
      "GaussianProcessRegressor(alpha=1e-10, copy_X_train=True,\n",
      "                         kernel=1**2 * RBF(length_scale=1),\n",
      "                         n_restarts_optimizer=10, normalize_y=False,\n",
      "                         optimizer='fmin_l_bfgs_b', random_state=None)\n"
     ]
    }
   ],
   "source": [
    "\n",
    "from sklearn.gaussian_process import GaussianProcessRegressor\n",
    "from sklearn.gaussian_process.kernels import RBF, ConstantKernel as C\n",
    "\n",
    "\n",
    "kernel = C(1.0, (1e-4, 1e4)) * RBF(1, (1e-4, 1e4))\n",
    "#Instanciate a Gaussian Process model\n",
    "gp     = GaussianProcessRegressor(kernel=kernel, n_restarts_optimizer=10)\n",
    "print(gp)"
   ]
  },
  {
   "cell_type": "code",
   "execution_count": 133,
   "metadata": {},
   "outputs": [
    {
     "data": {
      "text/plain": [
       "GaussianProcessRegressor(alpha=1e-10, copy_X_train=True,\n",
       "                         kernel=1**2 * RBF(length_scale=1),\n",
       "                         n_restarts_optimizer=10, normalize_y=False,\n",
       "                         optimizer='fmin_l_bfgs_b', random_state=None)"
      ]
     },
     "execution_count": 133,
     "metadata": {},
     "output_type": "execute_result"
    }
   ],
   "source": [
    "# fit on averages of full rescaled set\n",
    "gp.fit(x,y)"
   ]
  },
  {
   "cell_type": "code",
   "execution_count": 134,
   "metadata": {},
   "outputs": [
    {
     "data": {
      "text/plain": [
       "array([[-2.37562023]])"
      ]
     },
     "execution_count": 134,
     "metadata": {},
     "output_type": "execute_result"
    }
   ],
   "source": [
    "gp.predict([[np.log(40),  -5.82527237,   4.27666612,  -1.12658593,\n",
    "          2.07944154]])"
   ]
  },
  {
   "cell_type": "code",
   "execution_count": 135,
   "metadata": {},
   "outputs": [
    {
     "data": {
      "text/plain": [
       "array([[40,  1,  2,  3]])"
      ]
     },
     "execution_count": 135,
     "metadata": {},
     "output_type": "execute_result"
    }
   ],
   "source": [
    "np.hstack(([[40]],[[1,2,3]]))"
   ]
  },
  {
   "cell_type": "code",
   "execution_count": 136,
   "metadata": {},
   "outputs": [],
   "source": [
    "from scipy.optimize import minimize"
   ]
  },
  {
   "cell_type": "code",
   "execution_count": 137,
   "metadata": {},
   "outputs": [],
   "source": [
    "res = minimize(fun= lambda x: gp.predict(np.hstack(([[np.log(40)]],[x]))), x0=np.log([1e-2, 16, 0.1, 1]), method='Nelder-Mead')"
   ]
  },
  {
   "cell_type": "code",
   "execution_count": 146,
   "metadata": {},
   "outputs": [
    {
     "data": {
      "text/plain": [
       "(array([1.64550514e-03, 1.59549687e+02, 3.33337881e-01, 3.01990189e+00]),\n",
       " -2.6711340944337634,\n",
       " True)"
      ]
     },
     "execution_count": 146,
     "metadata": {},
     "output_type": "execute_result"
    }
   ],
   "source": [
    "np.exp(res['x']), res['fun'], res['success']"
   ]
  },
  {
   "cell_type": "code",
   "execution_count": 147,
   "metadata": {},
   "outputs": [],
   "source": [
    "res = minimize(fun= lambda x: gp.predict(np.hstack(([[np.log(40)]],[x]))), x0=np.log([1e-3, 32, 0.4, 20]), method='Nelder-Mead')"
   ]
  },
  {
   "cell_type": "code",
   "execution_count": 148,
   "metadata": {},
   "outputs": [
    {
     "data": {
      "text/plain": [
       "(array([1.64550514e-03, 1.59549687e+02, 3.33337881e-01, 3.01990189e+00]),\n",
       " -2.6711340944337634,\n",
       " True)"
      ]
     },
     "execution_count": 148,
     "metadata": {},
     "output_type": "execute_result"
    }
   ],
   "source": [
    "np.exp(res['x']), res['fun'], res['success']"
   ]
  },
  {
   "cell_type": "code",
   "execution_count": 149,
   "metadata": {},
   "outputs": [],
   "source": [
    "res = minimize(fun= lambda x: gp.predict(np.hstack(([[np.log(40)]],[x]))), x0=np.log([1e-3, 32, 0.4, 20]), method='COBYLA')"
   ]
  },
  {
   "cell_type": "code",
   "execution_count": 150,
   "metadata": {},
   "outputs": [
    {
     "data": {
      "text/plain": [
       "(array([1.22798998e-03, 2.98710315e+02, 1.50212482e-01, 9.24223058e+01]),\n",
       " -2.8107036995835846,\n",
       " True)"
      ]
     },
     "execution_count": 150,
     "metadata": {},
     "output_type": "execute_result"
    }
   ],
   "source": [
    "np.exp(res['x']), res['fun'], res['success']"
   ]
  },
  {
   "cell_type": "code",
   "execution_count": 156,
   "metadata": {},
   "outputs": [],
   "source": [
    "res = minimize(fun= lambda x: gp.predict(np.hstack(([[np.log(40)]],[x]))), x0=np.log([1e-03, 256,0.15, 10]), method='Nelder-Mead')"
   ]
  },
  {
   "cell_type": "code",
   "execution_count": 157,
   "metadata": {},
   "outputs": [
    {
     "data": {
      "text/plain": [
       "(array([1.22790087e-03, 2.98721317e+02, 1.50215902e-01, 9.24118914e+01]),\n",
       " -2.8107037024981048,\n",
       " True)"
      ]
     },
     "execution_count": 157,
     "metadata": {},
     "output_type": "execute_result"
    }
   ],
   "source": [
    "np.exp(res['x']), res['fun'], res['success']"
   ]
  },
  {
   "cell_type": "code",
   "execution_count": null,
   "metadata": {},
   "outputs": [],
   "source": []
  }
 ],
 "metadata": {
  "kernelspec": {
   "display_name": "tf22",
   "language": "python",
   "name": "tf22"
  },
  "language_info": {
   "codemirror_mode": {
    "name": "ipython",
    "version": 3
   },
   "file_extension": ".py",
   "mimetype": "text/x-python",
   "name": "python",
   "nbconvert_exporter": "python",
   "pygments_lexer": "ipython3",
   "version": "3.8.3"
  }
 },
 "nbformat": 4,
 "nbformat_minor": 4
}
