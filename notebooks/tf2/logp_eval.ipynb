{
 "cells": [
  {
   "cell_type": "markdown",
   "metadata": {},
   "source": [
    "# logp evaluation of PAE"
   ]
  },
  {
   "cell_type": "code",
   "execution_count": 1,
   "metadata": {
    "colab": {
     "base_uri": "https://localhost:8080/",
     "height": 35
    },
    "colab_type": "code",
    "id": "D-Fe5G8m1FTC",
    "outputId": "8f21ee4e-6ad4-4fe2-a7a5-0bad6eae0cde"
   },
   "outputs": [],
   "source": [
    "import tensorflow.compat.v1 as tf\n",
    "#To make tf 2.0 compatible with tf1.0 code, we disable the tf2.0 functionalities\n",
    "tf.disable_eager_execution()\n",
    "import numpy as np\n",
    "import os\n",
    "import matplotlib\n",
    "import matplotlib.pyplot as plt\n",
    "import matplotlib.cm as cm\n",
    "from matplotlib import rcParams\n",
    "import sys\n",
    "import pickle\n",
    "from functools import partial\n",
    "\n",
    "\n",
    "plt.rcParams.update({'font.family' : 'lmodern', 'font.size': 16,                                                                                                                                                    \n",
    "                     'axes.labelsize': 16, 'legend.fontsize': 12, \n",
    "                     'xtick.labelsize': 16, 'ytick.labelsize': 16, 'axes.titlesize': 16,\n",
    "                     'axes.linewidth': 1.5}) "
   ]
  },
  {
   "cell_type": "code",
   "execution_count": 7,
   "metadata": {},
   "outputs": [
    {
     "data": {
      "text/plain": [
       "'2.2.0'"
      ]
     },
     "execution_count": 7,
     "metadata": {},
     "output_type": "execute_result"
    }
   ],
   "source": [
    "tf.__version__"
   ]
  },
  {
   "cell_type": "code",
   "execution_count": 8,
   "metadata": {},
   "outputs": [],
   "source": [
    "import scipy"
   ]
  },
  {
   "cell_type": "code",
   "execution_count": 9,
   "metadata": {
    "colab": {},
    "colab_type": "code",
    "id": "-AEYmOsH1FTI"
   },
   "outputs": [],
   "source": [
    "import tensorflow_probability as tfp\n",
    "import tensorflow_hub as hub\n",
    "tfd = tfp.distributions\n",
    "tfb = tfp.bijectors"
   ]
  },
  {
   "cell_type": "code",
   "execution_count": 10,
   "metadata": {},
   "outputs": [
    {
     "data": {
      "text/plain": [
       "'0.7.0'"
      ]
     },
     "execution_count": 10,
     "metadata": {},
     "output_type": "execute_result"
    }
   ],
   "source": [
    "tfp.__version__"
   ]
  },
  {
   "cell_type": "code",
   "execution_count": 11,
   "metadata": {
    "colab": {},
    "colab_type": "code",
    "id": "GI5FLHJsZLTV"
   },
   "outputs": [],
   "source": [
    "from pae.model_tf2 import get_prior, get_posterior"
   ]
  },
  {
   "cell_type": "code",
   "execution_count": 12,
   "metadata": {
    "colab": {},
    "colab_type": "code",
    "id": "V9oAjWb9ZLTc"
   },
   "outputs": [],
   "source": [
    "import pae.create_datasets as crd\n",
    "import pae.load_data as ld\n",
    "load_funcs=dict(mnist=ld.load_mnist, fmnist=ld.load_fmnist)"
   ]
  },
  {
   "cell_type": "code",
   "execution_count": 13,
   "metadata": {
    "colab": {},
    "colab_type": "code",
    "id": "vxW5NtaPZLTi"
   },
   "outputs": [],
   "source": [
    "PROJECT_PATH = \"../../\" \n",
    "PARAMS_PATH = os.path.join(PROJECT_PATH,'params')\n",
    "\n",
    "param_file  = 'params_mnist_-1_10_vae10_AE_test_full_sigma'\n",
    "params      = pickle.load(open(os.path.join(PARAMS_PATH,param_file+'.pkl'),'rb'))"
   ]
  },
  {
   "cell_type": "code",
   "execution_count": 14,
   "metadata": {},
   "outputs": [],
   "source": [
    "params['module_dir']='../../modules/mnist/class-1/latent_size10/net_type_vae10/loss_AE/test_full_sigma'\n",
    "params['data_dir']= '../../data/'"
   ]
  },
  {
   "cell_type": "code",
   "execution_count": 15,
   "metadata": {},
   "outputs": [],
   "source": [
    "load_func                                          = partial(load_funcs[params['data_set']])\n",
    "x_train, y_train, x_valid, y_valid, x_test, y_test = load_func(params['data_dir'],flatten=True)\n",
    "\n",
    "if np.all(x_test)==None:\n",
    "    x_test=x_valid\n",
    "\n",
    "x_train = x_train/256.-0.5\n",
    "x_test  = x_test/256.-0.5\n",
    "x_valid = x_valid/256.-0.5"
   ]
  },
  {
   "cell_type": "code",
   "execution_count": 16,
   "metadata": {},
   "outputs": [],
   "source": [
    "generator_path   = os.path.join(params['module_dir'],'decoder')\n",
    "encoder_path     = os.path.join(params['module_dir'],'encoder')\n",
    "nvp_path         = os.path.join(params['module_dir'],'hybrid8_nepoch220')"
   ]
  },
  {
   "cell_type": "code",
   "execution_count": 17,
   "metadata": {},
   "outputs": [],
   "source": [
    "def get_likelihood(decoder,sigma):\n",
    "  \n",
    "    def likelihood(z):\n",
    "        mean = decoder({'z':z},as_dict=True)['x']\n",
    "        return tfd.Independent(tfd.MultivariateNormalDiag(loc=mean,scale_diag=sigma))\n",
    "\n",
    "    return likelihood"
   ]
  },
  {
   "cell_type": "code",
   "execution_count": null,
   "metadata": {},
   "outputs": [],
   "source": []
  },
  {
   "cell_type": "code",
   "execution_count": 18,
   "metadata": {
    "colab": {
     "base_uri": "https://localhost:8080/",
     "height": 160
    },
    "colab_type": "code",
    "id": "yvTEYw44O_5q",
    "outputId": "898dcdf7-f38f-4dae-a3aa-4f32a487f0ae"
   },
   "outputs": [
    {
     "name": "stdout",
     "output_type": "stream",
     "text": [
      "WARNING:tensorflow:From /home/nessa/miniconda3/envs/tensorflow2/lib/python3.7/site-packages/tensorflow/python/ops/resource_variable_ops.py:1666: calling BaseResourceVariable.__init__ (from tensorflow.python.ops.resource_variable_ops) with constraint is deprecated and will be removed in a future version.\n",
      "Instructions for updating:\n",
      "If using Keras pass *_constraint arguments to layers.\n",
      "INFO:tensorflow:Saver not created because there are no variables in the graph to restore\n",
      "INFO:tensorflow:Saver not created because there are no variables in the graph to restore\n",
      "WARNING:tensorflow:From /home/nessa/.local/lib/python3.7/site-packages/tensorflow_probability/python/bijectors/affine_linear_operator.py:116: LinearOperator.graph_parents (from tensorflow.python.ops.linalg.linear_operator) is deprecated and will be removed in a future version.\n",
      "Instructions for updating:\n",
      "Do not call `graph_parents`.\n",
      "INFO:tensorflow:Saver not created because there are no variables in the graph to restore\n",
      "WARNING:tensorflow:From /home/nessa/miniconda3/envs/tensorflow2/lib/python3.7/site-packages/tensorflow/python/ops/linalg/linear_operator_diag.py:166: calling LinearOperator.__init__ (from tensorflow.python.ops.linalg.linear_operator) with graph_parents is deprecated and will be removed in a future version.\n",
      "Instructions for updating:\n",
      "Do not pass `graph_parents`.  They will  no longer be used.\n",
      "INFO:tensorflow:Saver not created because there are no variables in the graph to restore\n"
     ]
    }
   ],
   "source": [
    "x             = tf.placeholder(shape=[params['batch_size'],params['output_size']],dtype=tf.float32)\n",
    "value         = tf.placeholder_with_default(tf.zeros((params['batch_size'],params['latent_size']),tf.float32),shape=(params['batch_size'],params['latent_size']))\n",
    "z             = tf.Variable(initial_value=tf.zeros((params['batch_size'],params['latent_size']),tf.float32), trainable=True)\n",
    "\n",
    "encoder       = hub.Module(encoder_path, trainable=False)\n",
    "decoder       = hub.Module(generator_path, trainable=False)\n",
    "\n",
    "encoded       = encoder({'x':x},as_dict=True)['z']\n",
    "decoded       = decoder({'z':z},as_dict=True)['x']\n",
    "\n",
    "update        = z.assign(value)\n",
    "nvp_funcs     = hub.Module(nvp_path, trainable=False)\n",
    "sigma         = tf.placeholder_with_default(params['full_sigma'],shape=[params['output_size']])\n",
    "sigma         = tf.cast(sigma,tf.float32)\n",
    "\n",
    "\n",
    "likelihood    = get_likelihood(decoder,sigma)\n",
    "prior         = get_prior(params['latent_size'])\n",
    "\n",
    "def likelihood_eval(z,x,likelihood):\n",
    "    likelihood    = likelihood(z).log_prob(x)\n",
    "    return likelihood\n",
    "\n",
    "def prior_eval(z,nvp_funcs=nvp_funcs):\n",
    "    prior         = nvp_funcs({'z_sample':z,'sample_size':1, 'u_sample':np.zeros((1,params['latent_size']))},as_dict=True)['log_prob']\n",
    "    return prior\n",
    "\n",
    "def posterior_eval(z,x,likelihood, nvp_funcs):\n",
    "    likelihood   = likelihood_eval(z,x,likelihood)\n",
    "    prior        = prior_eval(z, nvp_funcs)\n",
    "    logprob      = likelihood+prior\n",
    "    return logprob\n",
    "\n",
    "logp  = posterior_eval(z,x,likelihood,nvp_funcs)\n",
    "loss  = -logp\n",
    "grad  = tf.gradients(loss, [z])\n"
   ]
  },
  {
   "cell_type": "code",
   "execution_count": 19,
   "metadata": {
    "colab": {},
    "colab_type": "code",
    "id": "Soh1tnGH1FTW"
   },
   "outputs": [],
   "source": [
    "sess = tf.Session()\n",
    "sess.run(tf.global_variables_initializer())"
   ]
  },
  {
   "cell_type": "code",
   "execution_count": 20,
   "metadata": {},
   "outputs": [],
   "source": [
    "def neg_logp(z_):\n",
    "    z_fill    = np.zeros((params['batch_size'], params['latent_size']), dtype=np.float32)\n",
    "    z_fill[0] = z_\n",
    "    _      = sess.run(update, feed_dict={value:z_fill,x:x_valid[0:16]})\n",
    "    ll     = sess.run(loss, feed_dict={value:z_fill,x:x_valid[0:16]})\n",
    "    return np.asarray(ll, dtype=np.float64)[0]\n",
    "\n",
    "def neg_logp_grad(z_):\n",
    "    z_fill = np.zeros((params['batch_size'], params['latent_size']), dtype=np.float32)\n",
    "    z_fill[0] = z_\n",
    "    _      = sess.run(update, feed_dict={value:z_fill,x:x_valid[0:16]})\n",
    "    gg = sess.run(grad, feed_dict={z:z_fill,x:x_valid[0:16]})\n",
    "    #print(gg[0].shape)\n",
    "    return np.asarray(-gg[0][0], dtype=np.float64)"
   ]
  },
  {
   "cell_type": "code",
   "execution_count": 21,
   "metadata": {},
   "outputs": [],
   "source": [
    "from scipy.optimize import minimize"
   ]
  },
  {
   "cell_type": "code",
   "execution_count": 22,
   "metadata": {},
   "outputs": [],
   "source": [
    "enc = sess.run(encoded, feed_dict={x:x_valid[0:16]})[:,0:10]"
   ]
  },
  {
   "cell_type": "code",
   "execution_count": 23,
   "metadata": {},
   "outputs": [
    {
     "data": {
      "text/plain": [
       "-1763.1529541015625"
      ]
     },
     "execution_count": 23,
     "metadata": {},
     "output_type": "execute_result"
    }
   ],
   "source": [
    "neg_logp(enc[0:1])"
   ]
  },
  {
   "cell_type": "markdown",
   "metadata": {},
   "source": [
    "Full Measured Sigma, log_post with single sample, Log Likelihood at Encoded and Reconstruction"
   ]
  },
  {
   "cell_type": "code",
   "execution_count": 24,
   "metadata": {},
   "outputs": [
    {
     "name": "stdout",
     "output_type": "stream",
     "text": [
      "0\n",
      "1\n",
      "2\n",
      "new minimum found: False\n",
      "3\n",
      "4\n",
      "5\n",
      "6\n",
      "7\n",
      "8\n",
      "9\n"
     ]
    }
   ],
   "source": [
    "minimum = neg_logp(enc[0])\n",
    "best_z  = enc[0]\n",
    "for ii in range(10):\n",
    "    print(ii)\n",
    "    init = enc[0]+(np.random.randn(np.prod(enc[0].shape))*0.02).reshape(enc[0].shape)\n",
    "    res = scipy.optimize.minimize(neg_logp, x0=init, jac=neg_logp_grad, method='L-BFGS-B',tol=None, callback=None, options={'disp': None, 'maxcor': 10, 'ftol': 2.220446049250313e-09, 'gtol': 1e-08, 'eps': 1e-09, 'maxfun': 15000, 'maxiter': 15000, 'iprint': - 1, 'maxls': 20})\n",
    "    if res['fun']<minimum:\n",
    "        best_z  = res['x']\n",
    "        minimum = res['fun']\n",
    "        print('new minimum found:', res['success'])\n",
    "        "
   ]
  },
  {
   "cell_type": "code",
   "execution_count": 25,
   "metadata": {},
   "outputs": [
    {
     "name": "stdout",
     "output_type": "stream",
     "text": [
      "-1763.3643798828125\n"
     ]
    }
   ],
   "source": [
    "print(minimum)"
   ]
  },
  {
   "cell_type": "code",
   "execution_count": 26,
   "metadata": {},
   "outputs": [],
   "source": [
    "z_fill    = np.zeros((params['batch_size'], params['latent_size']))\n",
    "z_fill[0] = best_z\n",
    "sess.run(update, feed_dict={value:z_fill})\n",
    "x_esti= sess.run(decoded, feed_dict={value:z_fill})[0,:]"
   ]
  },
  {
   "cell_type": "code",
   "execution_count": 27,
   "metadata": {},
   "outputs": [],
   "source": [
    "z_fill    = np.zeros((params['batch_size'], params['latent_size']))\n",
    "z_fill[0] = enc[0]\n",
    "sess.run(update, feed_dict={value:z_fill})\n",
    "x_enc= sess.run(decoded, feed_dict={value:z_fill})[0,:]"
   ]
  },
  {
   "cell_type": "code",
   "execution_count": 28,
   "metadata": {
    "colab": {},
    "colab_type": "code",
    "id": "Tts2_qqiZLUR"
   },
   "outputs": [
    {
     "name": "stderr",
     "output_type": "stream",
     "text": [
      "findfont: Font family ['lmodern'] not found. Falling back to DejaVu Sans.\n"
     ]
    },
    {
     "data": {
      "image/png": "[encoded data removed]",
      "text/plain": [
       "<Figure size 432x288 with 1 Axes>"
      ]
     },
     "metadata": {
      "needs_background": "light"
     },
     "output_type": "display_data"
    },
    {
     "data": {
      "image/png": "[encoded data removed]",
      "text/plain": [
       "<Figure size 432x288 with 1 Axes>"
      ]
     },
     "metadata": {
      "needs_background": "light"
     },
     "output_type": "display_data"
    },
    {
     "data": {
      "image/png": "[encoded data removed]",
      "text/plain": [
       "<Figure size 432x288 with 1 Axes>"
      ]
     },
     "metadata": {
      "needs_background": "light"
     },
     "output_type": "display_data"
    },
    {
     "data": {
      "image/png": "[encoded data removed]",
      "text/plain": [
       "<Figure size 432x288 with 1 Axes>"
      ]
     },
     "metadata": {
      "needs_background": "light"
     },
     "output_type": "display_data"
    },
    {
     "data": {
      "image/png": "[encoded data removed]",
      "text/plain": [
       "<Figure size 432x288 with 1 Axes>"
      ]
     },
     "metadata": {
      "needs_background": "light"
     },
     "output_type": "display_data"
    },
    {
     "data": {
      "image/png": "[encoded data removed]",
      "text/plain": [
       "<Figure size 432x288 with 1 Axes>"
      ]
     },
     "metadata": {
      "needs_background": "light"
     },
     "output_type": "display_data"
    }
   ],
   "source": [
    "plt.title('best estimate')\n",
    "plt.imshow(x_esti.reshape(28,28))\n",
    "plt.axis('off')\n",
    "plt.show()\n",
    "plt.title('encoded')\n",
    "plt.imshow(x_enc.reshape(28,28))\n",
    "plt.axis('off')\n",
    "plt.show()\n",
    "plt.title('truth')\n",
    "plt.imshow(x_valid[0].reshape(28,28))\n",
    "plt.axis('off')\n",
    "plt.show()\n",
    "plt.title('truth-best estimate')\n",
    "plt.imshow(x_valid[0].reshape(28,28)-x_esti.reshape(28,28))\n",
    "plt.axis('off')\n",
    "plt.show()\n",
    "plt.title('truth-encoded')\n",
    "plt.imshow(x_valid[0].reshape(28,28)-x_enc.reshape(28,28))\n",
    "plt.axis('off')\n",
    "plt.show()\n",
    "plt.title('encoded-best estimate')\n",
    "plt.imshow(x_enc.reshape(28,28)-x_esti.reshape(28,28))\n",
    "plt.axis('off')\n",
    "plt.show()"
   ]
  },
  {
   "cell_type": "code",
   "execution_count": 70,
   "metadata": {},
   "outputs": [],
   "source": [
    "import autograd.numpy as np\n",
    "import numpy.linalg as linalg\n",
    "from autograd import grad\n",
    "\n",
    "# toy example\n",
    "means = [np.asarray([1.,-4.]), np.asarray([-2.,2.])]\n",
    "covs  = [np.asarray([[2.,-0.5,],[-0.5,2]]),np.asarray([[2,0.5],[0.5,2]])]\n",
    "weights = [0.5,0.5]\n",
    "\n",
    "# checking for pos def\n",
    "for cov in covs:\n",
    "    _ = linalg.cholesky(cov)\n",
    "    \n",
    "def create_neg_log_prob(means, covs,weights):\n",
    "    \n",
    "    def negative_log_prob(x):\n",
    "        gs = []\n",
    "        N  = means[0].shape[0]\n",
    "        for mean,cov in zip(means,covs):\n",
    "            m = (x-mean)\n",
    "            _, det= np.linalg.slogdet(cov)\n",
    "            gs+=[-0.5*np.dot(m,np.dot(cov,m))-N/2.*np.log(2*np.pi)-N*det]\n",
    "        res = gs[0]+weights[0]\n",
    "        for ii, w in enumerate(weights[1::]):\n",
    "            res=np.logaddexp(res,w+gs[ii+1])\n",
    "        return -res\n",
    "    return negative_log_prob\n",
    "\n",
    "negative_log_prob      = create_neg_log_prob(means,covs,weights)\n",
    "negative_log_prob_grad = grad(negative_log_prob)"
   ]
  },
  {
   "cell_type": "code",
   "execution_count": 52,
   "metadata": {},
   "outputs": [],
   "source": [
    "from nuts import nuts6, NutsSampler_fn_wrapper\n",
    "import time"
   ]
  },
  {
   "cell_type": "code",
   "execution_count": 53,
   "metadata": {},
   "outputs": [
    {
     "name": "stdout",
     "output_type": "stream",
     "text": [
      "Starting Sampling at Fri Oct  9 08:12:30 2020\n",
      "find_reasonable_epsilon= 0.25\n",
      "Sampling Completed in 5.24 seconds\n"
     ]
    }
   ],
   "source": [
    "#NUTS pars\n",
    "M, Madapt = 100, 500\n",
    "theta0    = np.asarray([0.,0.])\n",
    "delta     = 1\n",
    "\n",
    "nuts_fn = NutsSampler_fn_wrapper(negative_log_prob, negative_log_prob_grad)\n",
    "#nuts_fn.verbose = True\n",
    "\n",
    "t_start = time.time()\n",
    "print(\"Starting Sampling at %s\" % time.ctime(t_start))\n",
    "A, lnprob, epsilon = nuts6(nuts_fn, M, Madapt, theta0, delta)\n",
    "t_stop = time.time()\n",
    "print(\"Sampling Completed in %0.2f seconds\" % (t_stop - t_start))"
   ]
  },
  {
   "cell_type": "code",
   "execution_count": 54,
   "metadata": {},
   "outputs": [
    {
     "data": {
      "image/png": "[encoded data removed]",
      "text/plain": [
       "<Figure size 432x288 with 1 Axes>"
      ]
     },
     "metadata": {
      "needs_background": "light"
     },
     "output_type": "display_data"
    }
   ],
   "source": [
    "plt.scatter(A[:,0],A[:,1])\n",
    "plt.scatter(means[0][0], means[0][1])\n",
    "plt.scatter(means[1][0], means[1][1], color='g')\n",
    "plt.show()"
   ]
  },
  {
   "cell_type": "code",
   "execution_count": 101,
   "metadata": {},
   "outputs": [],
   "source": [
    "class DualAveragingStepSize:\n",
    "    def __init__(self, initial_step_size, target_accept=0.65, gamma=0.05, t0=10.0, kappa=0.75):\n",
    "        self.mu            = np.log(10 * initial_step_size)  # proposals are biased upwards to stay away from 0.\n",
    "        self.target_accept = target_accept\n",
    "        self.gamma         = gamma\n",
    "        self.t             = t0\n",
    "        self.kappa         = kappa\n",
    "        self.error_sum     = 0\n",
    "        self.log_averaged_step = 0\n",
    "\n",
    "    def update(self, p_accept):\n",
    "        # Running tally of absolute error. Can be positive or negative. Want to be 0.\n",
    "        self.error_sum += self.target_accept - p_accept\n",
    "        \n",
    "        #print(self.error_sum)\n",
    "\n",
    "        # This is the next proposed (log) step size. Note it is biased towards mu.\n",
    "        log_step = self.mu - self.error_sum / (np.sqrt(self.t) * self.gamma)\n",
    "\n",
    "        # Forgetting rate. As `t` gets bigger, `eta` gets smaller.\n",
    "        eta = self.t ** -self.kappa\n",
    "\n",
    "        # Smoothed average step size\n",
    "        self.log_averaged_step = eta * log_step + (1 - eta) * self.log_averaged_step\n",
    "\n",
    "        # This is a stateful update, so t keeps updating\n",
    "        self.t += 1\n",
    "\n",
    "        # Return both the noisy step size, and the smoothed step size\n",
    "        return np.exp(log_step), np.exp(self.log_averaged_step)"
   ]
  },
  {
   "cell_type": "code",
   "execution_count": 102,
   "metadata": {},
   "outputs": [],
   "source": [
    "import scipy.stats as st\n",
    "from tqdm import tqdm\n",
    "\n",
    "def leapfrog(q, p, dVdq, path_len, step_size):\n",
    "    \"\"\"Leapfrog integrator for Hamiltonian Monte Carlo.\n",
    "\n",
    "    Parameters\n",
    "    ----------\n",
    "    q : np.floatX\n",
    "        Initial position\n",
    "    p : np.floatX\n",
    "        Initial momentum\n",
    "    dVdq : callable\n",
    "        Gradient of the velocity\n",
    "    path_len : float\n",
    "        How long to integrate for\n",
    "    step_size : float\n",
    "        How long each integration step should be\n",
    "\n",
    "    Returns\n",
    "    -------\n",
    "    q, p : np.floatX, np.floatX\n",
    "        New position and momentum\n",
    "    \"\"\"\n",
    "    q, p = np.copy(q), np.copy(p)\n",
    "\n",
    "    p -= step_size * dVdq(q) / 2  # half step\n",
    "    for _ in range(int(path_len / step_size) - 1):\n",
    "        q += step_size * p  # whole step\n",
    "        p -= step_size * dVdq(q)  # whole step\n",
    "    q += step_size * p  # whole step\n",
    "    p -= step_size * dVdq(q) / 2  # half step\n",
    "\n",
    "    # momentum flip at end\n",
    "    return q, -p\n"
   ]
  },
  {
   "cell_type": "code",
   "execution_count": 110,
   "metadata": {},
   "outputs": [],
   "source": [
    "def hamiltonian_monte_carlo(n_samples, negative_log_prob, dVdq , initial_position, path_len=1, step_size=0.05, tune=500):\n",
    "    \"\"\"Run Hamiltonian Monte Carlo sampling.\n",
    "\n",
    "    Parameters\n",
    "    ----------\n",
    "    n_samples : int\n",
    "        Number of samples to return\n",
    "    negative_log_prob : callable\n",
    "        The negative log probability to sample from\n",
    "    initial_position : np.array\n",
    "        A place to start sampling from.\n",
    "    path_len : float\n",
    "        How long each integration path is. Smaller is faster and more correlated.\n",
    "    step_size : float\n",
    "        How long each integration step is. Smaller is slower and more accurate.\n",
    "\n",
    "    Returns\n",
    "    -------\n",
    "    np.array\n",
    "        Array of length `n_samples`.\n",
    "    \"\"\"\n",
    "\n",
    "    # collect all our samples in a list\n",
    "    samples = [initial_position]\n",
    "\n",
    "    # Keep a single object for momentum resampling\n",
    "    momentum = st.norm(0, 1)\n",
    "\n",
    "    # If initial_position is a 10d vector and n_samples is 100, we want\n",
    "    # 100 x 10 momentum draws. We can do this in one call to momentum.rvs, and\n",
    "    # iterate over rows\n",
    "    size = (n_samples,) + initial_position.shape[:1]\n",
    "    step_size_tuning = DualAveragingStepSize(initial_step_size=step_size)\n",
    "    \n",
    "    for idx, p0 in tqdm(enumerate(momentum.rvs(size=size)), total=size[0]):\n",
    "        # Integrate over our path to get a new position and momentum\n",
    "        q_new, p_new = leapfrog(\n",
    "            samples[-1],\n",
    "            p0,\n",
    "            dVdq,\n",
    "            path_len=path_len,\n",
    "            step_size=step_size,\n",
    "        )\n",
    "        \n",
    "#     size = (n_samples,) + initial_position.shape[:1]\n",
    "#     for p0 in momentum.rvs(size=size):\n",
    "#         # Integrate over our path to get a new position and momentum\n",
    "#         q_new, p_new = leapfrog(\n",
    "#             samples[-1],\n",
    "#             p0,\n",
    "#             dVdq,\n",
    "#             path_len=path_len,\n",
    "#             step_size=step_size,\n",
    "#         )\n",
    "\n",
    "        # Check Metropolis acceptance criterion\n",
    "        start_log_p = negative_log_prob(samples[-1]) - np.sum(momentum.logpdf(p0))\n",
    "        new_log_p   = negative_log_prob(q_new) - np.sum(momentum.logpdf(p_new))\n",
    "        p_accept    = np.exp(start_log_p - new_log_p)\n",
    "        if np.log(np.random.rand()) < start_log_p - new_log_p:\n",
    "            samples.append(q_new)\n",
    "        else:\n",
    "            samples.append(np.copy(samples[-1]))\n",
    "\n",
    "        # Check Metropolis acceptance criterion\n",
    "#         start_log_p = negative_log_prob(samples[-1]) - np.sum(momentum.logpdf(p0))\n",
    "#         new_log_p   = negative_log_prob(q_new) - np.sum(momentum.logpdf(p_new))\n",
    "        \n",
    "#         p_accept = min(1, np.exp(new_log_p - start_log_p))\n",
    "#         rand_num = np.random.rand()\n",
    "#         if rand_num < p_accept:\n",
    "#             samples.append(q_new)\n",
    "#             print(p_accept,rand_num, q_new, step_size)\n",
    "#         else:\n",
    "#             samples.append(np.copy(samples[-1]))\n",
    "            \n",
    "        # Tuning routine\n",
    "        if idx < tune - 1:\n",
    "            step_size, _ = step_size_tuning.update(p_accept)\n",
    "        elif idx == tune - 1:\n",
    "            _, step_size = step_size_tuning.update(p_accept)\n",
    "            print(step_size)\n",
    "    return np.array(samples[1+tune:])"
   ]
  },
  {
   "cell_type": "code",
   "execution_count": 111,
   "metadata": {},
   "outputs": [
    {
     "name": "stderr",
     "output_type": "stream",
     "text": [
      "  5%|▌         | 526/10000 [00:04<01:13, 128.34it/s]"
     ]
    },
    {
     "name": "stdout",
     "output_type": "stream",
     "text": [
      "1.0665176225572832\n"
     ]
    },
    {
     "name": "stderr",
     "output_type": "stream",
     "text": [
      "100%|██████████| 10000/10000 [01:18<00:00, 127.84it/s]"
     ]
    },
    {
     "name": "stdout",
     "output_type": "stream",
     "text": [
      "Sampling Completed in 78.27 seconds\n"
     ]
    },
    {
     "name": "stderr",
     "output_type": "stream",
     "text": [
      "\n"
     ]
    }
   ],
   "source": [
    "t_start=time.time()\n",
    "samples= hamiltonian_monte_carlo(n_samples=10000, negative_log_prob=negative_log_prob, dVdq=negative_log_prob_grad , initial_position=np.asarray([0.,0.]), path_len=10, step_size=0.5)\n",
    "t_stop = time.time()\n",
    "print(\"Sampling Completed in %0.2f seconds\" % (t_stop - t_start))"
   ]
  },
  {
   "cell_type": "code",
   "execution_count": 112,
   "metadata": {},
   "outputs": [
    {
     "data": {
      "text/plain": [
       "array([[-1.81011143,  2.90280708],\n",
       "       [-1.81011143,  2.90280708],\n",
       "       [-1.81011143,  2.90280708],\n",
       "       ...,\n",
       "       [-0.29788997, -5.35270079],\n",
       "       [-0.29788997, -5.35270079],\n",
       "       [-0.55437581, -5.17924182]])"
      ]
     },
     "execution_count": 112,
     "metadata": {},
     "output_type": "execute_result"
    }
   ],
   "source": [
    "samples"
   ]
  },
  {
   "cell_type": "code",
   "execution_count": 113,
   "metadata": {},
   "outputs": [
    {
     "data": {
      "image/png": "[encoded data removed]",
      "text/plain": [
       "<Figure size 432x288 with 1 Axes>"
      ]
     },
     "metadata": {
      "needs_background": "light"
     },
     "output_type": "display_data"
    }
   ],
   "source": [
    "plt.scatter(samples[:,0],samples[:,1])\n",
    "plt.scatter(means[0][0], means[0][1])\n",
    "plt.scatter(means[1][0], means[1][1], color='g')\n",
    "plt.show()"
   ]
  },
  {
   "cell_type": "code",
   "execution_count": null,
   "metadata": {},
   "outputs": [],
   "source": []
  },
  {
   "cell_type": "code",
   "execution_count": null,
   "metadata": {},
   "outputs": [],
   "source": []
  }
 ],
 "metadata": {
  "accelerator": "GPU",
  "colab": {
   "collapsed_sections": [],
   "include_colab_link": true,
   "name": "LambdaNetwork.ipynb",
   "provenance": []
  },
  "kernelspec": {
   "display_name": "tf2",
   "language": "python",
   "name": "tensorflow2"
  },
  "language_info": {
   "codemirror_mode": {
    "name": "ipython",
    "version": 3
   },
   "file_extension": ".py",
   "mimetype": "text/x-python",
   "name": "python",
   "nbconvert_exporter": "python",
   "pygments_lexer": "ipython3",
   "version": "3.7.9"
  }
 },
 "nbformat": 4,
 "nbformat_minor": 4
}
