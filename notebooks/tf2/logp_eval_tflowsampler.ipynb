{
 "cells": [
  {
   "cell_type": "markdown",
   "metadata": {},
   "source": [
    "# PAE logp sampling"
   ]
  },
  {
   "cell_type": "code",
   "execution_count": 1,
   "metadata": {
    "colab": {
     "base_uri": "https://localhost:8080/",
     "height": 35
    },
    "colab_type": "code",
    "id": "D-Fe5G8m1FTC",
    "outputId": "8f21ee4e-6ad4-4fe2-a7a5-0bad6eae0cde"
   },
   "outputs": [],
   "source": [
    "\n",
    "#To make tf 2.0 compatible with tf1.0 code, we disable the tf2.0 functionalities\n",
    "#tf.disable_eager_execution()\n",
    "import numpy as np\n",
    "import os\n",
    "import matplotlib\n",
    "import matplotlib.pyplot as plt\n",
    "import matplotlib.cm as cm\n",
    "from matplotlib import rcParams\n",
    "import sys\n",
    "import pickle\n",
    "from functools import partial\n",
    "import time\n",
    "from tqdm import tqdm\n",
    "\n",
    "plt.rcParams.update({'font.family' : 'lmodern', 'font.size': 16,                                                                                                                                                    \n",
    "                     'axes.labelsize': 16, 'legend.fontsize': 12, \n",
    "                     'xtick.labelsize': 16, 'ytick.labelsize': 16, 'axes.titlesize': 16,\n",
    "                     'axes.linewidth': 1.5})"
   ]
  },
  {
   "cell_type": "code",
   "execution_count": 2,
   "metadata": {},
   "outputs": [],
   "source": [
    "import scipy"
   ]
  },
  {
   "cell_type": "code",
   "execution_count": 3,
   "metadata": {
    "colab": {},
    "colab_type": "code",
    "id": "-AEYmOsH1FTI"
   },
   "outputs": [
    {
     "data": {
      "text/plain": [
       "[PhysicalDevice(name='/physical_device:GPU:0', device_type='GPU')]"
      ]
     },
     "execution_count": 3,
     "metadata": {},
     "output_type": "execute_result"
    }
   ],
   "source": [
    "import tensorflow as tf\n",
    "import tensorflow_probability as tfp\n",
    "import tensorflow_hub as hub\n",
    "tfd = tfp.distributions\n",
    "tfb = tfp.bijectors\n",
    "tf.__version__\n",
    "tf.config.list_physical_devices('GPU')"
   ]
  },
  {
   "cell_type": "code",
   "execution_count": 4,
   "metadata": {},
   "outputs": [
    {
     "name": "stdout",
     "output_type": "stream",
     "text": [
      "2.2.0 0.10.0 0.8.0\n"
     ]
    }
   ],
   "source": [
    "print(tf.__version__, tfp.__version__, hub.__version__)"
   ]
  },
  {
   "cell_type": "markdown",
   "metadata": {},
   "source": [
    "### Loading the trained modules and evaluating logp in tensorflow"
   ]
  },
  {
   "cell_type": "code",
   "execution_count": 5,
   "metadata": {
    "colab": {},
    "colab_type": "code",
    "id": "GI5FLHJsZLTV"
   },
   "outputs": [],
   "source": [
    "from pae.model_tf2 import get_prior, get_posterior"
   ]
  },
  {
   "cell_type": "code",
   "execution_count": 6,
   "metadata": {
    "colab": {},
    "colab_type": "code",
    "id": "V9oAjWb9ZLTc"
   },
   "outputs": [],
   "source": [
    "import pae.create_datasets as crd\n",
    "import pae.load_data as ld\n",
    "load_funcs=dict(mnist=ld.load_mnist, fmnist=ld.load_fmnist)"
   ]
  },
  {
   "cell_type": "code",
   "execution_count": 7,
   "metadata": {
    "colab": {},
    "colab_type": "code",
    "id": "vxW5NtaPZLTi"
   },
   "outputs": [],
   "source": [
    "PROJECT_PATH = \"../../\" \n",
    "PARAMS_PATH = os.path.join(PROJECT_PATH,'params')\n",
    "\n",
    "param_file  = 'params_mnist_-1_10_vae10_AE_test_full_sigma'\n",
    "params      = pickle.load(open(os.path.join(PARAMS_PATH,param_file+'.pkl'),'rb'))"
   ]
  },
  {
   "cell_type": "code",
   "execution_count": 8,
   "metadata": {},
   "outputs": [],
   "source": [
    "# params['module_dir']='../../modules/mnist/class-1/latent_size10/net_type_vae10/loss_AE/test_full_sigma'\n",
    "# params['data_dir']= '../../data/'"
   ]
  },
  {
   "cell_type": "code",
   "execution_count": 9,
   "metadata": {},
   "outputs": [],
   "source": [
    "load_func                                          = partial(load_funcs[params['data_set']])\n",
    "x_train, y_train, x_valid, y_valid, x_test, y_test = load_func(params['data_dir'],flatten=True)\n",
    "\n",
    "if np.all(x_test)==None:\n",
    "    x_test=x_valid\n",
    "\n",
    "x_train = x_train/256.-0.5\n",
    "x_test  = x_test/256.-0.5\n",
    "x_valid = x_valid/256.-0.5"
   ]
  },
  {
   "cell_type": "code",
   "execution_count": 10,
   "metadata": {},
   "outputs": [],
   "source": [
    "generator_path   = os.path.join(params['module_dir'],'decoder')\n",
    "encoder_path     = os.path.join(params['module_dir'],'encoder')\n",
    "nvp_path         = os.path.join(params['module_dir'],'hybrid8_nepoch220')"
   ]
  },
  {
   "cell_type": "code",
   "execution_count": 11,
   "metadata": {},
   "outputs": [],
   "source": [
    "def get_likelihood(decoder,sigma):\n",
    "    \n",
    "    #sigma = np.repeat(np.expand_dims(sigma,0), params['batch_size'], 0) \n",
    "    def likelihood(z):\n",
    "        mean  = decoder({'z':z})['x']\n",
    "        \n",
    "        LL = tfd.MultivariateNormalDiag(loc=mean,scale_diag=sigma)\n",
    "        return tfd.Independent(LL)\n",
    "\n",
    "    return likelihood"
   ]
  },
  {
   "cell_type": "code",
   "execution_count": 12,
   "metadata": {},
   "outputs": [
    {
     "name": "stdout",
     "output_type": "stream",
     "text": [
      "(784,)\n",
      "WARNING:tensorflow:From /global/homes/v/vboehm/.conda/envs/tf22/lib/python3.8/site-packages/tensorflow/python/ops/resource_variable_ops.py:1813: calling BaseResourceVariable.__init__ (from tensorflow.python.ops.resource_variable_ops) with constraint is deprecated and will be removed in a future version.\n",
      "Instructions for updating:\n",
      "If using Keras pass *_constraint arguments to layers.\n"
     ]
    }
   ],
   "source": [
    "#z_fill        = tf.Variable(tf.zeros((params['batch_size'],params['latent_size']),tf.float32),trainable=False)\n",
    "\n",
    "sigma         = params['full_sigma']\n",
    "sigma         = tf.cast(sigma,tf.float32)\n",
    "print(sigma.shape)\n",
    "encoder       = hub.KerasLayer(encoder_path,trainable=False, signature_outputs_as_dict=True)\n",
    "decoder       = hub.KerasLayer(generator_path, trainable=False, signature_outputs_as_dict=True)\n",
    "nvp_funcs     = hub.KerasLayer(nvp_path, trainable=False, signature_outputs_as_dict=True)\n",
    "\n",
    "likelihood    = get_likelihood(decoder,np.repeat(np.expand_dims(sigma,0),16,axis=0))"
   ]
  },
  {
   "cell_type": "code",
   "execution_count": 13,
   "metadata": {},
   "outputs": [],
   "source": [
    "def build_container(z):\n",
    "    filler = np.zeros((params['batch_size'],len(z)))\n",
    "    filler[0] = z\n",
    "    return filler"
   ]
  },
  {
   "cell_type": "code",
   "execution_count": 14,
   "metadata": {
    "colab": {
     "base_uri": "https://localhost:8080/",
     "height": 160
    },
    "colab_type": "code",
    "id": "yvTEYw44O_5q",
    "outputId": "898dcdf7-f38f-4dae-a3aa-4f32a487f0ae"
   },
   "outputs": [],
   "source": [
    "def get_encoded(x):\n",
    "    return encoder({'x':x})['z']\n",
    "\n",
    "def get_decoded(z):\n",
    "    return decoder({'z':z})['x']\n",
    "\n",
    "def likelihood_eval(z,x,likelihood):\n",
    "    likelihood    = likelihood(z).log_prob(x)\n",
    "    return likelihood\n",
    "\n",
    "def prior_eval(z,nvp_funcs=nvp_funcs):\n",
    "    prior         = nvp_funcs({'z_sample':z,'sample_size':1, 'u_sample':np.zeros((1,params['latent_size']))})['log_prob']\n",
    "    return prior\n",
    "\n",
    "def posterior_eval(z,x,likelihood, nvp_funcs):\n",
    "    likelihood   = likelihood_eval(z,x,likelihood)\n",
    "    prior        = get_prior(params['latent_size'])\n",
    "    prior        = prior_eval(z, nvp_funcs)\n",
    "    logprob      = likelihood+prior\n",
    "    return logprob\n",
    "\n",
    "\n",
    "class LogP():\n",
    "    def __init__(self,x):\n",
    "        self.x = x\n",
    "        self.z_fill = tf.Variable(tf.zeros((params['batch_size'],params['latent_size']),tf.float32),trainable=False)\n",
    "\n",
    "#     def logp_grad(self,z):\n",
    "\n",
    "#         self.z_fill[0].assign(z)\n",
    "#         z_  = tf.convert_to_tensor(self.z_fill)\n",
    "\n",
    "#         with tf.GradientTape() as tape:\n",
    "#             tape.watch(z_)\n",
    "#             log_p         = posterior_eval(z_,LP.x,likelihood,nvp_funcs)\n",
    "\n",
    "#         grad = tape.gradient(log_p, [z_])[0]\n",
    "#         return log_p[0], grad[0]\n",
    "\n",
    "#     @tf.custom_gradient\n",
    "#     def logp(self,z):\n",
    "\n",
    "#         logp, grads = self.logp_grad(z)\n",
    "\n",
    "#         def grad(up,variables=None):\n",
    "\n",
    "#             grad_ = up*grads\n",
    "\n",
    "#             return grad_, [None for ii in range(len(variables))] \n",
    "\n",
    "#         return logp, grad\n",
    "    \n",
    "    \n",
    "    def logp_grad(self,z):\n",
    "\n",
    "        self.z_fill.assign(z)\n",
    "        z_  = tf.convert_to_tensor(self.z_fill)\n",
    "        \n",
    "        with tf.GradientTape() as tape:\n",
    "            tape.watch(z_)\n",
    "            log_p         = posterior_eval(z_,self.x,likelihood,nvp_funcs)\n",
    "        grad = tape.gradient(log_p, [z_])\n",
    "        #print(grad)\n",
    "        return log_p, grad[0]\n",
    "\n",
    "    @tf.custom_gradient\n",
    "    def logp(self,z):\n",
    "\n",
    "        logp, grads = self.logp_grad(z)\n",
    "\n",
    "        def grad(up,variables=None):\n",
    "            #print(up.shape)\n",
    "            grad_ = tf.expand_dims(up,-1)*grads\n",
    "\n",
    "            return grad_, [None for ii in range(len(variables))] \n",
    "\n",
    "        return logp, grad"
   ]
  },
  {
   "cell_type": "code",
   "execution_count": null,
   "metadata": {},
   "outputs": [],
   "source": []
  },
  {
   "cell_type": "code",
   "execution_count": 15,
   "metadata": {},
   "outputs": [],
   "source": [
    "x = np.repeat(x_test[0:1], 16, axis=0)\n",
    "LP = LogP(x)\n",
    "z_ini = get_encoded(x)[:,:10]"
   ]
  },
  {
   "cell_type": "code",
   "execution_count": null,
   "metadata": {},
   "outputs": [],
   "source": []
  },
  {
   "cell_type": "code",
   "execution_count": 16,
   "metadata": {},
   "outputs": [
    {
     "name": "stdout",
     "output_type": "stream",
     "text": [
      "WARNING:tensorflow:Layer keras_layer_2 is casting an input tensor from dtype float64 to the layer's dtype of float32, which is new behavior in TensorFlow 2.  The layer has dtype float32 because it's dtype defaults to floatx.\n",
      "\n",
      "If you intended to run this layer in float32, you can safely ignore this warning. If in doubt, this warning is likely only an issue if you are porting a TensorFlow 1.X model to TensorFlow 2.\n",
      "\n",
      "To change all layers to have dtype float64 by default, call `tf.keras.backend.set_floatx('float64')`. To change just this layer, pass dtype='float64' to the layer constructor. If you are the author of this layer, you can disable autocasting by passing autocast=False to the base Layer constructor.\n",
      "\n",
      "tf.Tensor(\n",
      "[1786.3909 1786.3909 1786.3909 1786.3909 1786.3909 1786.3909 1786.3909\n",
      " 1786.3909 1786.3909 1786.3909 1786.3909 1786.3909 1786.3909 1786.3909\n",
      " 1786.3909 1786.3909], shape=(16,), dtype=float32)\n"
     ]
    }
   ],
   "source": [
    "y = LP.logp(z_ini)\n",
    "print(y)"
   ]
  },
  {
   "cell_type": "code",
   "execution_count": 17,
   "metadata": {},
   "outputs": [
    {
     "name": "stdout",
     "output_type": "stream",
     "text": [
      "tf.Tensor(\n",
      "[[ 104.02609    -70.99849     22.1591      50.654842    20.713633\n",
      "  -151.5986     -15.127488    -3.1477723  117.18769    -47.912624 ]\n",
      " [ 104.02609    -70.99849     22.1591      50.654842    20.713633\n",
      "  -151.5986     -15.127488    -3.1477723  117.18769    -47.912624 ]\n",
      " [ 104.02609    -70.99849     22.1591      50.654842    20.713633\n",
      "  -151.5986     -15.127488    -3.1477723  117.18769    -47.912624 ]\n",
      " [ 104.02609    -70.99849     22.1591      50.654842    20.713633\n",
      "  -151.5986     -15.127488    -3.1477723  117.18769    -47.912624 ]\n",
      " [ 104.02609    -70.99849     22.1591      50.654842    20.713633\n",
      "  -151.5986     -15.127488    -3.1477723  117.18769    -47.912624 ]\n",
      " [ 104.02609    -70.99849     22.1591      50.654842    20.713633\n",
      "  -151.5986     -15.127488    -3.1477723  117.18769    -47.912624 ]\n",
      " [ 104.02609    -70.99849     22.1591      50.654842    20.713633\n",
      "  -151.5986     -15.127488    -3.1477723  117.18769    -47.912624 ]\n",
      " [ 104.02609    -70.99849     22.1591      50.654842    20.713633\n",
      "  -151.5986     -15.127488    -3.1477723  117.18769    -47.912624 ]\n",
      " [ 104.02609    -70.99849     22.1591      50.654842    20.713633\n",
      "  -151.5986     -15.127488    -3.1477723  117.18769    -47.912624 ]\n",
      " [ 104.02609    -70.99849     22.1591      50.654842    20.713633\n",
      "  -151.5986     -15.127488    -3.1477723  117.18769    -47.912624 ]\n",
      " [ 104.02609    -70.99849     22.1591      50.654842    20.713633\n",
      "  -151.5986     -15.127488    -3.1477723  117.18769    -47.912624 ]\n",
      " [ 104.02609    -70.99849     22.1591      50.654842    20.713633\n",
      "  -151.5986     -15.127488    -3.1477723  117.18769    -47.912624 ]\n",
      " [ 104.02609    -70.99849     22.1591      50.654842    20.713633\n",
      "  -151.5986     -15.127488    -3.1477723  117.18769    -47.912624 ]\n",
      " [ 104.02609    -70.99849     22.1591      50.654842    20.713633\n",
      "  -151.5986     -15.127488    -3.1477723  117.18769    -47.912624 ]\n",
      " [ 104.02609    -70.99849     22.1591      50.654842    20.713633\n",
      "  -151.5986     -15.127488    -3.1477723  117.18769    -47.912624 ]\n",
      " [ 104.02609    -70.99849     22.1591      50.654842    20.713633\n",
      "  -151.5986     -15.127488    -3.1477723  117.18769    -47.912624 ]], shape=(16, 10), dtype=float32)\n"
     ]
    }
   ],
   "source": [
    "z_ = tf.constant(z_ini)\n",
    "with tf.GradientTape() as g:\n",
    "    g.watch(z_)\n",
    "    y = LP.logp(z_)\n",
    "grad = g.gradient(y, z_)\n",
    "print(grad)"
   ]
  },
  {
   "cell_type": "code",
   "execution_count": 122,
   "metadata": {},
   "outputs": [
    {
     "name": "stdout",
     "output_type": "stream",
     "text": [
      "tfp.distributions.MultivariateNormalDiag(\"MultivariateNormalDiag\", batch_shape=[16], event_shape=[784], dtype=float32)\n",
      "WARNING:tensorflow:Calling GradientTape.gradient on a persistent tape inside its context is significantly less efficient than calling it outside the context (it causes the gradient ops to be recorded on the tape, leading to increased CPU and memory usage). Only call GradientTape.gradient inside the context if you actually want to trace the gradient in order to compute higher order derivatives.\n",
      "WARNING:tensorflow:From /global/homes/v/vboehm/.conda/envs/tf22/lib/python3.8/site-packages/tensorflow/python/ops/array_grad.py:644: _EagerTensorBase.cpu (from tensorflow.python.framework.ops) is deprecated and will be removed in a future version.\n",
      "Instructions for updating:\n",
      "Use tf.identity instead.\n"
     ]
    }
   ],
   "source": [
    "LP = LogP(x_test[0:16])\n",
    "z_ = tf.constant(z_ini)\n",
    "\n",
    "# with tf.GradientTape() as g:\n",
    "#     g.watch(z_)\n",
    "#     with tf.GradientTape() as h:\n",
    "#         h.watch(z_)\n",
    "#     y    = LP.logp(z_)\n",
    "#     grad = g.gradient(y, z_)\n",
    "# hess = h.gradient(grad, z_)\n",
    "\n",
    "\n",
    "with tf.GradientTape(persistent=True) as t1:\n",
    "    t1.watch(z_)\n",
    "    y    = posterior_eval(z_,LP.x,likelihood,nvp_funcs)[0]\n",
    "    g    = t1.gradient(y, z_)\n",
    "h = t1.jacobian(g, z_, experimental_use_pfor=False)[0,:,0,:]\n"
   ]
  },
  {
   "cell_type": "markdown",
   "metadata": {},
   "source": [
    "### Minimize -logp, starting from encoded value"
   ]
  },
  {
   "cell_type": "code",
   "execution_count": 35,
   "metadata": {},
   "outputs": [],
   "source": [
    "z_starts = np.random.randn(20,10).reshape((20,10)).astype(np.float32)"
   ]
  },
  {
   "cell_type": "code",
   "execution_count": 31,
   "metadata": {},
   "outputs": [],
   "source": []
  },
  {
   "cell_type": "code",
   "execution_count": null,
   "metadata": {},
   "outputs": [],
   "source": [
    "optimizer  = tf.keras.optimizers.Adam(learning_rate=0.01)\n",
    "z_res      = []\n",
    "final_loss = []\n",
    "losses     = []\n",
    "hessians   = []\n",
    "for ii in range(len(z_starts)):\n",
    "    z_var     = tf.Variable(z_starts[ii])\n",
    "    for iteration in tqdm(range(300)):\n",
    "        optimizer.minimize(lambda: -LP.logp(z_var), var_list=[z_var])\n",
    "        loss  = -LP.logp(z_var)\n",
    "    #     grads = logp_grad(z,negative=True)\n",
    "    #    loss  = logp(z,negative=True)\n",
    "    #     optimizer.apply_gradients(zip(grads, [z_var]))\n",
    "        losses.append(loss)\n",
    "    z_ = tf.constant(z_ini)\n",
    "\n",
    "# with tf.GradientTape() as g:\n",
    "#     g.watch(z_)\n",
    "#     with tf.GradientTape() as h:\n",
    "#         h.watch(z_)\n",
    "#     y    = LP.logp(z_)\n",
    "#     grad = g.gradient(y, z_)\n",
    "# hess = h.gradient(grad, z_)\n",
    "\n",
    "    z_min = tf.convert_to_tensor(z_var)\n",
    "    z_    = build_container(z_min)\n",
    "    z_    = tf.convert_to_tensor(z_)\n",
    "    with tf.GradientTape(persistent=True) as t1:\n",
    "        t1.watch(z_)\n",
    "        y    = posterior_eval(z_,LP.x,likelihood,nvp_funcs)[0]\n",
    "        g    = t1.gradient(y, z_)\n",
    "    h = t1.jacobian(g, z_, experimental_use_pfor=False)[0,:,0,:]\n",
    "    print(loss, z_var)\n",
    "    final_loss.append(loss)\n",
    "    hessians.append(h)\n",
    "    \n",
    "    z_res.append(z_min)\n",
    "losses = np.asarray(losses).reshape((20,-1))"
   ]
  },
  {
   "cell_type": "code",
   "execution_count": 25,
   "metadata": {},
   "outputs": [
    {
     "data": {
      "text/plain": [
       "(1.0, 63.73190675361856)"
      ]
     },
     "execution_count": 25,
     "metadata": {},
     "output_type": "execute_result"
    }
   ],
   "source": []
  },
  {
   "cell_type": "code",
   "execution_count": 49,
   "metadata": {},
   "outputs": [],
   "source": [
    "real_minimas=[]\n",
    "for ii in range(len(hessians)):\n",
    "    eigs = np.linalg.eigvalsh(hessians[ii])\n",
    "    if np.all(eigs<0):\n",
    "        real_minimas.append(ii)"
   ]
  },
  {
   "cell_type": "code",
   "execution_count": 54,
   "metadata": {},
   "outputs": [
    {
     "name": "stdout",
     "output_type": "stream",
     "text": [
      "[ 0  1  2  4  5  6  7  8 10 11 12 13 15 16 17 18 19]\n"
     ]
    }
   ],
   "source": [
    "real_minimas = np.asarray(real_minimas, dtype=int)\n",
    "print(real_minimas)"
   ]
  },
  {
   "cell_type": "code",
   "execution_count": 77,
   "metadata": {},
   "outputs": [],
   "source": [
    "order = np.argsort(np.asarray(final_loss)[real_minimas])"
   ]
  },
  {
   "cell_type": "code",
   "execution_count": 60,
   "metadata": {},
   "outputs": [
    {
     "data": {
      "text/plain": [
       "[<matplotlib.lines.Line2D at 0x2aafc688f220>]"
      ]
     },
     "execution_count": 60,
     "metadata": {},
     "output_type": "execute_result"
    },
    {
     "data": {
      "image/png": "[encoded data removed]",
      "text/plain": [
       "<Figure size 432x288 with 1 Axes>"
      ]
     },
     "metadata": {
      "needs_background": "light"
     },
     "output_type": "display_data"
    }
   ],
   "source": [
    "plt.plot(np.sort(np.asarray(final_loss)[:]),ls='', marker='o')"
   ]
  },
  {
   "cell_type": "code",
   "execution_count": 80,
   "metadata": {},
   "outputs": [
    {
     "data": {
      "text/plain": [
       "Text(0, 0.5, 'position of minimum')"
      ]
     },
     "execution_count": 80,
     "metadata": {},
     "output_type": "execute_result"
    },
    {
     "data": {
      "image/png": "[encoded data removed]",
      "text/plain": [
       "<Figure size 432x288 with 1 Axes>"
      ]
     },
     "metadata": {
      "needs_background": "light"
     },
     "output_type": "display_data"
    }
   ],
   "source": [
    "col = plt.cm.jet(np.linspace(0,1,len(order)))\n",
    "for ii in range(len(real_minimas[order])):\n",
    "    plt.scatter(np.arange(10),np.asarray(z_res)[real_minimas[order]][ii], label='-logp=%.1f'%np.asarray(final_loss)[real_minimas[order]][ii], color=col[ii]) \n",
    "plt.legend(loc=(1.01,0.01), ncol=2)\n",
    "plt.xlabel('latent space direction')\n",
    "plt.ylabel('position of minimum')"
   ]
  },
  {
   "cell_type": "code",
   "execution_count": 211,
   "metadata": {},
   "outputs": [
    {
     "name": "stderr",
     "output_type": "stream",
     "text": [
      "100%|██████████| 300/300 [00:52<00:00,  5.71it/s]\n"
     ]
    }
   ],
   "source": [
    "optimizer = tf.keras.optimizers.Adam(learning_rate=0.01)\n",
    "\n",
    "\n",
    "z_var     = tf.Variable(z_ini)\n",
    "losses    = []\n",
    "for iteration in tqdm(range(300)):\n",
    "    optimizer.minimize(lambda: -LP.logp(z_var), var_list=[z_var])\n",
    "    loss  = -LP.logp(z_var)\n",
    "#     grads = logp_grad(z,negative=True)\n",
    "#     loss  = logp(z,negative=True)\n",
    "#     optimizer.apply_gradients(zip(grads, [z_var]))   \n",
    "    losses.append(loss)\n",
    "z_min = tf.convert_to_tensor(z_var)"
   ]
  },
  {
   "cell_type": "code",
   "execution_count": 212,
   "metadata": {},
   "outputs": [
    {
     "name": "stdout",
     "output_type": "stream",
     "text": [
      "tf.Tensor(\n",
      "[[ 2.0311289e-03  1.0710145e+00 -1.5777866e+00  1.6347133e+00\n",
      "   1.0667417e+00 -1.0119954e+00 -6.0431015e-01  7.3335701e-01\n",
      "  -1.3446429e+00 -2.6850467e+00]\n",
      " [ 2.0311289e-03  1.0710145e+00 -1.5777866e+00  1.6347133e+00\n",
      "   1.0667417e+00 -1.0119954e+00 -6.0431015e-01  7.3335701e-01\n",
      "  -1.3446429e+00 -2.6850467e+00]\n",
      " [ 2.0311289e-03  1.0710145e+00 -1.5777866e+00  1.6347133e+00\n",
      "   1.0667417e+00 -1.0119954e+00 -6.0431015e-01  7.3335701e-01\n",
      "  -1.3446429e+00 -2.6850467e+00]\n",
      " [ 2.0311289e-03  1.0710145e+00 -1.5777866e+00  1.6347133e+00\n",
      "   1.0667417e+00 -1.0119954e+00 -6.0431015e-01  7.3335701e-01\n",
      "  -1.3446429e+00 -2.6850467e+00]\n",
      " [ 2.0311289e-03  1.0710145e+00 -1.5777866e+00  1.6347133e+00\n",
      "   1.0667417e+00 -1.0119954e+00 -6.0431015e-01  7.3335701e-01\n",
      "  -1.3446429e+00 -2.6850467e+00]\n",
      " [ 2.0311289e-03  1.0710145e+00 -1.5777866e+00  1.6347133e+00\n",
      "   1.0667417e+00 -1.0119954e+00 -6.0431015e-01  7.3335701e-01\n",
      "  -1.3446429e+00 -2.6850467e+00]\n",
      " [ 2.0311289e-03  1.0710145e+00 -1.5777866e+00  1.6347133e+00\n",
      "   1.0667417e+00 -1.0119954e+00 -6.0431015e-01  7.3335701e-01\n",
      "  -1.3446429e+00 -2.6850467e+00]\n",
      " [ 2.0311289e-03  1.0710145e+00 -1.5777866e+00  1.6347133e+00\n",
      "   1.0667417e+00 -1.0119954e+00 -6.0431015e-01  7.3335701e-01\n",
      "  -1.3446429e+00 -2.6850467e+00]\n",
      " [ 2.0311289e-03  1.0710145e+00 -1.5777866e+00  1.6347133e+00\n",
      "   1.0667417e+00 -1.0119954e+00 -6.0431015e-01  7.3335701e-01\n",
      "  -1.3446429e+00 -2.6850467e+00]\n",
      " [ 2.0311289e-03  1.0710145e+00 -1.5777866e+00  1.6347133e+00\n",
      "   1.0667417e+00 -1.0119954e+00 -6.0431015e-01  7.3335701e-01\n",
      "  -1.3446429e+00 -2.6850467e+00]\n",
      " [ 2.0311289e-03  1.0710145e+00 -1.5777866e+00  1.6347133e+00\n",
      "   1.0667417e+00 -1.0119954e+00 -6.0431015e-01  7.3335701e-01\n",
      "  -1.3446429e+00 -2.6850467e+00]\n",
      " [ 2.0311289e-03  1.0710145e+00 -1.5777866e+00  1.6347133e+00\n",
      "   1.0667417e+00 -1.0119954e+00 -6.0431015e-01  7.3335701e-01\n",
      "  -1.3446429e+00 -2.6850467e+00]\n",
      " [ 2.0311289e-03  1.0710145e+00 -1.5777866e+00  1.6347133e+00\n",
      "   1.0667417e+00 -1.0119954e+00 -6.0431015e-01  7.3335701e-01\n",
      "  -1.3446429e+00 -2.6850467e+00]\n",
      " [ 2.0311289e-03  1.0710145e+00 -1.5777866e+00  1.6347133e+00\n",
      "   1.0667417e+00 -1.0119954e+00 -6.0431015e-01  7.3335701e-01\n",
      "  -1.3446429e+00 -2.6850467e+00]\n",
      " [ 2.0311289e-03  1.0710145e+00 -1.5777866e+00  1.6347133e+00\n",
      "   1.0667417e+00 -1.0119954e+00 -6.0431015e-01  7.3335701e-01\n",
      "  -1.3446429e+00 -2.6850467e+00]\n",
      " [ 2.0311289e-03  1.0710145e+00 -1.5777866e+00  1.6347133e+00\n",
      "   1.0667417e+00 -1.0119954e+00 -6.0431015e-01  7.3335701e-01\n",
      "  -1.3446429e+00 -2.6850467e+00]], shape=(16, 10), dtype=float32)\n"
     ]
    }
   ],
   "source": [
    "print(z_min)"
   ]
  },
  {
   "cell_type": "code",
   "execution_count": 213,
   "metadata": {},
   "outputs": [
    {
     "data": {
      "text/plain": [
       "[<matplotlib.lines.Line2D at 0x2aafc9ebcb80>,\n",
       " <matplotlib.lines.Line2D at 0x2aafc9ebcca0>,\n",
       " <matplotlib.lines.Line2D at 0x2aafc9ebce20>,\n",
       " <matplotlib.lines.Line2D at 0x2aafc9ebcee0>,\n",
       " <matplotlib.lines.Line2D at 0x2aafc9ebcfa0>,\n",
       " <matplotlib.lines.Line2D at 0x2aafc68650a0>,\n",
       " <matplotlib.lines.Line2D at 0x2aafc6865160>,\n",
       " <matplotlib.lines.Line2D at 0x2aafc6865220>,\n",
       " <matplotlib.lines.Line2D at 0x2aafc68652e0>,\n",
       " <matplotlib.lines.Line2D at 0x2aafc68653a0>,\n",
       " <matplotlib.lines.Line2D at 0x2aafc99c7a90>,\n",
       " <matplotlib.lines.Line2D at 0x2aafc68654c0>,\n",
       " <matplotlib.lines.Line2D at 0x2aafc68655b0>,\n",
       " <matplotlib.lines.Line2D at 0x2aafc6865670>,\n",
       " <matplotlib.lines.Line2D at 0x2aafc6865730>,\n",
       " <matplotlib.lines.Line2D at 0x2aafc68657f0>]"
      ]
     },
     "execution_count": 213,
     "metadata": {},
     "output_type": "execute_result"
    },
    {
     "name": "stderr",
     "output_type": "stream",
     "text": [
      "findfont: Font family ['lmodern'] not found. Falling back to DejaVu Sans.\n"
     ]
    },
    {
     "data": {
      "image/png": "[encoded data removed]",
      "text/plain": [
       "<Figure size 432x288 with 1 Axes>"
      ]
     },
     "metadata": {
      "needs_background": "light"
     },
     "output_type": "display_data"
    }
   ],
   "source": [
    "losses = np.asarray(losses)\n",
    "plt.plot(losses)"
   ]
  },
  {
   "cell_type": "code",
   "execution_count": 84,
   "metadata": {},
   "outputs": [],
   "source": []
  },
  {
   "cell_type": "code",
   "execution_count": 43,
   "metadata": {},
   "outputs": [
    {
     "ename": "NameError",
     "evalue": "name 'z_min' is not defined",
     "output_type": "error",
     "traceback": [
      "\u001b[0;31m---------------------------------------------------------------------------\u001b[0m",
      "\u001b[0;31mNameError\u001b[0m                                 Traceback (most recent call last)",
      "\u001b[0;32m<ipython-input-43-925a3efcd685>\u001b[0m in \u001b[0;36m<module>\u001b[0;34m\u001b[0m\n\u001b[0;32m----> 1\u001b[0;31m \u001b[0mx_esti\u001b[0m \u001b[0;34m=\u001b[0m \u001b[0mnp\u001b[0m\u001b[0;34m.\u001b[0m\u001b[0mreshape\u001b[0m\u001b[0;34m(\u001b[0m\u001b[0mget_decoded\u001b[0m\u001b[0;34m(\u001b[0m\u001b[0mz_min\u001b[0m\u001b[0;34m)\u001b[0m\u001b[0;34m[\u001b[0m\u001b[0;36m0\u001b[0m\u001b[0;34m]\u001b[0m\u001b[0;34m,\u001b[0m \u001b[0;34m(\u001b[0m\u001b[0;36m28\u001b[0m\u001b[0;34m,\u001b[0m\u001b[0;36m28\u001b[0m\u001b[0;34m)\u001b[0m\u001b[0;34m)\u001b[0m\u001b[0;34m\u001b[0m\u001b[0;34m\u001b[0m\u001b[0m\n\u001b[0m\u001b[1;32m      2\u001b[0m \u001b[0mx_ini\u001b[0m  \u001b[0;34m=\u001b[0m \u001b[0mnp\u001b[0m\u001b[0;34m.\u001b[0m\u001b[0mreshape\u001b[0m\u001b[0;34m(\u001b[0m\u001b[0mget_decoded\u001b[0m\u001b[0;34m(\u001b[0m\u001b[0mz_ini\u001b[0m\u001b[0;34m)\u001b[0m\u001b[0;34m[\u001b[0m\u001b[0;36m0\u001b[0m\u001b[0;34m]\u001b[0m\u001b[0;34m,\u001b[0m \u001b[0;34m(\u001b[0m\u001b[0;36m28\u001b[0m\u001b[0;34m,\u001b[0m\u001b[0;36m28\u001b[0m\u001b[0;34m)\u001b[0m\u001b[0;34m)\u001b[0m\u001b[0;34m\u001b[0m\u001b[0;34m\u001b[0m\u001b[0m\n",
      "\u001b[0;31mNameError\u001b[0m: name 'z_min' is not defined"
     ]
    }
   ],
   "source": [
    "x_esti = np.reshape(get_decoded(z_min)[0], (28,28))\n",
    "x_ini  = np.reshape(get_decoded(z_ini)[0], (28,28))"
   ]
  },
  {
   "cell_type": "code",
   "execution_count": 220,
   "metadata": {
    "colab": {},
    "colab_type": "code",
    "id": "Tts2_qqiZLUR"
   },
   "outputs": [
    {
     "data": {
      "image/png": "[encoded data removed]",
      "text/plain": [
       "<Figure size 432x288 with 1 Axes>"
      ]
     },
     "metadata": {
      "needs_background": "light"
     },
     "output_type": "display_data"
    },
    {
     "data": {
      "image/png": "[encoded data removed]",
      "text/plain": [
       "<Figure size 432x288 with 1 Axes>"
      ]
     },
     "metadata": {
      "needs_background": "light"
     },
     "output_type": "display_data"
    },
    {
     "data": {
      "image/png": "[encoded data removed]",
      "text/plain": [
       "<Figure size 432x288 with 1 Axes>"
      ]
     },
     "metadata": {
      "needs_background": "light"
     },
     "output_type": "display_data"
    },
    {
     "data": {
      "image/png": "[encoded data removed]",
      "text/plain": [
       "<Figure size 432x288 with 1 Axes>"
      ]
     },
     "metadata": {
      "needs_background": "light"
     },
     "output_type": "display_data"
    },
    {
     "data": {
      "image/png": "[encoded data removed]",
      "text/plain": [
       "<Figure size 432x288 with 1 Axes>"
      ]
     },
     "metadata": {
      "needs_background": "light"
     },
     "output_type": "display_data"
    },
    {
     "data": {
      "image/png": "[encoded data removed]",
      "text/plain": [
       "<Figure size 432x288 with 1 Axes>"
      ]
     },
     "metadata": {
      "needs_background": "light"
     },
     "output_type": "display_data"
    },
    {
     "name": "stdout",
     "output_type": "stream",
     "text": [
      "summed square error after and before optimization\n",
      "1.7750435 1.932348\n"
     ]
    }
   ],
   "source": [
    "plt.title('best estimate')\n",
    "plt.imshow(np.reshape(x_esti, (28,28)))\n",
    "plt.axis('off')\n",
    "plt.show()\n",
    "plt.title('encoded')\n",
    "plt.imshow(np.reshape(x_ini,(28,28)))\n",
    "plt.axis('off')\n",
    "plt.show()\n",
    "plt.title('truth')\n",
    "plt.imshow(x_test[0].reshape(28,28))\n",
    "plt.axis('off')\n",
    "plt.show()\n",
    "plt.title('truth-best estimate')\n",
    "plt.imshow(x_test[0].reshape(28,28)-x_esti.reshape(28,28))\n",
    "plt.axis('off')\n",
    "plt.show()\n",
    "plt.title('truth-encoded')\n",
    "plt.imshow(x_test[0].reshape(28,28)-x_ini.reshape(28,28))\n",
    "plt.axis('off')\n",
    "plt.show()\n",
    "plt.title('encoded-best estimate')\n",
    "plt.imshow(x_ini.reshape(28,28)-x_esti.reshape(28,28))\n",
    "plt.axis('off')\n",
    "plt.show()\n",
    "print('summed square error after and before optimization')\n",
    "print(np.sum((x_test[0].reshape(28,28)-x_esti.reshape(28,28))**2),np.sum((x_test[0].reshape(28,28)-x_ini.reshape(28,28))**2))"
   ]
  },
  {
   "cell_type": "code",
   "execution_count": 223,
   "metadata": {},
   "outputs": [
    {
     "data": {
      "text/plain": [
       "625.0"
      ]
     },
     "execution_count": 223,
     "metadata": {},
     "output_type": "execute_result"
    }
   ],
   "source": [
    "# todo: run 16 chains at a time?\n",
    "(10000/16)\n"
   ]
  },
  {
   "cell_type": "code",
   "execution_count": 25,
   "metadata": {},
   "outputs": [],
   "source": [
    "import time"
   ]
  },
  {
   "cell_type": "code",
   "execution_count": 29,
   "metadata": {},
   "outputs": [],
   "source": [
    "# Initialize the HMC transition kernel.\n",
    "num_results = int(625*2)\n",
    "num_burnin_steps = int(500)\n",
    "\n",
    "\n",
    "def get_kernel(ii):\n",
    "    x     = np.repeat(x_test[ii:ii+1], 16, axis=0)\n",
    "    LP    = LogP(x)\n",
    "    z_ini = get_encoded(x)[:,:10]\n",
    "    adaptive_hmc = tfp.mcmc.DualAveragingStepSizeAdaptation(\n",
    "        tfp.mcmc.HamiltonianMonteCarlo(\n",
    "            target_log_prob_fn=LP.logp,\n",
    "            num_leapfrog_steps=3,\n",
    "            step_size=1.0),\n",
    "        num_adaptation_steps=int(num_burnin_steps * 0.8))\n",
    "    return adaptive_hmc, z_ini, LP\n",
    "\n",
    "# Run the chain (with burn-in).\n",
    "@tf.function\n",
    "def run_chain(adapative_hmc, z_ini):\n",
    "  # Run the chain (with burn-in).\n",
    "    samples, is_accepted = tfp.mcmc.sample_chain(\n",
    "      num_results      = num_results,\n",
    "      num_burnin_steps = num_burnin_steps,\n",
    "      current_state    = z_ini,\n",
    "      kernel           = adaptive_hmc,\n",
    "      trace_fn         = lambda _, pkr: pkr.inner_results.is_accepted)\n",
    "\n",
    "    return samples[::2,:,:]\n",
    "\n"
   ]
  },
  {
   "cell_type": "code",
   "execution_count": null,
   "metadata": {},
   "outputs": [
    {
     "name": "stdout",
     "output_type": "stream",
     "text": [
      "WARNING:tensorflow:From /global/homes/v/vboehm/.conda/envs/tf22/lib/python3.8/site-packages/tensorflow/python/ops/linalg/linear_operator_diag.py:159: calling LinearOperator.__init__ (from tensorflow.python.ops.linalg.linear_operator) with graph_parents is deprecated and will be removed in a future version.\n",
      "Instructions for updating:\n",
      "Do not pass `graph_parents`.  They will  no longer be used.\n",
      "WARNING:tensorflow:From /global/homes/v/vboehm/.conda/envs/tf22/lib/python3.8/site-packages/tensorflow_probability/python/distributions/distribution.py:332: calling MultivariateNormalDiag.__init__ (from tensorflow_probability.python.distributions.mvn_diag) with scale_identity_multiplier is deprecated and will be removed after 2020-01-01.\n",
      "Instructions for updating:\n",
      "`scale_identity_multiplier` is deprecated; please combine it with `scale_diag` directly instead.\n",
      "WARNING:tensorflow:Layer keras_layer_1 is casting an input tensor from dtype float64 to the layer's dtype of float32, which is new behavior in TensorFlow 2.  The layer has dtype float32 because it's dtype defaults to floatx.\n",
      "\n",
      "If you intended to run this layer in float32, you can safely ignore this warning. If in doubt, this warning is likely only an issue if you are porting a TensorFlow 1.X model to TensorFlow 2.\n",
      "\n",
      "To change all layers to have dtype float64 by default, call `tf.keras.backend.set_floatx('float64')`. To change just this layer, pass dtype='float64' to the layer constructor. If you are the author of this layer, you can disable autocasting by passing autocast=False to the base Layer constructor.\n",
      "\n"
     ]
    },
    {
     "name": "stderr",
     "output_type": "stream",
     "text": [
      "/global/homes/v/vboehm/.conda/envs/tf22/lib/python3.8/site-packages/numpy/core/_asarray.py:136: VisibleDeprecationWarning: Creating an ndarray from ragged nested sequences (which is a list-or-tuple of lists-or-tuples-or ndarrays with different lengths or shapes) is deprecated. If you meant to do this, you must specify 'dtype=object' when creating the ndarray\n",
      "  return array(a, dtype, copy=False, order=order, subok=True)\n",
      "findfont: Font family ['lmodern'] not found. Falling back to DejaVu Sans.\n"
     ]
    },
    {
     "data": {
      "image/png": "[encoded data removed]",
      "text/plain": [
       "<Figure size 432x288 with 1 Axes>"
      ]
     },
     "metadata": {
      "needs_background": "light"
     },
     "output_type": "display_data"
    },
    {
     "data": {
      "image/png": "[encoded data removed]",
      "text/plain": [
       "<Figure size 432x288 with 1 Axes>"
      ]
     },
     "metadata": {
      "needs_background": "light"
     },
     "output_type": "display_data"
    },
    {
     "data": {
      "image/png": "[encoded data removed]",
      "text/plain": [
       "<Figure size 432x288 with 1 Axes>"
      ]
     },
     "metadata": {
      "needs_background": "light"
     },
     "output_type": "display_data"
    },
    {
     "data": {
      "image/png": "[encoded data removed]",
      "text/plain": [
       "<Figure size 432x288 with 1 Axes>"
      ]
     },
     "metadata": {
      "needs_background": "light"
     },
     "output_type": "display_data"
    }
   ],
   "source": [
    "begin = time.time()\n",
    "for ii in range(2,30):\n",
    "    adaptive_hmc, z_ini, LP = get_kernel(ii)\n",
    "    samples             = run_chain(adaptive_hmc, z_ini)\n",
    "    samples             = np.squeeze(samples.numpy().reshape(-1,params['latent_size']))\n",
    "    logps               = np.zeros(len(samples))\n",
    "    for jj in range(len(samples)//params['batch_size']):\n",
    "        logps[jj*params['batch_size']:(jj+1)*params['batch_size']] = LP.logp(samples[jj*params['batch_size']:(jj+1)*params['batch_size']])\n",
    "    np.save(os.path.join('/global/cscratch1/sd/vboehm/PAE_samples','HMC_MNIST_test%d_latent_dim%d.npy'%(ii, params['latent_size'])),[[logps],samples])\n",
    "    x_mean              = np.reshape(get_decoded(build_container(samples.mean(axis=0)))[0], (28,28))\n",
    "    plt.title('mean')\n",
    "    plt.imshow(x_mean.reshape(28,28))\n",
    "    plt.axis('off')\n",
    "    plt.show()\n",
    "end                 = time.time()-begin"
   ]
  },
  {
   "cell_type": "code",
   "execution_count": null,
   "metadata": {},
   "outputs": [],
   "source": [
    "print(end)"
   ]
  },
  {
   "cell_type": "code",
   "execution_count": 24,
   "metadata": {},
   "outputs": [],
   "source": [
    "a, samples = np.load(os.path.join('/global/cscratch1/sd/vboehm/PAE_samples','HMC_MNIST_test%d_latent_dim%d.npy'%(1, params['latent_size'])),allow_pickle=True)"
   ]
  },
  {
   "cell_type": "code",
   "execution_count": 28,
   "metadata": {},
   "outputs": [
    {
     "data": {
      "text/plain": [
       "(10000, 10)"
      ]
     },
     "execution_count": 28,
     "metadata": {},
     "output_type": "execute_result"
    }
   ],
   "source": [
    "b.shape"
   ]
  },
  {
   "cell_type": "code",
   "execution_count": null,
   "metadata": {},
   "outputs": [],
   "source": [
    "print(end/60.)"
   ]
  },
  {
   "cell_type": "code",
   "execution_count": null,
   "metadata": {},
   "outputs": [],
   "source": [
    "sample_mean   = tf.reduce_mean(samples, axis=0)\n",
    "sample_stddev = tf.math.reduce_std(samples,axis=0)\n",
    "sample_mean, sample_stddev"
   ]
  },
  {
   "cell_type": "code",
   "execution_count": null,
   "metadata": {},
   "outputs": [],
   "source": []
  },
  {
   "cell_type": "code",
   "execution_count": null,
   "metadata": {},
   "outputs": [],
   "source": [
    "import corner"
   ]
  },
  {
   "cell_type": "code",
   "execution_count": null,
   "metadata": {},
   "outputs": [],
   "source": [
    "corner.corner(samples)\n",
    "plt.show()"
   ]
  },
  {
   "cell_type": "code",
   "execution_count": null,
   "metadata": {},
   "outputs": [],
   "source": [
    "for ii in range(10):\n",
    "    for n in [10000]:\n",
    "        plt.plot(samples[:n,ii])\n",
    "        plt.show()"
   ]
  },
  {
   "cell_type": "code",
   "execution_count": null,
   "metadata": {},
   "outputs": [],
   "source": [
    "\n",
    "\n",
    "def next_pow_two(n):\n",
    "    i = 1\n",
    "    while i < n:\n",
    "        i = i << 1\n",
    "    return i\n",
    "\n",
    "def autocorr_func_1d(x, norm=True):\n",
    "    x = np.atleast_1d(x)\n",
    "    if len(x.shape) != 1:\n",
    "        raise ValueError(\"invalid dimensions for 1D autocorrelation function\")\n",
    "    n = next_pow_two(len(x))\n",
    "\n",
    "    # Compute the FFT and then (from that) the auto-correlation function\n",
    "    f = np.fft.fft(x - np.mean(x), n=2 * n)\n",
    "    acf = np.fft.ifft(f * np.conjugate(f))[: len(x)].real\n",
    "    acf /= 4 * n\n",
    "\n",
    "    # Optionally normalize\n",
    "    if norm:\n",
    "        acf /= acf[0]\n",
    "\n",
    "    return acf\n",
    "\n"
   ]
  },
  {
   "cell_type": "code",
   "execution_count": null,
   "metadata": {},
   "outputs": [],
   "source": [
    "\n",
    "\n",
    "for ii in range(10):\n",
    "    for n in [100]:\n",
    "        acf = autocorr_func_1d(samples[:n,ii], norm=True)\n",
    "        plt.plot(acf)\n",
    "        plt.show()\n",
    "\n"
   ]
  },
  {
   "cell_type": "code",
   "execution_count": null,
   "metadata": {},
   "outputs": [],
   "source": [
    "samples= np.expand_dims(samples,0)\n",
    "\n",
    "# Automated windowing procedure following Sokal (1989)\n",
    "def auto_window(taus, c):\n",
    "    m = np.arange(len(taus)) < c * taus\n",
    "    if np.any(m):\n",
    "        return np.argmin(m)\n",
    "    return len(taus) - 1\n",
    "\n",
    "\n",
    "# Following the suggestion from Goodman & Weare (2010)\n",
    "def autocorr_gw2010(y, c=5.0):\n",
    "    f = autocorr_func_1d(np.mean(y, axis=0))\n",
    "    taus = 2.0 * np.cumsum(f) - 1.0\n",
    "    window = auto_window(taus, c)\n",
    "    return taus[window]\n",
    "\n",
    "\n",
    "def autocorr_new(y, c=5.0):\n",
    "    f = np.zeros(y.shape[1])\n",
    "    for yy in y:\n",
    "        f += autocorr_func_1d(yy)\n",
    "    f /= len(y)\n",
    "    taus = 2.0 * np.cumsum(f) - 1.0\n",
    "    window = auto_window(taus, c)\n",
    "    return taus[window]\n",
    "\n"
   ]
  },
  {
   "cell_type": "code",
   "execution_count": null,
   "metadata": {},
   "outputs": [],
   "source": [
    "N = np.exp(np.linspace(np.log(100), np.log(samples.shape[1]), 20)).astype(int)\n",
    "gw2010 = np.empty(len(N))\n",
    "new = np.empty(len(N))\n",
    "for jj in range(10):\n",
    "    for i, n in enumerate(N):\n",
    "        gw2010[i] = autocorr_gw2010(samples[:, :n,jj])\n",
    "        new[i] = autocorr_new(samples[:, :n,jj])\n",
    "    tau_esti = np.mean(new[-4:])\n",
    "    print(tau_esti)"
   ]
  },
  {
   "cell_type": "code",
   "execution_count": null,
   "metadata": {},
   "outputs": [],
   "source": [
    "plt.loglog(N,gw2010)\n",
    "plt.loglog(N,new, marker='o')\n",
    "plt.loglog(N, N/50)"
   ]
  },
  {
   "cell_type": "code",
   "execution_count": null,
   "metadata": {},
   "outputs": [],
   "source": []
  },
  {
   "cell_type": "code",
   "execution_count": null,
   "metadata": {},
   "outputs": [],
   "source": [
    "x_mean  = np.reshape(get_decoded(np.repeat([sample_mean],16,0))[0], (28,28))\n",
    "plt.title('mean')\n",
    "plt.imshow(x_mean.reshape(28,28))\n",
    "plt.axis('off')\n",
    "plt.show()"
   ]
  },
  {
   "cell_type": "code",
   "execution_count": null,
   "metadata": {},
   "outputs": [],
   "source": []
  },
  {
   "cell_type": "code",
   "execution_count": null,
   "metadata": {},
   "outputs": [],
   "source": []
  }
 ],
 "metadata": {
  "accelerator": "GPU",
  "colab": {
   "collapsed_sections": [],
   "include_colab_link": true,
   "name": "LambdaNetwork.ipynb",
   "provenance": []
  },
  "kernelspec": {
   "display_name": "tf22",
   "language": "python",
   "name": "tf22"
  },
  "language_info": {
   "codemirror_mode": {
    "name": "ipython",
    "version": 3
   },
   "file_extension": ".py",
   "mimetype": "text/x-python",
   "name": "python",
   "nbconvert_exporter": "python",
   "pygments_lexer": "ipython3",
   "version": "3.8.3"
  }
 },
 "nbformat": 4,
 "nbformat_minor": 4
}
