{
 "cells": [
  {
   "cell_type": "code",
   "execution_count": 1,
   "metadata": {
    "colab": {
     "base_uri": "https://localhost:8080/",
     "height": 35
    },
    "colab_type": "code",
    "id": "D-Fe5G8m1FTC",
    "outputId": "e13b192d-d978-43b8-84f1-d6b359f555b1"
   },
   "outputs": [],
   "source": [
    "import tensorflow.compat.v1 as tf\n",
    "tf.disable_eager_execution()\n",
    "import numpy as np\n",
    "import os\n",
    "import matplotlib\n",
    "import matplotlib.pyplot as plt\n",
    "import matplotlib.cm as cm\n",
    "from matplotlib import rcParams\n",
    "import sys\n",
    "import pickle\n",
    "from functools import partial\n",
    " \n",
    "plt.rcParams.update({'font.size': 16,                                                                                                                                                    \n",
    "                     'axes.labelsize': 16, 'legend.fontsize': 12, \n",
    "                     'xtick.labelsize': 16, 'ytick.labelsize': 16, 'axes.titlesize': 16,\n",
    "                     'axes.linewidth': 1.5}) "
   ]
  },
  {
   "cell_type": "code",
   "execution_count": 2,
   "metadata": {},
   "outputs": [
    {
     "name": "stdout",
     "output_type": "stream",
     "text": [
      "2.2.0\n"
     ]
    }
   ],
   "source": [
    "print(tf.__version__)"
   ]
  },
  {
   "cell_type": "code",
   "execution_count": 3,
   "metadata": {},
   "outputs": [
    {
     "name": "stdout",
     "output_type": "stream",
     "text": [
      "WARNING:tensorflow:From <ipython-input-3-17bb7203622b>:1: is_gpu_available (from tensorflow.python.framework.test_util) is deprecated and will be removed in a future version.\n",
      "Instructions for updating:\n",
      "Use `tf.config.list_physical_devices('GPU')` instead.\n"
     ]
    },
    {
     "data": {
      "text/plain": [
       "True"
      ]
     },
     "execution_count": 3,
     "metadata": {},
     "output_type": "execute_result"
    }
   ],
   "source": [
    "tf.test.is_gpu_available()"
   ]
  },
  {
   "cell_type": "code",
   "execution_count": 4,
   "metadata": {
    "colab": {},
    "colab_type": "code",
    "id": "-AEYmOsH1FTI"
   },
   "outputs": [],
   "source": [
    "import tensorflow_probability as tfp\n",
    "import tensorflow_hub as hub\n",
    "tfd = tfp.distributions\n",
    "tfb = tfp.bijectors"
   ]
  },
  {
   "cell_type": "code",
   "execution_count": 5,
   "metadata": {
    "colab": {},
    "colab_type": "code",
    "id": "GI5FLHJsZLTV"
   },
   "outputs": [],
   "source": [
    "from pae.model_tf2 import get_prior, get_posterior, get_likelihood"
   ]
  },
  {
   "cell_type": "code",
   "execution_count": 22,
   "metadata": {
    "colab": {},
    "colab_type": "code",
    "id": "V9oAjWb9ZLTc"
   },
   "outputs": [],
   "source": [
    "import pae.create_datasets_tf2 as crd"
   ]
  },
  {
   "cell_type": "code",
   "execution_count": 23,
   "metadata": {
    "colab": {
     "base_uri": "https://localhost:8080/",
     "height": 126
    },
    "colab_type": "code",
    "id": "SV1Y2txlhckE",
    "outputId": "4f3db526-999c-417b-b1ae-655ef8fa471f"
   },
   "outputs": [],
   "source": [
    "param_file = 'params_fmnist_-1_40_infoGAN_AE_best_params_full_sigma'\n"
   ]
  },
  {
   "cell_type": "code",
   "execution_count": 24,
   "metadata": {
    "colab": {
     "base_uri": "https://localhost:8080/",
     "height": 35
    },
    "colab_type": "code",
    "id": "6XiJf-LnhnVi",
    "outputId": "274de933-961d-4520-95d3-3ccc82d19d41"
   },
   "outputs": [],
   "source": [
    "# PROJECT_PATH = \"../../\" \n",
    "# PARAMS_PATH = os.path.join(PROJECT_PATH,'params')"
   ]
  },
  {
   "cell_type": "code",
   "execution_count": 25,
   "metadata": {
    "colab": {
     "base_uri": "https://localhost:8080/",
     "height": 35
    },
    "colab_type": "code",
    "id": "5XLfz152ZLTn",
    "outputId": "22303587-5ca0-4d16-a580-98e774b5acfa"
   },
   "outputs": [],
   "source": [
    "params   = pickle.load(open(os.path.join(PARAMS_PATH,param_file+'.pkl'),'rb'))"
   ]
  },
  {
   "cell_type": "code",
   "execution_count": 26,
   "metadata": {},
   "outputs": [],
   "source": [
    "if not os.path.isdir(params['plot_dir']):\n",
    "    os.makedirs(params['plot_dir'])\n",
    "if not os.path.isdir(params['data_dir']):\n",
    "    os.makedirs(params['data_dir'])"
   ]
  },
  {
   "cell_type": "code",
   "execution_count": 27,
   "metadata": {},
   "outputs": [
    {
     "data": {
      "text/plain": [
       "'/global/cscratch1/sd/vboehm/Datasets'"
      ]
     },
     "execution_count": 27,
     "metadata": {},
     "output_type": "execute_result"
    }
   ],
   "source": [
    "params['data_dir']"
   ]
  },
  {
   "cell_type": "code",
   "execution_count": 88,
   "metadata": {
    "colab": {},
    "colab_type": "code",
    "id": "8puPFE90P0aD"
   },
   "outputs": [],
   "source": [
    "generator_path   = os.path.join(params['module_dir'],'decoder')\n",
    "encoder_path     = os.path.join(params['module_dir'],'encoder')\n",
    "nvp_path         = os.path.join(params['module_dir'],'NF_2')"
   ]
  },
  {
   "cell_type": "code",
   "execution_count": 29,
   "metadata": {},
   "outputs": [
    {
     "name": "stdout",
     "output_type": "stream",
     "text": [
      "loading fmnist dataset\n"
     ]
    }
   ],
   "source": [
    "train_input_fn, eval_input_fn = crd.build_input_fns(params,label=params['class_label'],flatten=False,num_repeat=15)"
   ]
  },
  {
   "cell_type": "code",
   "execution_count": 30,
   "metadata": {},
   "outputs": [
    {
     "name": "stdout",
     "output_type": "stream",
     "text": [
      "WARNING:tensorflow:From /global/u2/v/vboehm/codes/PAE/pae/create_datasets_tf2.py:72: py_func (from tensorflow.python.ops.script_ops) is deprecated and will be removed in a future version.\n",
      "Instructions for updating:\n",
      "tf.py_func is deprecated in TF V2. Instead, there are two\n",
      "    options available in V2.\n",
      "    - tf.py_function takes a python function which manipulates tf eager\n",
      "    tensors instead of numpy arrays. It's easy to convert a tf eager tensor to\n",
      "    an ndarray (just call tensor.numpy()) but having access to eager tensors\n",
      "    means `tf.py_function`s can use accelerators such as GPUs as well as\n",
      "    being differentiable using a gradient tape.\n",
      "    - tf.numpy_function maintains the semantics of the deprecated tf.py_func\n",
      "    (it is not differentiable, and manipulates numpy arrays). It drops the\n",
      "    stateful argument making all functions stateful.\n",
      "    \n",
      "INFO:tensorflow:Saver not created because there are no variables in the graph to restore\n",
      "WARNING:tensorflow:From /global/homes/v/vboehm/.conda/envs/tf22/lib/python3.8/site-packages/tensorflow/python/ops/linalg/linear_operator_diag.py:159: calling LinearOperator.__init__ (from tensorflow.python.ops.linalg.linear_operator) with graph_parents is deprecated and will be removed in a future version.\n",
      "Instructions for updating:\n",
      "Do not pass `graph_parents`.  They will  no longer be used.\n",
      "INFO:tensorflow:Saver not created because there are no variables in the graph to restore\n",
      "INFO:tensorflow:Saver not created because there are no variables in the graph to restore\n",
      "INFO:tensorflow:Saver not created because there are no variables in the graph to restore\n"
     ]
    }
   ],
   "source": [
    "tf.reset_default_graph()\n",
    "\n",
    "\n",
    "\n",
    "traindata     = train_input_fn()\n",
    "validdata     = eval_input_fn()\n",
    "encoder       = hub.Module(encoder_path, trainable=False)\n",
    "generator     = hub.Module(generator_path, trainable=False)\n",
    "\n",
    "posterior     = get_posterior(encoder)\n",
    "likelihood    = get_likelihood(generator,params)\n",
    "\n",
    "# inspect the model\n",
    "zt    = posterior(traindata).mean()\n",
    "recont = likelihood(zt).mean()\n",
    "\n",
    "zv    = posterior(validdata).mean()\n",
    "reconv = likelihood(zv).mean()\n"
   ]
  },
  {
   "cell_type": "code",
   "execution_count": 31,
   "metadata": {},
   "outputs": [],
   "source": [
    "sess = tf.Session()\n",
    "sess.run(tf.global_variables_initializer())"
   ]
  },
  {
   "cell_type": "code",
   "execution_count": 32,
   "metadata": {},
   "outputs": [],
   "source": [
    "if params['data_set']=='celeba':\n",
    "    train_size = 162770\n",
    "    val_size   = 182637-162770 \n",
    "else:\n",
    "    train_size = 50000\n",
    "    val_size   = 10000"
   ]
  },
  {
   "cell_type": "code",
   "execution_count": 33,
   "metadata": {},
   "outputs": [
    {
     "name": "stdout",
     "output_type": "stream",
     "text": [
      "50000\n"
     ]
    }
   ],
   "source": [
    "print(train_size)"
   ]
  },
  {
   "cell_type": "code",
   "execution_count": 34,
   "metadata": {},
   "outputs": [
    {
     "name": "stdout",
     "output_type": "stream",
     "text": [
      "196\n",
      "/global/cscratch1/sd/vboehm/Datasets/encoded/fmnist/40\n"
     ]
    }
   ],
   "source": [
    "print(train_size//params['batch_size']+1)\n",
    "enc_path = os.path.join('encoded/',params['data_set'],str(params['latent_size']))\n",
    "print(os.path.join(params['data_dir'],enc_path))\n",
    "if not os.path.isdir(os.path.join(params['data_dir'],enc_path)):\n",
    "    os.makedirs(os.path.join(params['data_dir'],enc_path))"
   ]
  },
  {
   "cell_type": "code",
   "execution_count": 35,
   "metadata": {
    "colab": {
     "base_uri": "https://localhost:8080/",
     "height": 71
    },
    "colab_type": "code",
    "id": "igyd5aQ5ZLT-",
    "outputId": "5e4229b3-5b31-4947-9d4e-fb66faa8426b"
   },
   "outputs": [
    {
     "name": "stdout",
     "output_type": "stream",
     "text": [
      "0\n",
      "100\n"
     ]
    }
   ],
   "source": [
    "try:\n",
    "    assert(False)\n",
    "    z_sample = np.load(os.path.join(params['data_dir'],enc_path,'train.npy'))\n",
    "except:\n",
    "    z_sample=[]\n",
    "    for ii in range(train_size//params['batch_size']+1):\n",
    "        if ii%100==0:\n",
    "            print(ii)\n",
    "        z_sample+=[sess.run(zt)]\n",
    "        \n",
    "    z_sample = np.asarray(z_sample).reshape((-1,params['latent_size']))\n",
    "    z_sample = z_sample[0:train_size]\n",
    "    \n",
    "    np.save(os.path.join(params['data_dir'],enc_path,'train.npy'),z_sample)"
   ]
  },
  {
   "cell_type": "code",
   "execution_count": 36,
   "metadata": {},
   "outputs": [
    {
     "name": "stdout",
     "output_type": "stream",
     "text": [
      "0\n"
     ]
    }
   ],
   "source": [
    "try:\n",
    "    assert(False)\n",
    "    z_sample_valid = np.load(os.path.join(params['data_dir'],enc_path,'valid.npy'))\n",
    "except:\n",
    "    z_sample_valid=[]\n",
    "\n",
    "    for ii in range(val_size//params['batch_size']+1):\n",
    "        if ii%100==0:\n",
    "            print(ii)\n",
    "        z_sample_valid+=[sess.run(zv)]\n",
    "    z_sample_valid=np.asarray(z_sample_valid).reshape((-1,params['latent_size']))\n",
    "    z_sample_valid= z_sample_valid[0:val_size]\n",
    "    np.save(os.path.join(params['data_dir'],enc_path,'valid.npy'),z_sample_valid)"
   ]
  },
  {
   "cell_type": "code",
   "execution_count": 37,
   "metadata": {},
   "outputs": [
    {
     "data": {
      "text/plain": [
       "2.332353"
      ]
     },
     "execution_count": 37,
     "metadata": {},
     "output_type": "execute_result"
    }
   ],
   "source": [
    "np.amax(z_sample)\n",
    "np.amax(z_sample_valid)"
   ]
  },
  {
   "cell_type": "code",
   "execution_count": 74,
   "metadata": {},
   "outputs": [],
   "source": [
    "nvp_depth    = 16\n",
    "dims         = np.asarray(16*[40])\n",
    "nvp_size     = np.arange(nvp_depth)\n",
    "indices      = np.arange(params['latent_size'])\n",
    "#permutations = [np.random.permutation(np.arange(params['latent_size'])) for ii in range(nvp_depth)]\n",
    "#swapping     = np.concatenate((indices[params['latent_size']//2:params['latent_size']],indices[0:params['latent_size']//2]))"
   ]
  },
  {
   "cell_type": "code",
   "execution_count": 75,
   "metadata": {},
   "outputs": [],
   "source": [
    "def trainable_lu_factorization(\n",
    "    event_size, batch_shape=(), seed=None, dtype=tf.float32, name=None):\n",
    "    with tf.name_scope(name or 'trainable_lu_factorization'):\n",
    "        event_size = tf.convert_to_tensor(\n",
    "            event_size, dtype_hint=tf.int32, name='event_size')\n",
    "        batch_shape = tf.convert_to_tensor(\n",
    "            batch_shape, dtype_hint=event_size.dtype, name='batch_shape')\n",
    "        random_matrix = tf.random.uniform(\n",
    "            shape=tf.concat([batch_shape, [event_size, event_size]], axis=0),\n",
    "            dtype=dtype,\n",
    "            seed=seed)\n",
    "        random_orthonormal = tf.linalg.qr(random_matrix)[0]\n",
    "        lower_upper, permutation = tf.linalg.lu(random_orthonormal)\n",
    "        lower_upper = tf.Variable(\n",
    "            initial_value=lower_upper,\n",
    "            trainable=True,\n",
    "            name='lower_upper')\n",
    "        # Initialize a non-trainable variable for the permutation indices so\n",
    "        # that its value isn't re-sampled from run-to-run.\n",
    "        permutation = tf.Variable(\n",
    "            initial_value=permutation,\n",
    "            trainable=False,\n",
    "            name='permutation')\n",
    "        return lower_upper, permutation\n"
   ]
  },
  {
   "cell_type": "code",
   "execution_count": 81,
   "metadata": {},
   "outputs": [],
   "source": [
    "class SplineParams(tf.Module):\n",
    "\n",
    "    def __init__(self, nunits, nbins=32):\n",
    "        self._nbins = nbins\n",
    "        self._nunits= nunits\n",
    "        self._built = False\n",
    "        self._bin_widths = None\n",
    "        self._bin_heights = None\n",
    "        self._knot_slopes = None\n",
    "\n",
    "    def _bin_positions(self, x):\n",
    "        x = tf.reshape(x, [-1,self._nunits,self._nbins])\n",
    "        net = tf.layers.Dense(self._nunits)(x)\n",
    "        net = tf.nn.leaky_relu(net)\n",
    "        net = tf.layers.Dense(self._nunits)(net)\n",
    "        net = tf.nn.leaky_relu(net)\n",
    "        net = tf.layers.Dense(self._nbins)(net)\n",
    "        net = tf.reshape(net, [-1,self._nunits, self._nbins])\n",
    "        return tf.math.softmax(net, axis=-1) * (2 - self._nbins * 1e-2) + 1e-2\n",
    "\n",
    "    def _slopes(self, x):\n",
    "        x = tf.reshape(x, [-1,  self._nunits, ( self._nbins - 1)])\n",
    "#         net = tf.layers.Dense(self._nunits)(x)\n",
    "#         net = tf.nn.leaky_relu(net)\n",
    "#         net = tf.layers.Dense(self._nbins-1)(net)\n",
    "#         net = tf.reshape(net, [-1,  self._nunits, ( self._nbins - 1)])\n",
    "        return tf.math.softplus(x) + 1e-2\n",
    "\n",
    "    def __call__(self, x, nunits):\n",
    "\n",
    "        bin_positions = self._bin_positions\n",
    "        if not self._built:\n",
    "            self._bin_widths  = tf.layers.Dense(self._nunits * self._nbins, activation=bin_positions, name='w')\n",
    "            self._bin_heights = tf.layers.Dense(self._nunits * self._nbins, activation=bin_positions, name='h')\n",
    "            self._knot_slopes = tf.layers.Dense(self._nunits * (self._nbins - 1), activation=self._slopes, name='s')\n",
    "        self._built = True\n",
    "        result = tfb.RationalQuadraticSpline(bin_widths=self._bin_widths(x),bin_heights=self._bin_heights(x),knot_slopes=self._knot_slopes(x))\n",
    "        \n",
    "        return result"
   ]
  },
  {
   "cell_type": "code",
   "execution_count": 82,
   "metadata": {},
   "outputs": [
    {
     "name": "stdout",
     "output_type": "stream",
     "text": [
      "40 [40]\n",
      "40 [40, 40]\n",
      "40 [40, 40, 40]\n",
      "40 [40, 40, 40, 40]\n",
      "40 [40, 40, 40, 40, 40]\n",
      "40 [40, 40, 40, 40, 40, 40]\n",
      "40 [40, 40, 40, 40, 40, 40, 40]\n",
      "40 [40, 40, 40, 40, 40, 40, 40, 40]\n",
      "40 [40, 40, 40, 40, 40, 40, 40, 40, 40]\n",
      "40 [40, 40, 40, 40, 40, 40, 40, 40, 40, 40]\n",
      "40 [40, 40, 40, 40, 40, 40, 40, 40, 40, 40, 40]\n",
      "40 [40, 40, 40, 40, 40, 40, 40, 40, 40, 40, 40, 40]\n",
      "40 [40, 40, 40, 40, 40, 40, 40, 40, 40, 40, 40, 40, 40]\n",
      "40 [40, 40, 40, 40, 40, 40, 40, 40, 40, 40, 40, 40, 40, 40]\n",
      "40 [40, 40, 40, 40, 40, 40, 40, 40, 40, 40, 40, 40, 40, 40, 40]\n",
      "40 [40, 40, 40, 40, 40, 40, 40, 40, 40, 40, 40, 40, 40, 40, 40, 40]\n",
      "INFO:tensorflow:Saver not created because there are no variables in the graph to restore\n"
     ]
    },
    {
     "name": "stderr",
     "output_type": "stream",
     "text": [
      "INFO:tensorflow:Saver not created because there are no variables in the graph to restore\n"
     ]
    }
   ],
   "source": [
    "tf.reset_default_graph()\n",
    "\n",
    "lr            = tf.placeholder_with_default(0.001,shape=[])\n",
    "data          = tf.placeholder(shape=[None,params['latent_size']],dtype=tf.float32)\n",
    "\n",
    "optimizer     = tf.train.AdamOptimizer(learning_rate=lr)\n",
    "\n",
    "def init_once(x, name):\n",
    "    return tf.get_variable(name, initializer=x, trainable=False)\n",
    "\n",
    "\n",
    "#nvp_size      = [[params['latent_size'],params['latent_size']] for ii in range(nvp_depth)]\n",
    "#[64,64,64,64,32,32,8,8])#\n",
    "\n",
    "def get_nvp():\n",
    "    base_dis          = get_prior(params['latent_size'])\n",
    "    chain             = []\n",
    "    reduction         = (params['latent_size']-dims)/params['latent_size']#np.repeat(np.arange(nvp_depth//2)/(nvp_depth//2),2)# np.repeat([0],nvp_depth)#\n",
    "    current_size      = []\n",
    "    perms_swap        = []\n",
    "    perms_rand        = []\n",
    "    perms_train       = []\n",
    "    splines           = []\n",
    "    size              = []\n",
    "    #current_size      = params['latent_size']\n",
    "    for i,s in enumerate(nvp_size):\n",
    "        current_size  = np.int(params['latent_size']*(1-reduction[i]))\n",
    "        swapping      = np.concatenate((np.arange(current_size//2,current_size),np.arange(0, current_size//2)))\n",
    "        perms_swap.append(tfb.Permute(permutation=init_once(swapping,name=\"perm_swap%d\"%i)))\n",
    "        permutation   = np.random.permutation(np.arange(0, current_size))\n",
    "        perms_rand.append(tfb.Permute(permutation=init_once(permutation,name=\"perm_rand%d\"%i)))\n",
    "        perms_train.append(tfb.MatvecLU(*trainable_lu_factorization(current_size),validate_args=True, name=\"perms_train%d\"%i))\n",
    "        splines.append(SplineParams(current_size//2))\n",
    "        size.append(current_size)\n",
    "        print(current_size, size)\n",
    "    \n",
    "    chain.append(tfb.Scale(3))\n",
    "    for i,s in enumerate(nvp_size):\n",
    "        if i%2==0:\n",
    "            chain.append(tfb.Blockwise(bijectors=[perms_train[i],tfb.Identity()],block_sizes=[size[i],params['latent_size']-size[i]]))\n",
    "        else:\n",
    "            chain.append(tfb.Blockwise(bijectors=[perms_swap[i],tfb.Identity()],block_sizes=[size[i],params['latent_size']-size[i]]))\n",
    "        if i<4: \n",
    "            bijector1 = tfb.RealNVP(num_masked=size[i]-size[i]//2,bijector_fn=splines[i])\n",
    "        if i<12 and i>4:\n",
    "            bijector1 = tfb.RealNVP(num_masked=size[i]-size[i]//2,shift_and_log_scale_fn=tfb.real_nvp_default_template(hidden_layers=[params['latent_size'],params['latent_size']]))                 \n",
    "        else:\n",
    "            bijector1 = tfb.RealNVP(num_masked=size[i]-size[i]//2,shift_and_log_scale_fn=tfb.real_nvp_default_template(hidden_layers=[params['latent_size'],params['latent_size']],shift_only=True))  \n",
    "        bijector2 = tfb.Identity()\n",
    "        chain.append(tfb.Blockwise(bijectors=[bijector1, bijector2], block_sizes=[size[i],params['latent_size']-size[i]]))\n",
    "        \n",
    "    chain.append(tfb.Scale(0.33))\n",
    "    \n",
    "    # p(x) is Gaussian, chain: y=g(x)\n",
    "    nvp=tfd.TransformedDistribution(distribution=tfd.Normal(0,1),bijector=tfb.Chain(chain),name='mynvp', event_shape=(params['latent_size'],))\n",
    "                 \n",
    "    return nvp\n",
    "\n",
    "def nvp_module_spec():\n",
    "    z_sample     = tf.placeholder(tf.float32, shape=[None,params['latent_size']])\n",
    "    sample_size  = tf.placeholder(tf.int32, shape=[])\n",
    "    u_sample     = tf.placeholder(tf.float32, shape=[None,params['latent_size']])\n",
    "    nvp_         = get_nvp()\n",
    "    log_prob     = nvp_.log_prob(z_sample)\n",
    "    nvp_sample   = nvp_.sample(sample_size)\n",
    "    nvp_fwd_pass = nvp_.bijector.forward(u_sample)\n",
    "    nvp_bwd_pass = nvp_.bijector.inverse(z_sample)\n",
    "    hub.add_signature(inputs={'z_sample':z_sample,'sample_size':sample_size, 'u_sample':u_sample}\\\n",
    "                      ,outputs={'log_prob':log_prob, 'sample':nvp_sample, 'fwd_pass': nvp_fwd_pass, 'bwd_pass': nvp_bwd_pass})\n",
    "\n",
    "nvp_spec  = hub.create_module_spec(nvp_module_spec)\n",
    "#nvp_funcs = hub.Module(nvp_path, trainable=True)#\n",
    "nvp_funcs = hub.Module(nvp_spec, name='nvp_funcs',trainable=True)\n",
    "loss      = -tf.reduce_mean(nvp_funcs({'z_sample':data,'sample_size':1, 'u_sample':np.zeros((1,params['latent_size']))},as_dict=True)['log_prob'])\n",
    "\n",
    "opt_op_nvp= optimizer.minimize(loss)\n"
   ]
  },
  {
   "cell_type": "code",
   "execution_count": 83,
   "metadata": {},
   "outputs": [],
   "source": [
    "sess = tf.Session()\n",
    "sess.run(tf.global_variables_initializer())"
   ]
  },
  {
   "cell_type": "code",
   "execution_count": 84,
   "metadata": {},
   "outputs": [],
   "source": [
    "nvp_tloss = []\n",
    "nvp_vloss = []\n",
    "ii     = 0"
   ]
  },
  {
   "cell_type": "code",
   "execution_count": 89,
   "metadata": {},
   "outputs": [
    {
     "name": "stdout",
     "output_type": "stream",
     "text": [
      "epoch  5\n",
      "-16.579903 -15.795012\n",
      "-16.44982 -15.89775\n",
      "-15.90406 -15.4165535\n",
      "-15.78095 -15.617985\n",
      "-15.792063 -15.589876\n",
      "-15.676238 -15.553238\n",
      "-15.108286 -15.743598\n",
      "-15.873645 -15.6118355\n",
      "epoch  6\n",
      "-16.92483 -15.969525\n",
      "-16.977194 -16.241276\n",
      "-15.696778 -15.755103\n",
      "-16.484192 -16.04593\n",
      "-16.265911 -15.59925\n",
      "-15.94081 -15.748608\n",
      "-17.029778 -16.244951\n",
      "-16.195276 -15.824841\n",
      "epoch  7\n",
      "-16.252367 -16.076073\n",
      "-15.7068405 -15.9459\n",
      "-16.89588 -16.144653\n",
      "-16.838766 -16.382215\n",
      "-17.542723 -16.51642\n",
      "-17.04808 -15.943636\n",
      "-16.765358 -16.293968\n",
      "-17.13427 -16.426281\n",
      "epoch  8\n",
      "-17.537897 -16.27148\n",
      "-17.133827 -16.454155\n",
      "-17.785496 -16.198956\n",
      "-17.354485 -16.560085\n",
      "-16.83154 -16.536806\n",
      "-17.622133 -16.586678\n",
      "-16.577002 -16.503143\n",
      "-16.85329 -16.284315\n",
      "epoch  9\n",
      "-17.895798 -16.422487\n",
      "-16.225414 -16.496002\n",
      "-17.245605 -16.607954\n",
      "-17.687757 -16.678604\n",
      "-18.030607 -16.482538\n",
      "-17.265694 -16.481989\n",
      "-16.7138 -16.63269\n",
      "-17.018555 -16.474981\n",
      "epoch  10\n",
      "-17.305302 -16.604868\n",
      "-17.52033 -16.490509\n",
      "-18.204542 -17.091934\n",
      "-17.323898 -16.481297\n",
      "-18.09066 -17.171778\n",
      "-17.400322 -16.723078\n",
      "-17.696722 -16.989168\n",
      "-17.431692 -16.933067\n",
      "epoch  11\n",
      "-17.539112 -16.960026\n",
      "-17.773914 -17.11124\n",
      "-17.977753 -16.756544\n",
      "-18.001856 -17.01957\n",
      "-18.091599 -16.8667\n",
      "-16.570915 -16.731277\n",
      "-18.656197 -17.082657\n",
      "-18.146217 -17.147234\n",
      "epoch  12\n",
      "-17.30257 -17.262884\n",
      "-17.164022 -16.583447\n",
      "-17.382086 -17.052439\n",
      "-17.761112 -17.031548\n",
      "-18.24618 -17.181004\n",
      "-18.301739 -16.84302\n",
      "-17.782597 -16.942234\n",
      "-17.455246 -16.962027\n",
      "epoch  13\n",
      "-17.201887 -17.170334\n",
      "-17.608902 -17.215158\n",
      "-18.309504 -17.03559\n",
      "-18.137493 -17.255228\n",
      "-18.287165 -17.057905\n",
      "-18.274641 -16.964\n",
      "-17.822987 -17.257822\n",
      "-18.545412 -17.33653\n",
      "epoch  14\n",
      "-17.493422 -17.292723\n",
      "-18.826944 -17.432138\n",
      "-17.6749 -17.081467\n",
      "-18.40366 -17.443886\n",
      "-19.13778 -17.372807\n",
      "-18.074646 -17.403933\n",
      "-17.791653 -17.071592\n",
      "-17.925282 -17.407223\n",
      "epoch  15\n",
      "-18.334087 -17.327896\n",
      "-17.815174 -17.355911\n",
      "-18.949501 -17.397984\n",
      "-17.626572 -17.369127\n",
      "-17.722517 -17.07229\n",
      "-17.689747 -17.463327\n",
      "-18.294138 -17.46175\n",
      "-18.451704 -17.526447\n",
      "epoch  16\n",
      "-18.23511 -17.49888\n",
      "-18.566849 -17.269224\n",
      "-18.1306 -17.32513\n",
      "-17.7633 -17.487434\n",
      "-18.451729 -17.28827\n",
      "-18.538708 -17.826344\n",
      "-18.465467 -17.609901\n",
      "-18.36173 -17.48471\n",
      "epoch  17\n",
      "-18.45342 -17.447786\n",
      "-18.80391 -17.447714\n",
      "-18.4056 -17.529228\n",
      "-17.99 -17.288847\n",
      "-18.361055 -17.476343\n",
      "-18.54504 -17.318716\n",
      "-17.988068 -17.10225\n",
      "-17.68786 -17.37356\n",
      "epoch  18\n",
      "-17.709284 -17.270079\n",
      "-18.459768 -17.544952\n",
      "-17.828457 -17.65086\n",
      "-19.417824 -17.343578\n",
      "-18.319542 -17.294287\n",
      "-18.56745 -17.647388\n",
      "-18.70339 -17.805319\n",
      "-18.058878 -17.59879\n",
      "epoch  19\n",
      "-18.474117 -17.737505\n",
      "-18.958187 -17.829844\n",
      "-18.35244 -17.445173\n",
      "-18.20602 -17.649141\n",
      "-17.841505 -17.61878\n",
      "-18.478512 -17.628016\n",
      "-18.728786 -17.443026\n",
      "-18.419853 -17.839287\n",
      "epoch  20\n",
      "-18.912409 -17.600039\n",
      "-18.707577 -17.655354\n",
      "-18.892263 -17.612125\n",
      "-18.49576 -17.719957\n",
      "-18.187262 -17.714128\n",
      "-18.662611 -17.66596\n",
      "-18.944363 -17.776028\n",
      "-17.943174 -17.606596\n",
      "epoch  21\n",
      "-17.70679 -17.35543\n",
      "-18.947683 -17.695406\n",
      "-18.41214 -17.713669\n",
      "-18.552376 -17.678896\n",
      "-18.51515 -17.573532\n",
      "-18.162563 -17.706505\n",
      "-18.411728 -17.488928\n",
      "-18.324062 -17.494066\n",
      "epoch  22\n",
      "-17.940538 -17.550863\n",
      "-18.224138 -17.783276\n",
      "-18.154594 -17.749598\n",
      "-18.869184 -17.72483\n",
      "-19.05147 -18.03994\n",
      "-18.652763 -17.777176\n",
      "-18.42185 -17.68507\n",
      "-18.502445 -17.766907\n",
      "epoch  23\n",
      "-18.81755 -17.645927\n",
      "-18.174149 -17.768671\n",
      "-18.98053 -17.556944\n",
      "-19.086494 -18.043718\n",
      "-18.49709 -17.778368\n",
      "-18.0829 -17.520739\n",
      "-18.9493 -18.091997\n",
      "-18.556238 -18.070913\n",
      "epoch  24\n",
      "-18.457829 -17.922985\n",
      "-19.538517 -18.12646\n",
      "-18.385796 -17.896194\n",
      "-19.153109 -18.167875\n",
      "-18.954023 -18.086151\n",
      "-18.912504 -17.89493\n",
      "-19.244452 -17.915398\n",
      "-18.828876 -17.96514\n",
      "epoch  25\n",
      "-18.953344 -18.152641\n",
      "-18.760159 -17.888481\n",
      "-19.550465 -17.890505\n",
      "-19.305943 -18.153624\n",
      "-18.82227 -17.65601\n",
      "-19.522795 -18.080288\n",
      "-18.696354 -17.923906\n",
      "-18.574373 -17.988113\n",
      "epoch  26\n",
      "-19.376549 -18.093494\n",
      "-19.32542 -17.705782\n",
      "-19.13095 -17.731827\n",
      "-19.109007 -18.16537\n",
      "-18.965145 -18.198019\n",
      "-19.316397 -17.527279\n",
      "-19.15032 -18.141718\n",
      "-19.435394 -17.982357\n",
      "epoch  27\n",
      "-19.684328 -18.2494\n",
      "-19.680552 -18.088587\n",
      "-18.468185 -17.950113\n",
      "-19.54604 -18.109034\n",
      "-18.86143 -17.951189\n",
      "-19.337296 -18.139389\n",
      "-18.765553 -17.832556\n",
      "-19.648247 -18.022905\n",
      "epoch  28\n",
      "-20.131329 -18.243319\n",
      "-18.670181 -17.982521\n",
      "-19.179605 -17.976501\n",
      "-19.246164 -17.970085\n",
      "-18.649076 -17.618542\n",
      "-19.062683 -17.967749\n",
      "-19.30578 -17.77307\n",
      "-19.016354 -18.205244\n",
      "epoch  29\n",
      "-19.00331 -17.812647\n",
      "-18.387623 -17.90431\n",
      "-18.990526 -17.965038\n",
      "-18.486124 -17.939621\n",
      "-19.382416 -18.289503\n",
      "-19.91239 -18.079407\n",
      "-19.26328 -18.114285\n",
      "-19.264986 -18.270565\n",
      "epoch  30\n",
      "-19.271149 -18.029978\n",
      "-18.6046 -17.995302\n",
      "-19.003256 -17.830112\n",
      "-19.43045 -18.33182\n",
      "-19.232569 -18.39765\n",
      "-18.493687 -18.125881\n",
      "-19.50621 -18.132765\n",
      "-19.489063 -18.261421\n",
      "epoch  31\n",
      "-19.602646 -18.33554\n",
      "-18.189247 -17.716064\n",
      "-18.597216 -17.943008\n",
      "-19.455357 -18.134129\n",
      "-18.483406 -18.087456\n",
      "-19.262068 -18.320484\n",
      "-19.44709 -18.22165\n",
      "-19.463608 -18.085821\n",
      "epoch  32\n",
      "-19.28199 -18.14106\n",
      "-19.88033 -18.196281\n",
      "-18.581644 -17.911697\n",
      "-18.17374 -18.051\n",
      "-18.652004 -17.996202\n",
      "-19.920088 -18.22622\n",
      "-18.39333 -17.848213\n",
      "-19.527203 -18.356369\n",
      "epoch  33\n",
      "-19.188282 -18.242208\n",
      "-18.961767 -18.081373\n",
      "-19.992947 -18.115816\n",
      "-19.24598 -18.125225\n",
      "-19.40955 -18.35061\n",
      "-19.694258 -18.165977\n",
      "-18.975458 -18.25829\n",
      "-19.356934 -18.419167\n",
      "epoch  34\n",
      "-19.083866 -18.252302\n",
      "-19.453373 -18.194872\n",
      "-19.758965 -18.282148\n",
      "-19.817833 -18.398447\n",
      "-19.021797 -18.529198\n",
      "-19.394272 -18.376398\n",
      "-19.193356 -18.074085\n",
      "-19.634048 -18.363234\n",
      "epoch  35\n",
      "-20.065674 -18.47915\n",
      "-20.1223 -18.253323\n",
      "-19.681427 -18.111856\n",
      "-19.08544 -18.209654\n",
      "-19.996922 -18.517221\n",
      "-18.848492 -18.425259\n",
      "-18.46936 -17.883371\n",
      "-18.874315 -18.23178\n",
      "epoch  36\n",
      "-19.414042 -18.15119\n",
      "-19.883383 -18.359522\n",
      "-19.74352 -18.181444\n",
      "-19.027842 -18.153862\n",
      "-19.858538 -18.152515\n",
      "-19.41352 -18.244204\n",
      "-19.5033 -18.303656\n",
      "-19.192692 -18.410223\n",
      "epoch  37\n",
      "-19.173912 -17.993917\n",
      "-18.821901 -18.255365\n",
      "-19.390152 -18.380722\n",
      "-19.827808 -18.211859\n",
      "-19.82816 -18.23896\n",
      "-19.067715 -18.290585\n",
      "-19.405785 -18.330679\n",
      "-19.63721 -18.393318\n",
      "epoch  38\n",
      "-19.31963 -18.294071\n",
      "-19.559757 -18.386972\n",
      "-19.350384 -18.474846\n",
      "-19.19992 -18.34392\n",
      "-19.639622 -18.548166\n",
      "-19.473392 -18.393318\n",
      "-19.060308 -18.207485\n",
      "-19.772331 -18.393517\n",
      "epoch  39\n",
      "-20.283012 -18.503712\n",
      "-20.199236 -18.554544\n",
      "-18.826782 -18.250826\n",
      "-20.110165 -18.513407\n",
      "-19.596458 -18.275225\n",
      "-19.96653 -18.539963\n",
      "-20.211498 -18.46225\n",
      "-19.325378 -18.368574\n",
      "epoch  40\n",
      "-19.554943 -18.541262\n",
      "-19.05621 -18.211063\n",
      "-18.791765 -18.169678\n",
      "-19.209768 -18.409744\n",
      "-18.892086 -18.246534\n",
      "-19.873533 -18.547459\n",
      "-19.58977 -18.488865\n",
      "-18.42442 -18.591059\n",
      "epoch  41\n",
      "-19.63908 -18.259357\n",
      "-18.91113 -18.227018\n",
      "-19.523315 -18.419315\n",
      "-18.646423 -18.322252\n",
      "-19.64975 -18.472757\n",
      "-19.905289 -18.322857\n",
      "-18.979576 -18.183502\n",
      "-20.462727 -18.422146\n",
      "epoch  42\n",
      "-19.698368 -18.380749\n",
      "-19.269438 -18.303102\n",
      "-20.013414 -18.476488\n",
      "-19.458164 -17.908978\n",
      "-19.653126 -18.378479\n",
      "-19.51884 -18.228563\n",
      "-19.450165 -18.34251\n",
      "-20.257008 -18.66225\n",
      "epoch  43\n",
      "-19.445107 -18.61405\n",
      "-20.635244 -18.35027\n",
      "-19.019459 -18.638227\n",
      "-19.089968 -18.408228\n",
      "-19.769562 -18.475763\n",
      "-19.805918 -18.56921\n",
      "-19.837183 -18.593296\n",
      "-19.859081 -18.342579\n",
      "epoch  44\n",
      "-20.049902 -18.615515\n",
      "-18.718102 -18.429567\n",
      "-19.424019 -18.590292\n",
      "-19.612352 -18.39604\n",
      "-19.536947 -18.701872\n",
      "-20.055283 -18.7101\n",
      "-19.649828 -18.49302\n",
      "-18.462412 -18.34767\n",
      "epoch  45\n",
      "-19.427017 -18.602325\n",
      "-19.396296 -18.846153\n",
      "-19.25758 -18.533716\n",
      "-19.78878 -18.503687\n",
      "-19.944326 -18.563477\n",
      "-20.202862 -18.633802\n",
      "-21.081495 -18.660875\n",
      "-19.776394 -18.354834\n",
      "epoch  46\n",
      "-18.988705 -18.39212\n",
      "-19.832994 -18.33091\n",
      "-19.868576 -18.394468\n",
      "-20.155258 -18.84162\n",
      "-19.979483 -18.651993\n",
      "-20.345097 -18.739975\n",
      "-19.675005 -18.602276\n",
      "-19.634575 -18.432938\n",
      "epoch  47\n",
      "-19.514757 -18.332819\n",
      "-20.288012 -18.862587\n",
      "-19.83034 -18.554373\n",
      "-18.908281 -18.322063\n",
      "-20.13765 -18.7912\n",
      "-19.405056 -18.299273\n",
      "-19.414415 -18.410463\n",
      "-19.437418 -18.631731\n",
      "epoch  48\n",
      "-19.342358 -18.558868\n",
      "-20.40125 -18.74346\n",
      "-20.357256 -18.614956\n",
      "-19.779795 -18.607384\n",
      "-20.22311 -18.533747\n",
      "-19.666157 -18.564331\n",
      "-19.307545 -18.373978\n",
      "-19.629747 -18.214682\n",
      "epoch  49\n",
      "-19.648113 -18.760305\n",
      "-20.033772 -18.690363\n",
      "-19.994854 -18.55036\n",
      "-19.354221 -18.683594\n",
      "-20.043135 -18.629145\n",
      "-19.895618 -18.802732\n",
      "-20.015167 -18.628254\n",
      "-19.418472 -18.615808\n",
      "epoch  50\n",
      "-19.44738 -18.668726\n",
      "-19.760199 -18.575031\n",
      "-20.844654 -18.845709\n",
      "-19.592018 -18.558456\n",
      "-19.715544 -18.585363\n",
      "-20.476492 -18.448877\n",
      "-20.206648 -18.649227\n",
      "-19.494759 -18.32672\n",
      "epoch  51\n",
      "-20.190529 -18.593391\n",
      "-21.168625 -20.021921\n",
      "-21.133327 -20.06291\n",
      "-22.019396 -19.916359\n",
      "epoch  52\n",
      "-21.425133 -19.966846\n",
      "-20.464539 -20.022747\n",
      "-21.563066 -19.926418\n",
      "-21.438435 -19.899826\n",
      "epoch  53\n",
      "-21.496017 -20.067865\n",
      "-22.13884 -19.907602\n",
      "-21.011759 -19.936995\n",
      "-20.588707 -19.77094\n",
      "epoch  54\n",
      "-21.519468 -19.797443\n",
      "-22.501322 -19.594091\n",
      "-21.156662 -19.808323\n",
      "-21.808542 -19.824312\n",
      "epoch  55\n",
      "-20.715263 -19.885077\n",
      "-21.79069 -19.93126\n",
      "-21.138248 -19.727137\n",
      "-21.34518 -19.98274\n",
      "epoch  56\n",
      "-20.740406 -19.861403\n",
      "-21.03386 -19.827541\n",
      "-21.450598 -19.704641\n",
      "-20.44968 -19.57625\n",
      "epoch  57\n",
      "-21.726276 -19.718372\n",
      "-21.584888 -19.654503\n",
      "-21.087177 -19.592941\n",
      "-21.161068 -19.752274\n",
      "epoch  58\n",
      "-21.76415 -19.868282\n",
      "-20.99984 -19.739914\n",
      "-21.52659 -19.496262\n",
      "-21.8281 -19.823498\n",
      "epoch  59\n",
      "-21.388918 -19.936165\n",
      "-21.024202 -19.887787\n",
      "-21.345184 -19.696594\n",
      "-20.830313 -19.748938\n",
      "epoch  60\n",
      "-21.12002 -19.786839\n",
      "-21.212238 -19.816004\n",
      "-21.24811 -19.782356\n",
      "-21.728558 -19.941734\n",
      "epoch  61\n",
      "-21.750938 -19.714615\n",
      "-21.87256 -19.855473\n",
      "-21.762758 -19.88244\n",
      "-21.800726 -19.926922\n",
      "epoch  62\n",
      "-20.977674 -19.871864\n",
      "-21.699467 -19.773514\n",
      "-22.060692 -19.87714\n",
      "-20.896906 -19.920296\n",
      "epoch  63\n",
      "-21.647917 -19.910748\n",
      "-21.640007 -19.77098\n",
      "-20.247206 -19.787779\n",
      "-21.622309 -19.876293\n",
      "epoch  64\n",
      "-20.621655 -19.875896\n",
      "-21.481455 -19.92321\n",
      "-21.38059 -19.87191\n",
      "-21.039066 -19.966785\n",
      "epoch  65\n",
      "-20.85143 -20.036554\n",
      "-21.262667 -19.770634\n",
      "-21.79416 -19.737186\n",
      "-21.277496 -19.91538\n",
      "epoch  66\n",
      "-21.32629 -19.89879\n",
      "-21.326298 -19.895918\n",
      "-20.851011 -19.857626\n",
      "-21.341574 -19.789717\n",
      "epoch  67\n",
      "-21.034239 -19.905453\n",
      "-21.0051 -19.866531\n",
      "-22.086702 -19.865356\n",
      "-20.987442 -20.053041\n",
      "epoch  68\n",
      "-20.893135 -19.91395\n",
      "-21.900637 -19.901115\n",
      "-20.992216 -19.827116\n",
      "-21.351082 -19.950424\n",
      "epoch  69\n",
      "-21.398067 -19.936096\n",
      "-21.272514 -19.826872\n",
      "-22.415436 -19.896729\n",
      "-20.983986 -19.949648\n",
      "epoch  70\n",
      "-20.742596 -19.926117\n",
      "-21.277971 -20.006014\n",
      "-21.943275 -19.951311\n",
      "-21.81891 -19.973618\n",
      "epoch  71\n",
      "-21.105202 -19.58445\n",
      "-22.743221 -20.90177\n",
      "epoch  72\n",
      "-22.654305 -20.914793\n",
      "-22.566864 -20.86475\n",
      "epoch  73\n",
      "-22.432663 -20.74562\n",
      "-22.76447 -20.789135\n",
      "epoch  74\n",
      "-22.407515 -20.732515\n",
      "-23.033094 -20.915106\n",
      "epoch  75\n",
      "-22.690884 -20.704641\n",
      "-22.71027 -20.73055\n",
      "epoch  76\n",
      "-22.914717 -20.801937\n",
      "-21.57768 -20.590235\n",
      "epoch  77\n",
      "-22.49907 -20.667984\n",
      "-22.025465 -20.696568\n",
      "epoch  78\n",
      "-21.999393 -20.668756\n",
      "-21.527891 -20.601282\n",
      "epoch  79\n",
      "-22.129436 -20.761944\n",
      "-22.735392 -20.679237\n",
      "epoch  80\n",
      "-22.884525 -20.73095\n",
      "-22.124357 -20.680105\n",
      "epoch  81\n",
      "-22.411682 -20.684008\n",
      "-24.097511 -21.906082\n",
      "epoch  82\n",
      "-24.478996 -21.95284\n",
      "-24.105455 -21.979109\n",
      "epoch  83\n",
      "-24.619484 -22.002373\n",
      "-24.264072 -22.01866\n",
      "epoch  84\n",
      "-24.131573 -22.00564\n",
      "-24.166737 -21.996758\n",
      "epoch  85\n",
      "-23.71843 -21.993538\n",
      "-23.11379 -21.992943\n",
      "epoch  86\n",
      "-23.502853 -21.996088\n",
      "-24.145966 -22.022179\n",
      "epoch  87\n",
      "-23.997257 -22.007019\n",
      "-24.33678 -21.9924\n",
      "epoch  88\n",
      "-24.312792 -22.017\n",
      "-24.428728 -22.003487\n",
      "epoch  89\n",
      "-24.523092 -22.015043\n",
      "-24.183678 -22.01377\n",
      "epoch  90\n",
      "-24.605267 -22.032719\n",
      "-24.147612 -22.006573\n",
      "epoch  91\n",
      "-23.245905 -22.006544\n",
      "-23.781826 -22.013426\n",
      "epoch  92\n",
      "-24.103134 -22.01418\n",
      "-24.626385 -22.031916\n",
      "epoch  93\n",
      "-23.735043 -22.017107\n",
      "-24.571215 -22.017305\n",
      "epoch  94\n",
      "-23.76751 -22.007118\n",
      "-23.26362 -22.025373\n",
      "epoch  95\n",
      "-24.045147 -22.011005\n",
      "-23.898422 -22.012508\n",
      "epoch  96\n",
      "-23.949 -22.020096\n",
      "-23.729502 -21.995344\n",
      "epoch  97\n",
      "-24.07646 -22.01026\n",
      "-24.120981 -22.02283\n",
      "epoch  98\n",
      "-23.795614 -22.014883\n",
      "-24.97503 -22.003334\n",
      "epoch  99\n",
      "-24.565048 -22.009546\n",
      "-25.406698 -22.028671\n",
      "epoch  100\n",
      "-24.853832 -22.027912\n",
      "-24.200735 -22.00184\n",
      "epoch  101\n",
      "-24.297441 -22.024246\n",
      "-23.564144 -21.898954\n",
      "-23.21194 -21.918716\n",
      "-22.826513 -21.903646\n",
      "epoch  102\n",
      "-23.630932 -21.94015\n",
      "-24.269787 -21.938368\n",
      "-24.63415 -21.944471\n",
      "-24.181143 -21.932003\n",
      "epoch  103\n",
      "-24.114481 -21.920254\n",
      "-24.524832 -21.957996\n",
      "-23.867754 -21.937931\n",
      "-24.432753 -21.934618\n",
      "epoch  104\n",
      "-24.375778 -21.923876\n",
      "-24.267645 -21.916\n",
      "-23.689678 -21.946098\n",
      "-24.124136 -21.969383\n",
      "epoch  105\n",
      "-24.2227 -21.970665\n",
      "-24.339605 -21.954275\n",
      "-24.031166 -21.94081\n",
      "-24.637932 -21.926262\n",
      "epoch  106\n",
      "-24.188072 -21.960106\n",
      "-24.6946 -21.953363\n",
      "-24.021002 -21.908846\n",
      "-24.22761 -21.972027\n",
      "epoch  107\n",
      "-23.852665 -21.974749\n",
      "-23.2118 -21.94389\n",
      "-23.603567 -21.980967\n",
      "-24.142612 -21.941525\n",
      "epoch  108\n",
      "-24.475632 -21.955132\n",
      "-23.866312 -21.936253\n",
      "-24.68542 -21.96617\n",
      "-23.986572 -21.966658\n",
      "epoch  109\n",
      "-24.564392 -21.94185\n",
      "-23.929525 -21.94315\n",
      "-24.142138 -21.966085\n",
      "-23.714523 -21.953796\n",
      "epoch  110\n",
      "-23.943508 -21.947237\n",
      "-24.574085 -21.952894\n",
      "-24.316437 -21.947918\n",
      "-24.222683 -21.922777\n",
      "epoch  111\n",
      "-24.064997 -21.973738\n",
      "-24.807905 -21.96274\n",
      "-23.690409 -21.946976\n",
      "-24.209122 -21.981287\n",
      "epoch  112\n",
      "-23.79465 -21.959606\n",
      "-23.791002 -21.924538\n",
      "-23.377857 -21.935907\n",
      "-24.914501 -21.952024\n",
      "epoch  113\n",
      "-24.329899 -21.962366\n",
      "-24.646816 -21.949772\n",
      "-24.149141 -21.932344\n",
      "-23.892334 -21.923481\n",
      "epoch  114\n",
      "-24.473782 -21.951817\n",
      "-24.253918 -21.979055\n",
      "-23.928385 -21.920916\n",
      "-23.389643 -22.001015\n",
      "epoch  115\n",
      "-24.178104 -21.95701\n",
      "-24.345762 -21.958452\n",
      "-23.728716 -21.960344\n",
      "-24.44825 -21.953146\n",
      "epoch  116\n",
      "-23.775719 -21.990353\n",
      "-23.863995 -21.959965\n",
      "-24.301525 -21.948704\n",
      "-24.55818 -21.954802\n",
      "epoch  117\n",
      "-24.06205 -21.986996\n",
      "-24.389072 -21.944698\n",
      "-23.889872 -21.951004\n",
      "-23.925705 -21.922941\n",
      "epoch  118\n",
      "-24.83881 -21.961365\n",
      "-24.327793 -21.947975\n",
      "-24.618872 -21.98826\n",
      "-24.256458 -21.965315\n",
      "epoch  119\n",
      "-24.11763 -21.962282\n",
      "-23.742027 -21.96458\n",
      "-23.748304 -21.96655\n",
      "-24.442802 -21.979004\n",
      "epoch  120\n",
      "-24.33762 -21.972141\n",
      "-24.060192 -21.963806\n",
      "-24.76056 -21.993074\n",
      "-24.967731 -21.958319\n",
      "epoch  121\n",
      "-24.579931 -21.96082\n",
      "-24.554417 -21.978342\n",
      "-24.900583 -21.9331\n",
      "-24.18316 -21.964638\n",
      "epoch  122\n",
      "-24.309666 -21.947897\n",
      "-24.611177 -22.002296\n",
      "-24.36476 -21.930609\n",
      "-24.884138 -21.970043\n",
      "epoch  123\n",
      "-24.52498 -21.95554\n",
      "-24.671343 -21.98594\n",
      "-24.641846 -21.984785\n",
      "-23.792234 -21.949297\n",
      "epoch  124\n",
      "-24.456192 -21.963516\n",
      "-24.553339 -21.981247\n",
      "-24.199818 -21.992554\n",
      "-24.092407 -21.98838\n",
      "epoch  125\n",
      "-23.80341 -21.993551\n",
      "-23.945168 -21.984419\n",
      "-24.705362 -21.977402\n",
      "-24.371006 -21.952744\n",
      "epoch  126\n",
      "-24.354912 -21.970043\n",
      "-24.85035 -21.976896\n",
      "-24.066372 -21.974625\n",
      "-24.837343 -21.98355\n",
      "epoch  127\n",
      "-24.280876 -21.9586\n",
      "-24.854038 -21.954584\n",
      "-24.61253 -21.925732\n",
      "-24.277304 -22.000496\n",
      "epoch  128\n",
      "-24.017452 -21.997145\n",
      "-23.872208 -21.976297\n",
      "-23.642384 -21.924788\n",
      "-24.109531 -21.989628\n",
      "epoch  129\n",
      "-24.79174 -21.978662\n",
      "-23.815456 -21.973057\n",
      "-24.10545 -21.956781\n",
      "-24.12407 -21.975624\n",
      "epoch  130\n",
      "-24.977661 -22.000189\n",
      "-24.085436 -21.97569\n",
      "-24.565102 -21.932009\n",
      "-24.707378 -21.954765\n",
      "epoch  131\n",
      "-24.20281 -21.97231\n",
      "-24.131718 -21.962828\n",
      "-23.503431 -21.945847\n",
      "-24.30286 -21.984365\n",
      "epoch  132\n",
      "-23.848167 -21.982655\n",
      "-23.74517 -21.96369\n",
      "-24.123493 -21.97265\n",
      "-23.542948 -21.96401\n",
      "epoch  133\n",
      "-24.140001 -21.971828\n",
      "-23.966463 -21.953257\n",
      "-24.014652 -21.975079\n",
      "-23.823225 -21.921091\n",
      "epoch  134\n",
      "-24.40109 -21.98816\n",
      "-24.978914 -21.970175\n",
      "-24.077955 -21.971584\n",
      "-24.251677 -21.977331\n",
      "epoch  135\n",
      "-24.873955 -21.986536\n",
      "-24.696356 -21.964468\n",
      "-24.710575 -21.942204\n",
      "-23.749104 -21.975872\n",
      "epoch  136\n",
      "-25.081772 -21.979132\n",
      "-23.703499 -21.953909\n",
      "-23.420202 -21.97741\n",
      "-23.7444 -21.946726\n",
      "epoch  137\n",
      "-23.765274 -21.976048\n",
      "-24.374622 -21.965677\n",
      "-23.26697 -21.981043\n",
      "-23.606203 -21.959974\n",
      "epoch  138\n",
      "-24.303371 -21.96802\n",
      "-25.19107 -21.953976\n",
      "-24.072132 -21.954184\n",
      "-24.53664 -21.972078\n",
      "epoch  139\n",
      "-24.507591 -22.025713\n",
      "-24.942322 -21.957996\n",
      "-24.259747 -21.989597\n",
      "-24.794361 -21.94638\n"
     ]
    }
   ],
   "source": [
    "learning_rate = 1e-3\n",
    "batchsize = 32\n",
    "epoch = train_size//batchsize\n",
    "n_epochs = 140\n",
    "while ii<n_epochs:\n",
    "    print('epoch ', ii)\n",
    "    jj = 0\n",
    "    if ii>50:\n",
    "        batchsize = 64\n",
    "    if ii>70:\n",
    "        batchsize=128\n",
    "    if ii>80:\n",
    "        learning_rate = 1e-4\n",
    "    if ii>100:\n",
    "        batchsize=64\n",
    "    epoch = train_size//batchsize\n",
    "    while jj<epoch:\n",
    "        noise = np.random.normal(size=(batchsize,params['latent_size']))*2e-2\n",
    "        _, ll = sess.run([opt_op_nvp,loss],  feed_dict={lr: learning_rate, data:z_sample[jj*batchsize:(jj+1)*batchsize]+noise})\n",
    "        if jj%200==0:\n",
    "            np.random.shuffle(z_sample_valid)\n",
    "            l_v = sess.run(loss,  feed_dict={lr: learning_rate,lr: learning_rate,data:z_sample_valid})\n",
    "            nvp_vloss+=[l_v]\n",
    "            inds = np.random.randint(low=0, high=train_size, size=1024)\n",
    "            l_t = sess.run(loss,  feed_dict={lr: learning_rate,lr: learning_rate,data:z_sample[inds]})\n",
    "            nvp_tloss+=[l_t]\n",
    "            print(l_t, l_v)\n",
    "#             sample = sess.run(fwd_pass)\n",
    "#             print(np.amax(sample))\n",
    "#         if jj==0:\n",
    "#             nn = np.random.randint(low=0,high=63)\n",
    "#             plt.scatter(z_sample_valid[:500,nn],z_sample_valid[:500,nn+1],s=1, label='encoded data valid')\n",
    "#             plt.scatter(z_sample[:500,nn],z_sample[:500,nn+1],s=2, label='encoded data') \n",
    "#             plt.scatter(latent_samples[:500,nn],latent_samples[:500,nn+1],s=2, label='RealNVP samples') \n",
    "#             plt.show()\n",
    "        jj+=1\n",
    "    if ii%5==0 and ii>0:\n",
    "        nvp_path         = os.path.join(params['module_dir'],'nf1_nepoch%d'%ii)\n",
    "        nvp_funcs.export(nvp_path,sess)\n",
    "        \n",
    "    np.random.shuffle(z_sample)\n",
    "    ii+=1"
   ]
  },
  {
   "cell_type": "code",
   "execution_count": null,
   "metadata": {},
   "outputs": [],
   "source": []
  },
  {
   "cell_type": "code",
   "execution_count": 91,
   "metadata": {},
   "outputs": [
    {
     "data": {
      "image/png": "[encoded data removed]",
      "text/plain": [
       "<Figure size 432x288 with 1 Axes>"
      ]
     },
     "metadata": {
      "needs_background": "light"
     },
     "output_type": "display_data"
    }
   ],
   "source": [
    "plt.figure()\n",
    "plt.plot(nvp_tloss,label='training loss')\n",
    "plt.plot(nvp_vloss,label='validation loss' )\n",
    "plt.xlabel('# iteration')\n",
    "plt.ylabel('RealNVP loss')\n",
    "plt.ylim(-50,0)\n",
    "plt.legend()\n",
    "plt.savefig(os.path.join(params['plot_dir'],'RealNVP_loss.pdf'),bbox_inches='tight')"
   ]
  },
  {
   "cell_type": "code",
   "execution_count": 92,
   "metadata": {},
   "outputs": [
    {
     "data": {
      "text/plain": [
       "-21.967426"
      ]
     },
     "execution_count": 92,
     "metadata": {},
     "output_type": "execute_result"
    }
   ],
   "source": [
    "sess.run(loss,  feed_dict={lr: learning_rate,lr: learning_rate,data:z_sample_valid})"
   ]
  },
  {
   "cell_type": "code",
   "execution_count": 93,
   "metadata": {},
   "outputs": [
    {
     "name": "stdout",
     "output_type": "stream",
     "text": [
      "/global/cscratch1/sd/vboehm/RNF/modules/fmnist/class-1/latent_size40/net_type_infoGAN/loss_AE/best_params_full_sigma/nf1_nepoch135\n"
     ]
    }
   ],
   "source": [
    "print(nvp_path)"
   ]
  },
  {
   "cell_type": "code",
   "execution_count": 94,
   "metadata": {
    "colab": {
     "base_uri": "https://localhost:8080/",
     "height": 787
    },
    "colab_type": "code",
    "id": "yvTEYw44O_5q",
    "outputId": "eb03d58e-34da-4cac-c0f4-c034d3d47397"
   },
   "outputs": [
    {
     "name": "stdout",
     "output_type": "stream",
     "text": [
      "INFO:tensorflow:Saver not created because there are no variables in the graph to restore\n"
     ]
    },
    {
     "name": "stderr",
     "output_type": "stream",
     "text": [
      "INFO:tensorflow:Saver not created because there are no variables in the graph to restore\n"
     ]
    },
    {
     "name": "stdout",
     "output_type": "stream",
     "text": [
      "INFO:tensorflow:Saver not created because there are no variables in the graph to restore\n"
     ]
    },
    {
     "name": "stderr",
     "output_type": "stream",
     "text": [
      "INFO:tensorflow:Saver not created because there are no variables in the graph to restore\n"
     ]
    },
    {
     "name": "stdout",
     "output_type": "stream",
     "text": [
      "INFO:tensorflow:Saver not created because there are no variables in the graph to restore\n"
     ]
    },
    {
     "name": "stderr",
     "output_type": "stream",
     "text": [
      "INFO:tensorflow:Saver not created because there are no variables in the graph to restore\n"
     ]
    },
    {
     "name": "stdout",
     "output_type": "stream",
     "text": [
      "INFO:tensorflow:Saver not created because there are no variables in the graph to restore\n"
     ]
    },
    {
     "name": "stderr",
     "output_type": "stream",
     "text": [
      "INFO:tensorflow:Saver not created because there are no variables in the graph to restore\n"
     ]
    },
    {
     "name": "stdout",
     "output_type": "stream",
     "text": [
      "INFO:tensorflow:Saver not created because there are no variables in the graph to restore\n"
     ]
    },
    {
     "name": "stderr",
     "output_type": "stream",
     "text": [
      "INFO:tensorflow:Saver not created because there are no variables in the graph to restore\n"
     ]
    }
   ],
   "source": [
    "tf.reset_default_graph()\n",
    "\n",
    "lr            = tf.placeholder_with_default(0.001,shape=[])\n",
    "sigma         = tf.placeholder_with_default(0.1,shape=[])\n",
    "sample_size   = tf.placeholder_with_default(params['batch_size'],shape=[])\n",
    "data          = train_input_fn()\n",
    "validdata     = eval_input_fn()\n",
    "encoder       = hub.Module(encoder_path, trainable=False)\n",
    "generator     = hub.Module(generator_path, trainable=False)\n",
    "nvp_funcs     = hub.Module(nvp_path, trainable=False)\n",
    "optimizer     = tf.train.AdamOptimizer(learning_rate=lr)\n",
    "\n",
    "prior         = get_prior(params['latent_size'])\n",
    "posterior     = get_posterior(encoder)\n",
    "likelihood    = get_likelihood(generator,params)\n",
    "\n",
    "# inspect the model\n",
    "z_      = posterior(validdata).mean()\n",
    "recon   = likelihood(z_).mean()\n",
    "prior_sample = prior.sample(sample_size)\n",
    "x_old   = likelihood(prior_sample).mean()\n",
    "\n",
    "\n",
    "nvp_sample = nvp_funcs({'z_sample':np.zeros((1,params['latent_size'])),'sample_size':1, 'u_sample':prior_sample}, as_dict=True)['fwd_pass']\n",
    "x_new      = likelihood(nvp_sample).mean()\n",
    " \n",
    "# # ---------------------------end train nvp ----------------- #\n",
    "\n",
    "# #comment train nvp above section above and uncomment this for loading the trained module\n",
    "\n",
    "# #"
   ]
  },
  {
   "cell_type": "code",
   "execution_count": null,
   "metadata": {},
   "outputs": [],
   "source": []
  },
  {
   "cell_type": "code",
   "execution_count": 95,
   "metadata": {
    "colab": {},
    "colab_type": "code",
    "id": "Soh1tnGH1FTW"
   },
   "outputs": [],
   "source": [
    "sess = tf.Session()\n",
    "sess.run(tf.global_variables_initializer())"
   ]
  },
  {
   "cell_type": "code",
   "execution_count": 96,
   "metadata": {
    "colab": {},
    "colab_type": "code",
    "id": "Tts2_qqiZLUR"
   },
   "outputs": [],
   "source": [
    "rec, d = sess.run([recon,validdata])"
   ]
  },
  {
   "cell_type": "code",
   "execution_count": 97,
   "metadata": {
    "colab": {},
    "colab_type": "code",
    "id": "6FxkYOnkZLUY"
   },
   "outputs": [],
   "source": [
    "x_sample = sess.run(x_old)"
   ]
  },
  {
   "cell_type": "code",
   "execution_count": 98,
   "metadata": {},
   "outputs": [],
   "source": [
    "shape=params['data_shape']"
   ]
  },
  {
   "cell_type": "code",
   "execution_count": 99,
   "metadata": {
    "colab": {
     "base_uri": "https://localhost:8080/",
     "height": 247
    },
    "colab_type": "code",
    "id": "vQtp4nklZLUc",
    "outputId": "a317d12d-f2e7-4957-cab9-e2fe35949e6a"
   },
   "outputs": [
    {
     "data": {
      "image/png": "[encoded data removed]",
      "text/plain": [
       "<Figure size 576x288 with 8 Axes>"
      ]
     },
     "metadata": {
      "needs_background": "light"
     },
     "output_type": "display_data"
    }
   ],
   "source": [
    "jj=1\n",
    "plt.figure(figsize=(4*2,2*2))\n",
    "for ii in range(4):\n",
    "    plt.subplot(2,4,jj)\n",
    "    plt.imshow(np.squeeze((d[ii]+0.5).reshape(shape)),cmap='gray',vmin=0, vmax=1)\n",
    "    plt.axis('off')\n",
    "    jj+=1\n",
    "    plt.subplot(2,4,jj)\n",
    "    plt.imshow(np.squeeze((rec[ii]+0.5).reshape(shape)),cmap='gray',vmin=0, vmax=1)\n",
    "    plt.axis('off')\n",
    "    jj+=1\n"
   ]
  },
  {
   "cell_type": "code",
   "execution_count": 103,
   "metadata": {
    "colab": {
     "base_uri": "https://localhost:8080/",
     "height": 548
    },
    "colab_type": "code",
    "id": "RgjwDx6JZLVH",
    "outputId": "8a200255-50f0-4c47-8f18-6319dfe8b665"
   },
   "outputs": [
    {
     "data": {
      "image/png": "[encoded data removed]",
      "text/plain": [
       "<Figure size 720x720 with 16 Axes>"
      ]
     },
     "metadata": {
      "needs_background": "light"
     },
     "output_type": "display_data"
    },
    {
     "data": {
      "image/png": "[encoded data removed]",
      "text/plain": [
       "<Figure size 720x720 with 16 Axes>"
      ]
     },
     "metadata": {
      "needs_background": "light"
     },
     "output_type": "display_data"
    },
    {
     "data": {
      "image/png": "[encoded data removed]",
      "text/plain": [
       "<Figure size 720x720 with 16 Axes>"
      ]
     },
     "metadata": {
      "needs_background": "light"
     },
     "output_type": "display_data"
    },
    {
     "data": {
      "image/png": "[encoded data removed]",
      "text/plain": [
       "<Figure size 720x720 with 16 Axes>"
      ]
     },
     "metadata": {
      "needs_background": "light"
     },
     "output_type": "display_data"
    }
   ],
   "source": [
    "s_no_nvp, s_nvp = sess.run([x_old,x_new])\n",
    "\n",
    "plt.figure(figsize=(10,10))\n",
    "plt.subplots_adjust(left=None, bottom=None, right=None, top=None, wspace=0.05, hspace=0.05)\n",
    "for ii in range(16):\n",
    "    plt.subplot(4,4,ii+1)\n",
    "    plt.imshow(np.squeeze((s_nvp[ii]+0.5).reshape(shape)),cmap='gray',vmin=0, vmax=1)\n",
    "    plt.axis('off')\n",
    "plt.savefig(os.path.join(params['plot_dir'],'NVP_samples.pdf'),bbox_inches='tight')\n",
    "plt.show()\n",
    "plt.figure(figsize=(10,10))\n",
    "plt.subplots_adjust(left=None, bottom=None, right=None, top=None, wspace=0.05, hspace=0.05)\n",
    "for ii in range(16):\n",
    "    plt.subplot(4,4,ii+1)\n",
    "    plt.imshow(np.squeeze((s_no_nvp[ii]+0.5).reshape(shape)),cmap='gray',vmin=0, vmax=1)\n",
    "    plt.axis('off')\n",
    "plt.savefig(os.path.join(params['plot_dir'],'raw_samples.pdf'),bbox_inches='tight')\n",
    "plt.show()\n",
    "plt.figure(figsize=(10,10))\n",
    "plt.subplots_adjust(left=None, bottom=None, right=None, top=None, wspace=0.05, hspace=0.05)\n",
    "for ii in range(16):\n",
    "    plt.subplot(4,4,ii+1)\n",
    "    plt.imshow(np.squeeze((rec[ii]+0.5).reshape(shape)),cmap='gray',vmin=0, vmax=1)\n",
    "    plt.axis('off')\n",
    "plt.savefig(os.path.join(params['plot_dir'],'reconstructions.pdf'),bbox_inches='tight')\n",
    "plt.show()\n",
    "plt.figure(figsize=(10,10))\n",
    "plt.subplots_adjust(left=None, bottom=None, right=None, top=None, wspace=0.05, hspace=0.05)\n",
    "for ii in range(16):\n",
    "    plt.subplot(4,4,ii+1)\n",
    "    plt.imshow(np.squeeze((d[ii]+0.5).reshape(shape)),cmap='gray',vmin=0, vmax=1)\n",
    "    plt.axis('off')\n",
    "plt.savefig(os.path.join(params['plot_dir'],'inputs.pdf'),bbox_inches='tight')\n",
    "plt.show()"
   ]
  },
  {
   "cell_type": "code",
   "execution_count": 101,
   "metadata": {},
   "outputs": [],
   "source": [
    "z_sample_nvp = sess.run(nvp_sample,feed_dict={sample_size:10000})"
   ]
  },
  {
   "cell_type": "code",
   "execution_count": 102,
   "metadata": {
    "colab": {
     "base_uri": "https://localhost:8080/",
     "height": 189
    },
    "colab_type": "code",
    "id": "Wu9VWnXmZLVJ",
    "outputId": "2381a87f-6ebf-44c2-daa0-79c600b03917"
   },
   "outputs": [
    {
     "data": {
      "image/png": "[encoded data removed]",
      "text/plain": [
       "<Figure size 1152x1152 with 20 Axes>"
      ]
     },
     "metadata": {
      "needs_background": "light"
     },
     "output_type": "display_data"
    }
   ],
   "source": [
    "plt.figure(figsize=(16,16))\n",
    "for nn in range(params['latent_size']-params['latent_size']//2):\n",
    "    plt.subplot(8,8,nn+1)\n",
    "    #plt.scatter(prior_s[:5000,nn],prior_s[:5000,nn+1],s=2, label='prior samples') \n",
    "    plt.scatter(z_sample_nvp[:5000,nn],z_sample_nvp[:5000,nn+1],s=2, label='RealNVP samples') \n",
    "    plt.scatter(z_sample_valid[:5000,nn],z_sample_valid[:5000,nn+1],s=1, label='encoded data valid')\n",
    "    plt.scatter(z_sample[:5000,nn],z_sample[:5000,nn+1],s=2, label='encoded data')\n",
    "   \n",
    "    plt.ylabel('dim %d'%nn)\n",
    "    plt.xlabel('dim %d'%(nn+1))\n",
    "    plt.tight_layout()\n",
    "    plt.xlim(-3,3)\n",
    "    plt.ylim(-3,3)\n",
    "plt.legend(loc=(1.02,0.4))\n",
    "plt.savefig(os.path.join(params['plot_dir'],'latent_space_samples.pdf'),bbox_inches='tight')"
   ]
  },
  {
   "cell_type": "code",
   "execution_count": null,
   "metadata": {
    "colab": {
     "base_uri": "https://localhost:8080/",
     "height": 35
    },
    "colab_type": "code",
    "id": "ChWpb2mIZLVR",
    "outputId": "d5f0aada-329c-4d90-866a-8a01f76ab0dd"
   },
   "outputs": [],
   "source": []
  },
  {
   "cell_type": "code",
   "execution_count": 50,
   "metadata": {
    "colab": {},
    "colab_type": "code",
    "id": "XdDkZoh8ZLVT"
   },
   "outputs": [],
   "source": [
    "pickle.dump(params,open(os.path.join(PARAMS_PATH,param_file+'.pkl'),'wb'))"
   ]
  },
  {
   "cell_type": "code",
   "execution_count": null,
   "metadata": {},
   "outputs": [],
   "source": []
  }
 ],
 "metadata": {
  "accelerator": "GPU",
  "colab": {
   "collapsed_sections": [],
   "include_colab_link": true,
   "name": "TrainNVP and measure Reconstruction Noise.ipynb",
   "provenance": []
  },
  "kernelspec": {
   "display_name": "tf22",
   "language": "python",
   "name": "tf22"
  },
  "language_info": {
   "codemirror_mode": {
    "name": "ipython",
    "version": 3
   },
   "file_extension": ".py",
   "mimetype": "text/x-python",
   "name": "python",
   "nbconvert_exporter": "python",
   "pygments_lexer": "ipython3",
   "version": "3.8.3"
  }
 },
 "nbformat": 4,
 "nbformat_minor": 4
}
